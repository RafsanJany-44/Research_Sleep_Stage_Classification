{
  "cells": [
    {
      "cell_type": "markdown",
      "metadata": {
        "id": "view-in-github",
        "colab_type": "text"
      },
      "source": [
        "<a href=\"https://colab.research.google.com/github/RafsanJany-44/Research_Sleep_Stage_Classification/blob/main/ANN_Final.ipynb\" target=\"_parent\"><img src=\"https://colab.research.google.com/assets/colab-badge.svg\" alt=\"Open In Colab\"/></a>"
      ]
    },
    {
      "cell_type": "code",
      "execution_count": 1,
      "metadata": {
        "id": "KPnkjM0D7riO"
      },
      "outputs": [],
      "source": [
        "import tensorflow as tf\n",
        "from tensorflow import keras\n",
        "import matplotlib.pyplot as plt\n",
        "%matplotlib inline\n",
        "import numpy as np\n",
        "import pandas as pd"
      ]
    },
    {
      "cell_type": "code",
      "source": [
        "#Loading Dataset\n",
        "data = pd.read_csv(\"https://raw.githubusercontent.com/RafsanJany-44/Thesis_Project/main/All_DATA/without_sn_and_Epoch/EEG_HMC.csv\")"
      ],
      "metadata": {
        "id": "dBa0SHNFndqo"
      },
      "execution_count": 2,
      "outputs": []
    },
    {
      "cell_type": "code",
      "source": [
        "X = data.iloc[:, 1:].values\n",
        "Y = data.iloc[:, 0].values"
      ],
      "metadata": {
        "id": "6q5hpx-3nHIs"
      },
      "execution_count": 3,
      "outputs": []
    },
    {
      "cell_type": "code",
      "source": [
        "#Encoding Categorical the sleep_stage\n",
        "from sklearn.preprocessing import LabelEncoder\n",
        "LE1 = LabelEncoder()\n",
        "Y = np.array(LE1.fit_transform(Y))"
      ],
      "metadata": {
        "id": "-IUhl3tRnMCu"
      },
      "execution_count": 4,
      "outputs": []
    },
    {
      "cell_type": "code",
      "source": [
        "#Encoding Categorical variable Geography\n",
        "from sklearn.compose import ColumnTransformer\n",
        "from sklearn.preprocessing import OneHotEncoder\n",
        "ct =ColumnTransformer(transformers=[('encoder',OneHotEncoder(),[1])],remainder=\"passthrough\")\n",
        "X = np.array(ct.fit_transform(X))"
      ],
      "metadata": {
        "id": "exC-gMyanMfH"
      },
      "execution_count": 5,
      "outputs": []
    },
    {
      "cell_type": "code",
      "source": [
        "#Splitting dataset into training and testing dataset\n",
        "from sklearn.model_selection import train_test_split\n",
        "X_train,X_test,y_train,y_test = train_test_split(X,Y,test_size=0.2,random_state=0)"
      ],
      "metadata": {
        "id": "X3Gotf3InPYz"
      },
      "execution_count": 6,
      "outputs": []
    },
    {
      "cell_type": "code",
      "source": [
        "#Performing Feature Scaling\n",
        "from sklearn.preprocessing import StandardScaler\n",
        "sc = StandardScaler()\n",
        "X_train = sc.fit_transform(X_train)\n",
        "X_test = sc.transform(X_test)"
      ],
      "metadata": {
        "id": "G-Mxsm15h9qE"
      },
      "execution_count": 7,
      "outputs": []
    },
    {
      "cell_type": "code",
      "execution_count": 8,
      "metadata": {
        "colab": {
          "base_uri": "https://localhost:8080/"
        },
        "id": "tCYh6eOu7rif",
        "outputId": "36675ab9-aea5-4523-c270-23e8455665be"
      },
      "outputs": [
        {
          "output_type": "execute_result",
          "data": {
            "text/plain": [
              "86760"
            ]
          },
          "metadata": {},
          "execution_count": 8
        }
      ],
      "source": [
        "len(X_train)"
      ]
    },
    {
      "cell_type": "code",
      "execution_count": 9,
      "metadata": {
        "colab": {
          "base_uri": "https://localhost:8080/"
        },
        "id": "hwal07Pi7rik",
        "outputId": "760e755b-ff70-4003-ffb5-abd170e2889a"
      },
      "outputs": [
        {
          "output_type": "execute_result",
          "data": {
            "text/plain": [
              "21691"
            ]
          },
          "metadata": {},
          "execution_count": 9
        }
      ],
      "source": [
        "len(X_test)"
      ]
    },
    {
      "cell_type": "code",
      "execution_count": 10,
      "metadata": {
        "colab": {
          "base_uri": "https://localhost:8080/"
        },
        "id": "Mdsvw9Bc7rim",
        "outputId": "523846ff-6756-40e4-8ec8-73c94e8bfd99"
      },
      "outputs": [
        {
          "output_type": "execute_result",
          "data": {
            "text/plain": [
              "(86760, 215)"
            ]
          },
          "metadata": {},
          "execution_count": 10
        }
      ],
      "source": [
        "X_train.shape\n"
      ]
    },
    {
      "cell_type": "code",
      "source": [
        "model = keras.Sequential([\n",
        "    keras.layers.Dense(500, input_shape=(215,), activation='relu'), # input layer\n",
        "    keras.layers.Dense(350, activation='sigmoid'),\n",
        "    keras.layers.Dense(250, activation='sigmoid'),\n",
        "    keras.layers.Dense(150, activation='sigmoid'),\n",
        "    keras.layers.Dense(75, activation='softmax')                    # output layer\n",
        "])\n",
        "\n",
        "'''model = keras.Sequential([\n",
        "    keras.layers.Dense(100, input_shape=(215,), activation='relu'), # input layer\n",
        "    #keras.layers.Dense(350, activation='sigmoid'),\n",
        "    #keras.layers.Dense(250, activation='sigmoid'),\n",
        "    keras.layers.Dense(75, activation='sigmoid'),\n",
        "    keras.layers.Dense(25, activation='softmax')                    # output layer\n",
        "])'''\n",
        "\n",
        "\n",
        "\n",
        "\n",
        "model.compile(optimizer='adam',\n",
        "              loss='sparse_categorical_crossentropy',\n",
        "              metrics=['accuracy'])\n",
        "\n",
        "model.fit(X_train, y_train, epochs=250)"
      ],
      "metadata": {
        "colab": {
          "base_uri": "https://localhost:8080/"
        },
        "id": "7m1Ujz34ZvPh",
        "outputId": "af1939e4-e78f-4fd2-a64b-831d70770d52"
      },
      "execution_count": 18,
      "outputs": [
        {
          "metadata": {
            "tags": null
          },
          "name": "stdout",
          "output_type": "stream",
          "text": [
            "Epoch 1/250\n",
            "2712/2712 [==============================] - 22s 8ms/step - loss: 0.9193 - accuracy: 0.6387\n",
            "Epoch 2/250\n",
            "2712/2712 [==============================] - 20s 7ms/step - loss: 0.7646 - accuracy: 0.6966\n",
            "Epoch 3/250\n",
            "2712/2712 [==============================] - 21s 8ms/step - loss: 0.7104 - accuracy: 0.7198\n",
            "Epoch 4/250\n",
            "2712/2712 [==============================] - 28s 10ms/step - loss: 0.6721 - accuracy: 0.7341\n",
            "Epoch 5/250\n",
            "2712/2712 [==============================] - 23s 8ms/step - loss: 0.6414 - accuracy: 0.7453\n",
            "Epoch 6/250\n",
            "2712/2712 [==============================] - 20s 7ms/step - loss: 0.6148 - accuracy: 0.7564\n",
            "Epoch 7/250\n",
            "2712/2712 [==============================] - 20s 7ms/step - loss: 0.5916 - accuracy: 0.7657\n",
            "Epoch 8/250\n",
            "2712/2712 [==============================] - 20s 7ms/step - loss: 0.5684 - accuracy: 0.7736\n",
            "Epoch 9/250\n",
            "2712/2712 [==============================] - 20s 7ms/step - loss: 0.5476 - accuracy: 0.7820\n",
            "Epoch 10/250\n",
            "2712/2712 [==============================] - 20s 7ms/step - loss: 0.5271 - accuracy: 0.7901\n",
            "Epoch 11/250\n",
            "2712/2712 [==============================] - 20s 7ms/step - loss: 0.5094 - accuracy: 0.7971\n",
            "Epoch 12/250\n",
            "2712/2712 [==============================] - 20s 7ms/step - loss: 0.4893 - accuracy: 0.8047\n",
            "Epoch 13/250\n",
            "2712/2712 [==============================] - 20s 7ms/step - loss: 0.4682 - accuracy: 0.8132\n",
            "Epoch 14/250\n",
            "2712/2712 [==============================] - 20s 7ms/step - loss: 0.4505 - accuracy: 0.8221\n",
            "Epoch 15/250\n",
            "2712/2712 [==============================] - 20s 7ms/step - loss: 0.4317 - accuracy: 0.8269\n",
            "Epoch 16/250\n",
            "2712/2712 [==============================] - 20s 7ms/step - loss: 0.4137 - accuracy: 0.8355\n",
            "Epoch 17/250\n",
            "2712/2712 [==============================] - 20s 7ms/step - loss: 0.3967 - accuracy: 0.8427\n",
            "Epoch 18/250\n",
            "2712/2712 [==============================] - 20s 7ms/step - loss: 0.3781 - accuracy: 0.8494\n",
            "Epoch 19/250\n",
            "2712/2712 [==============================] - 20s 7ms/step - loss: 0.3624 - accuracy: 0.8555\n",
            "Epoch 20/250\n",
            "2712/2712 [==============================] - 20s 7ms/step - loss: 0.3459 - accuracy: 0.8628\n",
            "Epoch 21/250\n",
            "2712/2712 [==============================] - 20s 7ms/step - loss: 0.3299 - accuracy: 0.8700\n",
            "Epoch 22/250\n",
            "2712/2712 [==============================] - 20s 7ms/step - loss: 0.3162 - accuracy: 0.8746\n",
            "Epoch 23/250\n",
            "2712/2712 [==============================] - 20s 7ms/step - loss: 0.2988 - accuracy: 0.8822\n",
            "Epoch 24/250\n",
            "2712/2712 [==============================] - 20s 7ms/step - loss: 0.2876 - accuracy: 0.8870\n",
            "Epoch 25/250\n",
            "2712/2712 [==============================] - 20s 7ms/step - loss: 0.2736 - accuracy: 0.8929\n",
            "Epoch 26/250\n",
            "2712/2712 [==============================] - 20s 7ms/step - loss: 0.2623 - accuracy: 0.8972\n",
            "Epoch 27/250\n",
            "2712/2712 [==============================] - 20s 7ms/step - loss: 0.2516 - accuracy: 0.9016\n",
            "Epoch 28/250\n",
            "2712/2712 [==============================] - 20s 7ms/step - loss: 0.2409 - accuracy: 0.9056\n",
            "Epoch 29/250\n",
            "2712/2712 [==============================] - 20s 7ms/step - loss: 0.2310 - accuracy: 0.9093\n",
            "Epoch 30/250\n",
            "2712/2712 [==============================] - 20s 7ms/step - loss: 0.2247 - accuracy: 0.9125\n",
            "Epoch 31/250\n",
            "2712/2712 [==============================] - 20s 7ms/step - loss: 0.2131 - accuracy: 0.9167\n",
            "Epoch 32/250\n",
            "2712/2712 [==============================] - 20s 7ms/step - loss: 0.2091 - accuracy: 0.9186\n",
            "Epoch 33/250\n",
            "2712/2712 [==============================] - 20s 7ms/step - loss: 0.2025 - accuracy: 0.9220\n",
            "Epoch 34/250\n",
            "2712/2712 [==============================] - 20s 7ms/step - loss: 0.1954 - accuracy: 0.9243\n",
            "Epoch 35/250\n",
            "2712/2712 [==============================] - 19s 7ms/step - loss: 0.1883 - accuracy: 0.9275\n",
            "Epoch 36/250\n",
            "2712/2712 [==============================] - 20s 7ms/step - loss: 0.1825 - accuracy: 0.9304\n",
            "Epoch 37/250\n",
            "2712/2712 [==============================] - 20s 7ms/step - loss: 0.1797 - accuracy: 0.9310\n",
            "Epoch 38/250\n",
            "2712/2712 [==============================] - 23s 9ms/step - loss: 0.1738 - accuracy: 0.9331\n",
            "Epoch 39/250\n",
            "2712/2712 [==============================] - 20s 7ms/step - loss: 0.1717 - accuracy: 0.9344\n",
            "Epoch 40/250\n",
            "2712/2712 [==============================] - 20s 7ms/step - loss: 0.1701 - accuracy: 0.9358\n",
            "Epoch 41/250\n",
            "2712/2712 [==============================] - 20s 7ms/step - loss: 0.1623 - accuracy: 0.9380\n",
            "Epoch 42/250\n",
            "2712/2712 [==============================] - 20s 7ms/step - loss: 0.1634 - accuracy: 0.9379\n",
            "Epoch 43/250\n",
            "2712/2712 [==============================] - 20s 7ms/step - loss: 0.1566 - accuracy: 0.9403\n",
            "Epoch 44/250\n",
            "2712/2712 [==============================] - 20s 7ms/step - loss: 0.1541 - accuracy: 0.9413\n",
            "Epoch 45/250\n",
            "2712/2712 [==============================] - 20s 7ms/step - loss: 0.1542 - accuracy: 0.9415\n",
            "Epoch 46/250\n",
            "2712/2712 [==============================] - 20s 7ms/step - loss: 0.1468 - accuracy: 0.9444\n",
            "Epoch 47/250\n",
            "2712/2712 [==============================] - 19s 7ms/step - loss: 0.1499 - accuracy: 0.9423\n",
            "Epoch 48/250\n",
            "2712/2712 [==============================] - 20s 7ms/step - loss: 0.1449 - accuracy: 0.9457\n",
            "Epoch 49/250\n",
            "2712/2712 [==============================] - 20s 7ms/step - loss: 0.1451 - accuracy: 0.9453\n",
            "Epoch 50/250\n",
            "2712/2712 [==============================] - 19s 7ms/step - loss: 0.1411 - accuracy: 0.9475\n",
            "Epoch 51/250\n",
            "2712/2712 [==============================] - 20s 7ms/step - loss: 0.1405 - accuracy: 0.9463\n",
            "Epoch 52/250\n",
            "2712/2712 [==============================] - 20s 7ms/step - loss: 0.1395 - accuracy: 0.9474\n",
            "Epoch 53/250\n",
            "2712/2712 [==============================] - 20s 7ms/step - loss: 0.1349 - accuracy: 0.9491\n",
            "Epoch 54/250\n",
            "2712/2712 [==============================] - 20s 7ms/step - loss: 0.1365 - accuracy: 0.9484\n",
            "Epoch 55/250\n",
            "2712/2712 [==============================] - 20s 7ms/step - loss: 0.1341 - accuracy: 0.9491\n",
            "Epoch 56/250\n",
            "2712/2712 [==============================] - 20s 7ms/step - loss: 0.1319 - accuracy: 0.9503\n",
            "Epoch 57/250\n",
            "2712/2712 [==============================] - 20s 7ms/step - loss: 0.1340 - accuracy: 0.9495\n",
            "Epoch 58/250\n",
            "2712/2712 [==============================] - 20s 7ms/step - loss: 0.1299 - accuracy: 0.9512\n",
            "Epoch 59/250\n",
            "2712/2712 [==============================] - 20s 7ms/step - loss: 0.1296 - accuracy: 0.9504\n",
            "Epoch 60/250\n",
            "2712/2712 [==============================] - 20s 7ms/step - loss: 0.1278 - accuracy: 0.9517\n",
            "Epoch 61/250\n",
            "2712/2712 [==============================] - 20s 7ms/step - loss: 0.1313 - accuracy: 0.9507\n",
            "Epoch 62/250\n",
            "2712/2712 [==============================] - 20s 7ms/step - loss: 0.1239 - accuracy: 0.9530\n",
            "Epoch 63/250\n",
            "2712/2712 [==============================] - 20s 7ms/step - loss: 0.1218 - accuracy: 0.9544\n",
            "Epoch 64/250\n",
            "2712/2712 [==============================] - 33s 12ms/step - loss: 0.1217 - accuracy: 0.9544\n",
            "Epoch 65/250\n",
            "2712/2712 [==============================] - 20s 8ms/step - loss: 0.1241 - accuracy: 0.9532\n",
            "Epoch 66/250\n",
            "2712/2712 [==============================] - 20s 7ms/step - loss: 0.1217 - accuracy: 0.9541\n",
            "Epoch 67/250\n",
            "2712/2712 [==============================] - 20s 7ms/step - loss: 0.1198 - accuracy: 0.9554\n",
            "Epoch 68/250\n",
            "2712/2712 [==============================] - 20s 7ms/step - loss: 0.1227 - accuracy: 0.9535\n",
            "Epoch 69/250\n",
            "2712/2712 [==============================] - 21s 8ms/step - loss: 0.1203 - accuracy: 0.9552\n",
            "Epoch 70/250\n",
            "2712/2712 [==============================] - 20s 7ms/step - loss: 0.1209 - accuracy: 0.9544\n",
            "Epoch 71/250\n",
            "2712/2712 [==============================] - 20s 7ms/step - loss: 0.1180 - accuracy: 0.9554\n",
            "Epoch 72/250\n",
            "2712/2712 [==============================] - 20s 7ms/step - loss: 0.1169 - accuracy: 0.9554\n",
            "Epoch 73/250\n",
            "2712/2712 [==============================] - 20s 7ms/step - loss: 0.1154 - accuracy: 0.9566\n",
            "Epoch 74/250\n",
            "2712/2712 [==============================] - 22s 8ms/step - loss: 0.1154 - accuracy: 0.9563\n",
            "Epoch 75/250\n",
            "2712/2712 [==============================] - 20s 7ms/step - loss: 0.1162 - accuracy: 0.9559\n",
            "Epoch 76/250\n",
            "2712/2712 [==============================] - 20s 7ms/step - loss: 0.1158 - accuracy: 0.9562\n",
            "Epoch 77/250\n",
            "2712/2712 [==============================] - 20s 7ms/step - loss: 0.1144 - accuracy: 0.9566\n",
            "Epoch 78/250\n",
            "2712/2712 [==============================] - 20s 7ms/step - loss: 0.1120 - accuracy: 0.9580\n",
            "Epoch 79/250\n",
            "2712/2712 [==============================] - 20s 7ms/step - loss: 0.1132 - accuracy: 0.9567\n",
            "Epoch 80/250\n",
            "2712/2712 [==============================] - 20s 7ms/step - loss: 0.1120 - accuracy: 0.9574\n",
            "Epoch 81/250\n",
            "2712/2712 [==============================] - 20s 7ms/step - loss: 0.1123 - accuracy: 0.9576\n",
            "Epoch 82/250\n",
            "2712/2712 [==============================] - 20s 8ms/step - loss: 0.1131 - accuracy: 0.9576\n",
            "Epoch 83/250\n",
            "2712/2712 [==============================] - 21s 8ms/step - loss: 0.1113 - accuracy: 0.9584\n",
            "Epoch 84/250\n",
            "2712/2712 [==============================] - 21s 8ms/step - loss: 0.1100 - accuracy: 0.9585\n",
            "Epoch 85/250\n",
            "2712/2712 [==============================] - 20s 7ms/step - loss: 0.1120 - accuracy: 0.9578\n",
            "Epoch 86/250\n",
            "2712/2712 [==============================] - 20s 8ms/step - loss: 0.1101 - accuracy: 0.9591\n",
            "Epoch 87/250\n",
            "2712/2712 [==============================] - 21s 8ms/step - loss: 0.1084 - accuracy: 0.9592\n",
            "Epoch 88/250\n",
            "2712/2712 [==============================] - 20s 8ms/step - loss: 0.1088 - accuracy: 0.9593\n",
            "Epoch 89/250\n",
            "2712/2712 [==============================] - 21s 8ms/step - loss: 0.1075 - accuracy: 0.9594\n",
            "Epoch 90/250\n",
            "2712/2712 [==============================] - 21s 8ms/step - loss: 0.1056 - accuracy: 0.9598\n",
            "Epoch 91/250\n",
            "2712/2712 [==============================] - 20s 8ms/step - loss: 0.1060 - accuracy: 0.9595\n",
            "Epoch 92/250\n",
            "2712/2712 [==============================] - 21s 8ms/step - loss: 0.1063 - accuracy: 0.9602\n",
            "Epoch 93/250\n",
            "2712/2712 [==============================] - 21s 8ms/step - loss: 0.1079 - accuracy: 0.9590\n",
            "Epoch 94/250\n",
            "2712/2712 [==============================] - 21s 8ms/step - loss: 0.1057 - accuracy: 0.9598\n",
            "Epoch 95/250\n",
            "2712/2712 [==============================] - 21s 8ms/step - loss: 0.1073 - accuracy: 0.9597\n",
            "Epoch 96/250\n",
            "2712/2712 [==============================] - 21s 8ms/step - loss: 0.1062 - accuracy: 0.9598\n",
            "Epoch 97/250\n",
            "2712/2712 [==============================] - 21s 8ms/step - loss: 0.1061 - accuracy: 0.9598\n",
            "Epoch 98/250\n",
            "2712/2712 [==============================] - 21s 8ms/step - loss: 0.1041 - accuracy: 0.9608\n",
            "Epoch 99/250\n",
            "2712/2712 [==============================] - 21s 8ms/step - loss: 0.1041 - accuracy: 0.9610\n",
            "Epoch 100/250\n",
            "2712/2712 [==============================] - 21s 8ms/step - loss: 0.1048 - accuracy: 0.9600\n",
            "Epoch 101/250\n",
            "2712/2712 [==============================] - 21s 8ms/step - loss: 0.1051 - accuracy: 0.9604\n",
            "Epoch 102/250\n",
            "2712/2712 [==============================] - 21s 8ms/step - loss: 0.1010 - accuracy: 0.9616\n",
            "Epoch 103/250\n",
            "2712/2712 [==============================] - 21s 8ms/step - loss: 0.1047 - accuracy: 0.9609\n",
            "Epoch 104/250\n",
            "2712/2712 [==============================] - 21s 8ms/step - loss: 0.1031 - accuracy: 0.9609\n",
            "Epoch 105/250\n",
            "2712/2712 [==============================] - 21s 8ms/step - loss: 0.1011 - accuracy: 0.9618\n",
            "Epoch 106/250\n",
            "2712/2712 [==============================] - 21s 8ms/step - loss: 0.1023 - accuracy: 0.9619\n",
            "Epoch 107/250\n",
            "2712/2712 [==============================] - 21s 8ms/step - loss: 0.1018 - accuracy: 0.9615\n",
            "Epoch 108/250\n",
            "2712/2712 [==============================] - 21s 8ms/step - loss: 0.1051 - accuracy: 0.9610\n",
            "Epoch 109/250\n",
            "2712/2712 [==============================] - 21s 8ms/step - loss: 0.1017 - accuracy: 0.9616\n",
            "Epoch 110/250\n",
            "2712/2712 [==============================] - 21s 8ms/step - loss: 0.1024 - accuracy: 0.9608\n",
            "Epoch 111/250\n",
            "2712/2712 [==============================] - 21s 8ms/step - loss: 0.1019 - accuracy: 0.9618\n",
            "Epoch 112/250\n",
            "2712/2712 [==============================] - 21s 8ms/step - loss: 0.1019 - accuracy: 0.9615\n",
            "Epoch 113/250\n",
            "2712/2712 [==============================] - 21s 8ms/step - loss: 0.1029 - accuracy: 0.9614\n",
            "Epoch 114/250\n",
            "2712/2712 [==============================] - 20s 7ms/step - loss: 0.0989 - accuracy: 0.9621\n",
            "Epoch 115/250\n",
            "2712/2712 [==============================] - 20s 7ms/step - loss: 0.1002 - accuracy: 0.9617\n",
            "Epoch 116/250\n",
            "2712/2712 [==============================] - 20s 7ms/step - loss: 0.1004 - accuracy: 0.9623\n",
            "Epoch 117/250\n",
            "2712/2712 [==============================] - 20s 8ms/step - loss: 0.1025 - accuracy: 0.9617\n",
            "Epoch 118/250\n",
            "2712/2712 [==============================] - 21s 8ms/step - loss: 0.0997 - accuracy: 0.9625\n",
            "Epoch 119/250\n",
            "2712/2712 [==============================] - 21s 8ms/step - loss: 0.0993 - accuracy: 0.9626\n",
            "Epoch 120/250\n",
            "2712/2712 [==============================] - 20s 8ms/step - loss: 0.1014 - accuracy: 0.9612\n",
            "Epoch 121/250\n",
            "2712/2712 [==============================] - 21s 8ms/step - loss: 0.0989 - accuracy: 0.9627\n",
            "Epoch 122/250\n",
            "2712/2712 [==============================] - 20s 8ms/step - loss: 0.0990 - accuracy: 0.9626\n",
            "Epoch 123/250\n",
            "2712/2712 [==============================] - 20s 8ms/step - loss: 0.0978 - accuracy: 0.9630\n",
            "Epoch 124/250\n",
            "2712/2712 [==============================] - 21s 8ms/step - loss: 0.1010 - accuracy: 0.9616\n",
            "Epoch 125/250\n",
            "2712/2712 [==============================] - 21s 8ms/step - loss: 0.0986 - accuracy: 0.9630\n",
            "Epoch 126/250\n",
            "2712/2712 [==============================] - 21s 8ms/step - loss: 0.1002 - accuracy: 0.9626\n",
            "Epoch 127/250\n",
            "2712/2712 [==============================] - 21s 8ms/step - loss: 0.0941 - accuracy: 0.9641\n",
            "Epoch 128/250\n",
            "2712/2712 [==============================] - 20s 8ms/step - loss: 0.1001 - accuracy: 0.9627\n",
            "Epoch 129/250\n",
            "2712/2712 [==============================] - 20s 8ms/step - loss: 0.1003 - accuracy: 0.9624\n",
            "Epoch 130/250\n",
            "2712/2712 [==============================] - 20s 8ms/step - loss: 0.1005 - accuracy: 0.9619\n",
            "Epoch 131/250\n",
            "2712/2712 [==============================] - 20s 7ms/step - loss: 0.0977 - accuracy: 0.9633\n",
            "Epoch 132/250\n",
            "2712/2712 [==============================] - 21s 8ms/step - loss: 0.0996 - accuracy: 0.9628\n",
            "Epoch 133/250\n",
            "2712/2712 [==============================] - 21s 8ms/step - loss: 0.0987 - accuracy: 0.9624\n",
            "Epoch 134/250\n",
            "2712/2712 [==============================] - 21s 8ms/step - loss: 0.0982 - accuracy: 0.9631\n",
            "Epoch 135/250\n",
            "2712/2712 [==============================] - 21s 8ms/step - loss: 0.0971 - accuracy: 0.9633\n",
            "Epoch 136/250\n",
            "2712/2712 [==============================] - 21s 8ms/step - loss: 0.0989 - accuracy: 0.9630\n",
            "Epoch 137/250\n",
            "2712/2712 [==============================] - 21s 8ms/step - loss: 0.0972 - accuracy: 0.9632\n",
            "Epoch 138/250\n",
            "2712/2712 [==============================] - 20s 8ms/step - loss: 0.0993 - accuracy: 0.9630\n",
            "Epoch 139/250\n",
            "2712/2712 [==============================] - 20s 8ms/step - loss: 0.0968 - accuracy: 0.9632\n",
            "Epoch 140/250\n",
            "2712/2712 [==============================] - 21s 8ms/step - loss: 0.0963 - accuracy: 0.9633\n",
            "Epoch 141/250\n",
            "2712/2712 [==============================] - 21s 8ms/step - loss: 0.0967 - accuracy: 0.9634\n",
            "Epoch 142/250\n",
            "2712/2712 [==============================] - 21s 8ms/step - loss: 0.0951 - accuracy: 0.9633\n",
            "Epoch 143/250\n",
            "2712/2712 [==============================] - 20s 8ms/step - loss: 0.0968 - accuracy: 0.9635\n",
            "Epoch 144/250\n",
            "2712/2712 [==============================] - 21s 8ms/step - loss: 0.0955 - accuracy: 0.9638\n",
            "Epoch 145/250\n",
            "2712/2712 [==============================] - 21s 8ms/step - loss: 0.0973 - accuracy: 0.9628\n",
            "Epoch 146/250\n",
            "2712/2712 [==============================] - 21s 8ms/step - loss: 0.0946 - accuracy: 0.9647\n",
            "Epoch 147/250\n",
            "2712/2712 [==============================] - 21s 8ms/step - loss: 0.0962 - accuracy: 0.9636\n",
            "Epoch 148/250\n",
            "2712/2712 [==============================] - 21s 8ms/step - loss: 0.0955 - accuracy: 0.9642\n",
            "Epoch 149/250\n",
            "2712/2712 [==============================] - 20s 8ms/step - loss: 0.0957 - accuracy: 0.9639\n",
            "Epoch 150/250\n",
            "2712/2712 [==============================] - 21s 8ms/step - loss: 0.0947 - accuracy: 0.9646\n",
            "Epoch 151/250\n",
            "2712/2712 [==============================] - 21s 8ms/step - loss: 0.0937 - accuracy: 0.9646\n",
            "Epoch 152/250\n",
            "2712/2712 [==============================] - 20s 8ms/step - loss: 0.0938 - accuracy: 0.9645\n",
            "Epoch 153/250\n",
            "2712/2712 [==============================] - 21s 8ms/step - loss: 0.0931 - accuracy: 0.9651\n",
            "Epoch 154/250\n",
            "2712/2712 [==============================] - 21s 8ms/step - loss: 0.0951 - accuracy: 0.9645\n",
            "Epoch 155/250\n",
            "2712/2712 [==============================] - 21s 8ms/step - loss: 0.0933 - accuracy: 0.9654\n",
            "Epoch 156/250\n",
            "2712/2712 [==============================] - 21s 8ms/step - loss: 0.0970 - accuracy: 0.9635\n",
            "Epoch 157/250\n",
            "2712/2712 [==============================] - 21s 8ms/step - loss: 0.0971 - accuracy: 0.9633\n",
            "Epoch 158/250\n",
            "2712/2712 [==============================] - 21s 8ms/step - loss: 0.0919 - accuracy: 0.9658\n",
            "Epoch 159/250\n",
            "2712/2712 [==============================] - 21s 8ms/step - loss: 0.0958 - accuracy: 0.9637\n",
            "Epoch 160/250\n",
            "2712/2712 [==============================] - 21s 8ms/step - loss: 0.0935 - accuracy: 0.9648\n",
            "Epoch 161/250\n",
            "2712/2712 [==============================] - 21s 8ms/step - loss: 0.0937 - accuracy: 0.9644\n",
            "Epoch 162/250\n",
            "2712/2712 [==============================] - 21s 8ms/step - loss: 0.0944 - accuracy: 0.9641\n",
            "Epoch 163/250\n",
            "2712/2712 [==============================] - 21s 8ms/step - loss: 0.0957 - accuracy: 0.9635\n",
            "Epoch 164/250\n",
            "2712/2712 [==============================] - 21s 8ms/step - loss: 0.0949 - accuracy: 0.9644\n",
            "Epoch 165/250\n",
            "2712/2712 [==============================] - 21s 8ms/step - loss: 0.0955 - accuracy: 0.9643\n",
            "Epoch 166/250\n",
            "2712/2712 [==============================] - 21s 8ms/step - loss: 0.0944 - accuracy: 0.9642\n",
            "Epoch 167/250\n",
            "2712/2712 [==============================] - 21s 8ms/step - loss: 0.0940 - accuracy: 0.9644\n",
            "Epoch 168/250\n",
            "2712/2712 [==============================] - 21s 8ms/step - loss: 0.0925 - accuracy: 0.9651\n",
            "Epoch 169/250\n",
            "2712/2712 [==============================] - 21s 8ms/step - loss: 0.0954 - accuracy: 0.9641\n",
            "Epoch 170/250\n",
            "2712/2712 [==============================] - 21s 8ms/step - loss: 0.0911 - accuracy: 0.9656\n",
            "Epoch 171/250\n",
            "2712/2712 [==============================] - 22s 8ms/step - loss: 0.0934 - accuracy: 0.9647\n",
            "Epoch 172/250\n",
            "2712/2712 [==============================] - 21s 8ms/step - loss: 0.0941 - accuracy: 0.9645\n",
            "Epoch 173/250\n",
            "2712/2712 [==============================] - 22s 8ms/step - loss: 0.0941 - accuracy: 0.9649\n",
            "Epoch 174/250\n",
            "2712/2712 [==============================] - 21s 8ms/step - loss: 0.0950 - accuracy: 0.9644\n",
            "Epoch 175/250\n",
            "2712/2712 [==============================] - 21s 8ms/step - loss: 0.0904 - accuracy: 0.9664\n",
            "Epoch 176/250\n",
            "2712/2712 [==============================] - 22s 8ms/step - loss: 0.0945 - accuracy: 0.9648\n",
            "Epoch 177/250\n",
            "2712/2712 [==============================] - 21s 8ms/step - loss: 0.0911 - accuracy: 0.9658\n",
            "Epoch 178/250\n",
            "2712/2712 [==============================] - 22s 8ms/step - loss: 0.0927 - accuracy: 0.9652\n",
            "Epoch 179/250\n",
            "2712/2712 [==============================] - 22s 8ms/step - loss: 0.0952 - accuracy: 0.9646\n",
            "Epoch 180/250\n",
            "2712/2712 [==============================] - 21s 8ms/step - loss: 0.0934 - accuracy: 0.9645\n",
            "Epoch 181/250\n",
            "2712/2712 [==============================] - 22s 8ms/step - loss: 0.0950 - accuracy: 0.9649\n",
            "Epoch 182/250\n",
            "2712/2712 [==============================] - 21s 8ms/step - loss: 0.0916 - accuracy: 0.9657\n",
            "Epoch 183/250\n",
            "2712/2712 [==============================] - 21s 8ms/step - loss: 0.0925 - accuracy: 0.9656\n",
            "Epoch 184/250\n",
            "2712/2712 [==============================] - 22s 8ms/step - loss: 0.0932 - accuracy: 0.9652\n",
            "Epoch 185/250\n",
            "2712/2712 [==============================] - 21s 8ms/step - loss: 0.0905 - accuracy: 0.9660\n",
            "Epoch 186/250\n",
            "2712/2712 [==============================] - 21s 8ms/step - loss: 0.0934 - accuracy: 0.9643\n",
            "Epoch 187/250\n",
            "2712/2712 [==============================] - 21s 8ms/step - loss: 0.0941 - accuracy: 0.9649\n",
            "Epoch 188/250\n",
            "2712/2712 [==============================] - 21s 8ms/step - loss: 0.0927 - accuracy: 0.9652\n",
            "Epoch 189/250\n",
            "2712/2712 [==============================] - 21s 8ms/step - loss: 0.0921 - accuracy: 0.9653\n",
            "Epoch 190/250\n",
            "2712/2712 [==============================] - 21s 8ms/step - loss: 0.0909 - accuracy: 0.9660\n",
            "Epoch 191/250\n",
            "2712/2712 [==============================] - 21s 8ms/step - loss: 0.0905 - accuracy: 0.9653\n",
            "Epoch 192/250\n",
            "2712/2712 [==============================] - 21s 8ms/step - loss: 0.0910 - accuracy: 0.9656\n",
            "Epoch 193/250\n",
            "2712/2712 [==============================] - 21s 8ms/step - loss: 0.0892 - accuracy: 0.9661\n",
            "Epoch 194/250\n",
            "2712/2712 [==============================] - 21s 8ms/step - loss: 0.0916 - accuracy: 0.9661\n",
            "Epoch 195/250\n",
            "2712/2712 [==============================] - 21s 8ms/step - loss: 0.0905 - accuracy: 0.9660\n",
            "Epoch 196/250\n",
            "2712/2712 [==============================] - 21s 8ms/step - loss: 0.0907 - accuracy: 0.9657\n",
            "Epoch 197/250\n",
            "2712/2712 [==============================] - 21s 8ms/step - loss: 0.0911 - accuracy: 0.9657\n",
            "Epoch 198/250\n",
            "2712/2712 [==============================] - 21s 8ms/step - loss: 0.0956 - accuracy: 0.9646\n",
            "Epoch 199/250\n",
            "2712/2712 [==============================] - 21s 8ms/step - loss: 0.0910 - accuracy: 0.9657\n",
            "Epoch 200/250\n",
            "2712/2712 [==============================] - 21s 8ms/step - loss: 0.0914 - accuracy: 0.9658\n",
            "Epoch 201/250\n",
            "2712/2712 [==============================] - 21s 8ms/step - loss: 0.0890 - accuracy: 0.9667\n",
            "Epoch 202/250\n",
            "2712/2712 [==============================] - 21s 8ms/step - loss: 0.0936 - accuracy: 0.9643\n",
            "Epoch 203/250\n",
            "2712/2712 [==============================] - 21s 8ms/step - loss: 0.0934 - accuracy: 0.9648\n",
            "Epoch 204/250\n",
            "2712/2712 [==============================] - 21s 8ms/step - loss: 0.0910 - accuracy: 0.9655\n",
            "Epoch 205/250\n",
            "2712/2712 [==============================] - 21s 8ms/step - loss: 0.0901 - accuracy: 0.9664\n",
            "Epoch 206/250\n",
            "2712/2712 [==============================] - 21s 8ms/step - loss: 0.0891 - accuracy: 0.9665\n",
            "Epoch 207/250\n",
            "2712/2712 [==============================] - 21s 8ms/step - loss: 0.0906 - accuracy: 0.9661\n",
            "Epoch 208/250\n",
            "2712/2712 [==============================] - 21s 8ms/step - loss: 0.0925 - accuracy: 0.9654\n",
            "Epoch 209/250\n",
            "2712/2712 [==============================] - 21s 8ms/step - loss: 0.0874 - accuracy: 0.9673\n",
            "Epoch 210/250\n",
            "2712/2712 [==============================] - 21s 8ms/step - loss: 0.0923 - accuracy: 0.9652\n",
            "Epoch 211/250\n",
            "2712/2712 [==============================] - 21s 8ms/step - loss: 0.0897 - accuracy: 0.9666\n",
            "Epoch 212/250\n",
            "2712/2712 [==============================] - 21s 8ms/step - loss: 0.0894 - accuracy: 0.9657\n",
            "Epoch 213/250\n",
            "2712/2712 [==============================] - 21s 8ms/step - loss: 0.0895 - accuracy: 0.9663\n",
            "Epoch 214/250\n",
            "2712/2712 [==============================] - 21s 8ms/step - loss: 0.0914 - accuracy: 0.9659\n",
            "Epoch 215/250\n",
            "2712/2712 [==============================] - 21s 8ms/step - loss: 0.0899 - accuracy: 0.9657\n",
            "Epoch 216/250\n",
            "2712/2712 [==============================] - 21s 8ms/step - loss: 0.0913 - accuracy: 0.9661\n",
            "Epoch 217/250\n",
            "2712/2712 [==============================] - 21s 8ms/step - loss: 0.0904 - accuracy: 0.9660\n",
            "Epoch 218/250\n",
            "2712/2712 [==============================] - 21s 8ms/step - loss: 0.0939 - accuracy: 0.9643\n",
            "Epoch 219/250\n",
            "2712/2712 [==============================] - 21s 8ms/step - loss: 0.0884 - accuracy: 0.9664\n",
            "Epoch 220/250\n",
            "2712/2712 [==============================] - 21s 8ms/step - loss: 0.0913 - accuracy: 0.9660\n",
            "Epoch 221/250\n",
            "2712/2712 [==============================] - 21s 8ms/step - loss: 0.0872 - accuracy: 0.9670\n",
            "Epoch 222/250\n",
            "2712/2712 [==============================] - 21s 8ms/step - loss: 0.0912 - accuracy: 0.9657\n",
            "Epoch 223/250\n",
            "2712/2712 [==============================] - 21s 8ms/step - loss: 0.0898 - accuracy: 0.9668\n",
            "Epoch 224/250\n",
            "2712/2712 [==============================] - 21s 8ms/step - loss: 0.0887 - accuracy: 0.9666\n",
            "Epoch 225/250\n",
            "2712/2712 [==============================] - 21s 8ms/step - loss: 0.0915 - accuracy: 0.9660\n",
            "Epoch 226/250\n",
            "2712/2712 [==============================] - 21s 8ms/step - loss: 0.0883 - accuracy: 0.9665\n",
            "Epoch 227/250\n",
            "2712/2712 [==============================] - 22s 8ms/step - loss: 0.0886 - accuracy: 0.9660\n",
            "Epoch 228/250\n",
            "2712/2712 [==============================] - 21s 8ms/step - loss: 0.0877 - accuracy: 0.9667\n",
            "Epoch 229/250\n",
            "2712/2712 [==============================] - 21s 8ms/step - loss: 0.0889 - accuracy: 0.9663\n",
            "Epoch 230/250\n",
            "2712/2712 [==============================] - 21s 8ms/step - loss: 0.0902 - accuracy: 0.9657\n",
            "Epoch 231/250\n",
            "2712/2712 [==============================] - 21s 8ms/step - loss: 0.0908 - accuracy: 0.9658\n",
            "Epoch 232/250\n",
            "2712/2712 [==============================] - 21s 8ms/step - loss: 0.0892 - accuracy: 0.9667\n",
            "Epoch 233/250\n",
            "2712/2712 [==============================] - 21s 8ms/step - loss: 0.0880 - accuracy: 0.9667\n",
            "Epoch 234/250\n",
            "2712/2712 [==============================] - 21s 8ms/step - loss: 0.0913 - accuracy: 0.9652\n",
            "Epoch 235/250\n",
            "2712/2712 [==============================] - 21s 8ms/step - loss: 0.0916 - accuracy: 0.9651\n",
            "Epoch 236/250\n",
            "2712/2712 [==============================] - 21s 8ms/step - loss: 0.0893 - accuracy: 0.9665\n",
            "Epoch 237/250\n",
            "2712/2712 [==============================] - 21s 8ms/step - loss: 0.0874 - accuracy: 0.9670\n",
            "Epoch 238/250\n",
            "2712/2712 [==============================] - 21s 8ms/step - loss: 0.0896 - accuracy: 0.9661\n",
            "Epoch 239/250\n",
            "2712/2712 [==============================] - 21s 8ms/step - loss: 0.0898 - accuracy: 0.9664\n",
            "Epoch 240/250\n",
            "2712/2712 [==============================] - 21s 8ms/step - loss: 0.0909 - accuracy: 0.9657\n",
            "Epoch 241/250\n",
            "2712/2712 [==============================] - 21s 8ms/step - loss: 0.0925 - accuracy: 0.9651\n",
            "Epoch 242/250\n",
            "2712/2712 [==============================] - 21s 8ms/step - loss: 0.0905 - accuracy: 0.9660\n",
            "Epoch 243/250\n",
            "2712/2712 [==============================] - 21s 8ms/step - loss: 0.0898 - accuracy: 0.9657\n",
            "Epoch 244/250\n",
            "2712/2712 [==============================] - 21s 8ms/step - loss: 0.0879 - accuracy: 0.9669\n",
            "Epoch 245/250\n",
            "2712/2712 [==============================] - 21s 8ms/step - loss: 0.0920 - accuracy: 0.9653\n",
            "Epoch 246/250\n",
            "2712/2712 [==============================] - 21s 8ms/step - loss: 0.0891 - accuracy: 0.9660\n",
            "Epoch 247/250\n",
            "2712/2712 [==============================] - 21s 8ms/step - loss: 0.0905 - accuracy: 0.9662\n",
            "Epoch 248/250\n",
            "2712/2712 [==============================] - 21s 8ms/step - loss: 0.0884 - accuracy: 0.9666\n",
            "Epoch 249/250\n",
            "2712/2712 [==============================] - 21s 8ms/step - loss: 0.0906 - accuracy: 0.9659\n",
            "Epoch 250/250\n",
            "2712/2712 [==============================] - 21s 8ms/step - loss: 0.0882 - accuracy: 0.9674\n"
          ]
        },
        {
          "data": {
            "text/plain": [
              "<keras.callbacks.History at 0x7fcefb1df610>"
            ]
          },
          "execution_count": null,
          "metadata": {},
          "output_type": "execute_result"
        }
      ]
    },
    {
      "cell_type": "code",
      "execution_count": null,
      "metadata": {
        "id": "3itZB-Rc7ri7"
      },
      "outputs": [],
      "source": [
        "model.evaluate(X_test, y_test)"
      ]
    },
    {
      "cell_type": "markdown",
      "source": [
        "#Confusion Matrix"
      ],
      "metadata": {
        "id": "HxpfDtWKbOPu"
      }
    },
    {
      "cell_type": "code",
      "execution_count": 20,
      "metadata": {
        "id": "zW7SM71J7rkT"
      },
      "outputs": [],
      "source": [
        "y_predicted = model.predict(X_test)\n",
        "y_predicted_labels = [np.argmax(i) for i in y_predicted]"
      ]
    },
    {
      "cell_type": "code",
      "source": [
        "from sklearn.metrics import classification_report, confusion_matrix, accuracy_score\n",
        "print(confusion_matrix(y_test, y_predicted_labels))\n",
        "print(classification_report(y_test,y_predicted_labels))\n",
        "print(\"Accurecy: \",accuracy_score(y_test, y_predicted_labels))"
      ],
      "metadata": {
        "id": "hPbDM_U8sVLw",
        "outputId": "56b5ef21-9e81-47b5-d62b-42937619a26b",
        "colab": {
          "base_uri": "https://localhost:8080/"
        }
      },
      "execution_count": 21,
      "outputs": [
        {
          "output_type": "stream",
          "name": "stdout",
          "text": [
            "[[ 886  635   29  328  490]\n",
            " [ 425 6108  854  352  152]\n",
            " [  16  734 3460   21   23]\n",
            " [ 259  491   29 2515   80]\n",
            " [ 385  204   23   80 3112]]\n",
            "              precision    recall  f1-score   support\n",
            "\n",
            "           0       0.45      0.37      0.41      2368\n",
            "           1       0.75      0.77      0.76      7891\n",
            "           2       0.79      0.81      0.80      4254\n",
            "           3       0.76      0.75      0.75      3374\n",
            "           4       0.81      0.82      0.81      3804\n",
            "\n",
            "    accuracy                           0.74     21691\n",
            "   macro avg       0.71      0.71      0.71     21691\n",
            "weighted avg       0.74      0.74      0.74     21691\n",
            "\n",
            "Accurecy:  0.7413673873956941\n"
          ]
        }
      ]
    },
    {
      "cell_type": "markdown",
      "metadata": {
        "id": "rfQIjY8f7rkT"
      },
      "source": [
        "**Now we need to draw the confusion matrix to show where our model is doing mistakes**\n",
        "<br>\n",
        "<br>\n",
        "***Tensorflow has its own confusion matrix function where \"labels\" is the truth data and \"predictions\" is the predicted data***"
      ]
    },
    {
      "cell_type": "code",
      "execution_count": 22,
      "metadata": {
        "id": "DUneWC5k7rkT"
      },
      "outputs": [],
      "source": [
        "cm = tf.math.confusion_matrix(labels=y_test,predictions=y_predicted_labels)"
      ]
    },
    {
      "cell_type": "code",
      "execution_count": 23,
      "metadata": {
        "id": "5GbjX6za7rkU",
        "outputId": "c9d0fb6f-a48c-4e28-de6c-22895b391d80",
        "colab": {
          "base_uri": "https://localhost:8080/",
          "height": 459
        }
      },
      "outputs": [
        {
          "output_type": "execute_result",
          "data": {
            "text/plain": [
              "Text(69.0, 0.5, 'Truth')"
            ]
          },
          "metadata": {},
          "execution_count": 23
        },
        {
          "output_type": "display_data",
          "data": {
            "text/plain": [
              "<Figure size 720x504 with 2 Axes>"
            ],
            "image/png": "[encoded data removed]"
          },
          "metadata": {
            "needs_background": "light"
          }
        }
      ],
      "source": [
        "import seaborn as sn\n",
        "plt.figure(figsize = (10,7))\n",
        "sn.heatmap(cm, annot=True, fmt='d') # here, cm is called to be visualized\n",
        "plt.xlabel('Predicted')\n",
        "plt.ylabel('Truth')"
      ]
    },
    {
      "cell_type": "code",
      "source": [
        ""
      ],
      "metadata": {
        "id": "qHyj5hYrbND4"
      },
      "execution_count": null,
      "outputs": []
    },
    {
      "cell_type": "markdown",
      "source": [
        "#ROC graph"
      ],
      "metadata": {
        "id": "l5BScGTcbYJT"
      }
    },
    {
      "cell_type": "code",
      "source": [
        "# multi-class classification\n",
        "from sklearn.multiclass import OneVsRestClassifier\n",
        "from sklearn.linear_model import LogisticRegression\n",
        "from sklearn.model_selection import train_test_split\n",
        "from sklearn.metrics import roc_curve\n",
        "from sklearn.metrics import roc_auc_score\n",
        "\n",
        "# generate 2 class dataset\n",
        "X, y = make_classification(n_samples=1000, n_classes=3, n_features=20, n_informative=3, random_state=42)\n",
        "\n",
        "# split into train/test sets\n",
        "X_train, X_test, y_train, y_test = train_test_split(X, y, test_size=0.4, random_state=42)\n",
        "\n",
        "# fit model\n",
        "clf = OneVsRestClassifier(LogisticRegression())\n",
        "clf.fit(X_train, y_train)\n",
        "pred = clf.predict(X_test)\n",
        "pred_prob = clf.predict_proba(X_test)\n",
        "\n",
        "# roc curve for classes\n",
        "fpr = {}\n",
        "tpr = {}\n",
        "thresh ={}\n",
        "\n",
        "n_class = 3\n",
        "\n",
        "for i in range(n_class):    \n",
        "    fpr[i], tpr[i], thresh[i] = roc_curve(y_test, pred_prob[:,i], pos_label=i)\n",
        "    \n",
        "# plotting    \n",
        "plt.plot(fpr[0], tpr[0], linestyle='--',color='orange', label='Class 0 vs Rest')\n",
        "plt.plot(fpr[1], tpr[1], linestyle='--',color='green', label='Class 1 vs Rest')\n",
        "plt.plot(fpr[2], tpr[2], linestyle='--',color='blue', label='Class 2 vs Rest')\n",
        "plt.title('Multiclass ROC curve')\n",
        "plt.xlabel('False Positive Rate')\n",
        "plt.ylabel('True Positive rate')\n",
        "plt.legend(loc='best')\n",
        "plt.savefig('Multiclass ROC',dpi=300);"
      ],
      "metadata": {
        "id": "BGl1KuXubas2"
      },
      "execution_count": null,
      "outputs": []
    }
  ],
  "metadata": {
    "kernelspec": {
      "display_name": "Python 3",
      "language": "python",
      "name": "python3"
    },
    "language_info": {
      "codemirror_mode": {
        "name": "ipython",
        "version": 3
      },
      "file_extension": ".py",
      "mimetype": "text/x-python",
      "name": "python",
      "nbconvert_exporter": "python",
      "pygments_lexer": "ipython3",
      "version": "3.8.3"
    },
    "colab": {
      "name": "ANN_Final.ipynb",
      "provenance": [],
      "include_colab_link": true
    }
  },
  "nbformat": 4,
  "nbformat_minor": 0
}