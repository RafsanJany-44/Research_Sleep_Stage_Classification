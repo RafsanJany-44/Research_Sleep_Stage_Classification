{
  "cells": [
    {
      "cell_type": "markdown",
      "metadata": {
        "id": "view-in-github",
        "colab_type": "text"
      },
      "source": [
        "<a href=\"https://colab.research.google.com/github/RafsanJany-44/Research_Sleep_Stage_Classification/blob/main/ANN_Final.ipynb\" target=\"_parent\"><img src=\"https://colab.research.google.com/assets/colab-badge.svg\" alt=\"Open In Colab\"/></a>"
      ]
    },
    {
      "cell_type": "code",
      "execution_count": 1,
      "metadata": {
        "id": "KPnkjM0D7riO"
      },
      "outputs": [],
      "source": [
        "import tensorflow as tf\n",
        "from tensorflow import keras\n",
        "import matplotlib.pyplot as plt\n",
        "%matplotlib inline\n",
        "import numpy as np\n",
        "import pandas as pd"
      ]
    },
    {
      "cell_type": "code",
      "source": [
        "#Loading Dataset\n",
        "data = pd.read_csv(\"https://raw.githubusercontent.com/RafsanJany-44/Thesis_Project/main/All_DATA/without_sn_and_Epoch/EEG_HMC.csv\")"
      ],
      "metadata": {
        "id": "dBa0SHNFndqo"
      },
      "execution_count": 2,
      "outputs": []
    },
    {
      "cell_type": "code",
      "source": [
        "X = data.iloc[:, 1:].values\n",
        "Y = data.iloc[:, 0].values"
      ],
      "metadata": {
        "id": "6q5hpx-3nHIs"
      },
      "execution_count": 3,
      "outputs": []
    },
    {
      "cell_type": "code",
      "source": [
        "#Encoding Categorical the sleep_stage\n",
        "from sklearn.preprocessing import LabelEncoder\n",
        "LE1 = LabelEncoder()\n",
        "Y = np.array(LE1.fit_transform(Y))"
      ],
      "metadata": {
        "id": "-IUhl3tRnMCu"
      },
      "execution_count": 4,
      "outputs": []
    },
    {
      "cell_type": "code",
      "source": [
        "#Encoding Categorical variable Geography\n",
        "from sklearn.compose import ColumnTransformer\n",
        "from sklearn.preprocessing import OneHotEncoder\n",
        "ct =ColumnTransformer(transformers=[('encoder',OneHotEncoder(),[1])],remainder=\"passthrough\")\n",
        "X = np.array(ct.fit_transform(X))"
      ],
      "metadata": {
        "id": "exC-gMyanMfH"
      },
      "execution_count": 5,
      "outputs": []
    },
    {
      "cell_type": "code",
      "source": [
        "#Splitting dataset into training and testing dataset\n",
        "from sklearn.model_selection import train_test_split\n",
        "X_train,X_test,y_train,y_test = train_test_split(X,Y,test_size=0.2,random_state=0)"
      ],
      "metadata": {
        "id": "X3Gotf3InPYz"
      },
      "execution_count": 6,
      "outputs": []
    },
    {
      "cell_type": "code",
      "source": [
        "#Performing Feature Scaling\n",
        "from sklearn.preprocessing import StandardScaler\n",
        "sc = StandardScaler()\n",
        "X_train = sc.fit_transform(X_train)\n",
        "X_test = sc.transform(X_test)"
      ],
      "metadata": {
        "id": "G-Mxsm15h9qE"
      },
      "execution_count": 7,
      "outputs": []
    },
    {
      "cell_type": "code",
      "execution_count": 8,
      "metadata": {
        "colab": {
          "base_uri": "https://localhost:8080/"
        },
        "id": "tCYh6eOu7rif",
        "outputId": "36675ab9-aea5-4523-c270-23e8455665be"
      },
      "outputs": [
        {
          "output_type": "execute_result",
          "data": {
            "text/plain": [
              "86760"
            ]
          },
          "metadata": {},
          "execution_count": 8
        }
      ],
      "source": [
        "len(X_train)"
      ]
    },
    {
      "cell_type": "code",
      "execution_count": 9,
      "metadata": {
        "colab": {
          "base_uri": "https://localhost:8080/"
        },
        "id": "hwal07Pi7rik",
        "outputId": "760e755b-ff70-4003-ffb5-abd170e2889a"
      },
      "outputs": [
        {
          "output_type": "execute_result",
          "data": {
            "text/plain": [
              "21691"
            ]
          },
          "metadata": {},
          "execution_count": 9
        }
      ],
      "source": [
        "len(X_test)"
      ]
    },
    {
      "cell_type": "code",
      "execution_count": 10,
      "metadata": {
        "colab": {
          "base_uri": "https://localhost:8080/"
        },
        "id": "Mdsvw9Bc7rim",
        "outputId": "523846ff-6756-40e4-8ec8-73c94e8bfd99"
      },
      "outputs": [
        {
          "output_type": "execute_result",
          "data": {
            "text/plain": [
              "(86760, 215)"
            ]
          },
          "metadata": {},
          "execution_count": 10
        }
      ],
      "source": [
        "X_train.shape\n"
      ]
    },
    {
      "cell_type": "code",
      "source": [
        "'''model = keras.Sequential([\n",
        "    keras.layers.Dense(500, input_shape=(215,), activation='relu'), # input layer\n",
        "    keras.layers.Dense(350, activation='sigmoid'),\n",
        "    keras.layers.Dense(250, activation='sigmoid'),\n",
        "    keras.layers.Dense(150, activation='sigmoid'),\n",
        "    keras.layers.Dense(75, activation='softmax')                    # output layer\n",
        "])'''\n",
        "\n",
        "model = keras.Sequential([\n",
        "    keras.layers.Dense(100, input_shape=(215,), activation='relu'), # input layer\n",
        "    #keras.layers.Dense(350, activation='sigmoid'),\n",
        "    #keras.layers.Dense(250, activation='sigmoid'),\n",
        "    keras.layers.Dense(75, activation='sigmoid'),\n",
        "    keras.layers.Dense(25, activation='softmax')                    # output layer\n",
        "])\n",
        "\n",
        "\n",
        "\n",
        "\n",
        "model.compile(optimizer='adam',\n",
        "              loss='sparse_categorical_crossentropy',\n",
        "              metrics=['accuracy'])\n",
        "\n",
        "model.fit(X_train, y_train, epochs=150)"
      ],
      "metadata": {
        "colab": {
          "base_uri": "https://localhost:8080/"
        },
        "id": "7m1Ujz34ZvPh",
        "outputId": "ee03744c-b102-42eb-f937-ed12e164c12a"
      },
      "execution_count": 12,
      "outputs": [
        {
          "output_type": "stream",
          "name": "stdout",
          "text": [
            "Epoch 1/150\n",
            "2712/2712 [==============================] - 6s 2ms/step - loss: 0.9402 - accuracy: 0.6302\n",
            "Epoch 2/150\n",
            "2712/2712 [==============================] - 6s 2ms/step - loss: 0.7863 - accuracy: 0.6860\n",
            "Epoch 3/150\n",
            "2712/2712 [==============================] - 6s 2ms/step - loss: 0.7482 - accuracy: 0.7021\n",
            "Epoch 4/150\n",
            "2712/2712 [==============================] - 6s 2ms/step - loss: 0.7215 - accuracy: 0.7139\n",
            "Epoch 5/150\n",
            "2712/2712 [==============================] - 6s 2ms/step - loss: 0.6997 - accuracy: 0.7219\n",
            "Epoch 6/150\n",
            "2712/2712 [==============================] - 6s 2ms/step - loss: 0.6802 - accuracy: 0.7298\n",
            "Epoch 7/150\n",
            "2712/2712 [==============================] - 6s 2ms/step - loss: 0.6663 - accuracy: 0.7351\n",
            "Epoch 8/150\n",
            "2712/2712 [==============================] - 6s 2ms/step - loss: 0.6526 - accuracy: 0.7408\n",
            "Epoch 9/150\n",
            "2712/2712 [==============================] - 6s 2ms/step - loss: 0.6405 - accuracy: 0.7465\n",
            "Epoch 10/150\n",
            "2712/2712 [==============================] - 6s 2ms/step - loss: 0.6308 - accuracy: 0.7507\n",
            "Epoch 11/150\n",
            "2712/2712 [==============================] - 6s 2ms/step - loss: 0.6196 - accuracy: 0.7553\n",
            "Epoch 12/150\n",
            "2712/2712 [==============================] - 6s 2ms/step - loss: 0.6114 - accuracy: 0.7578\n",
            "Epoch 13/150\n",
            "2712/2712 [==============================] - 9s 3ms/step - loss: 0.6041 - accuracy: 0.7610\n",
            "Epoch 14/150\n",
            "2712/2712 [==============================] - 6s 2ms/step - loss: 0.5959 - accuracy: 0.7651\n",
            "Epoch 15/150\n",
            "2712/2712 [==============================] - 6s 2ms/step - loss: 0.5890 - accuracy: 0.7687\n",
            "Epoch 16/150\n",
            "2712/2712 [==============================] - 6s 2ms/step - loss: 0.5825 - accuracy: 0.7702\n",
            "Epoch 17/150\n",
            "2712/2712 [==============================] - 6s 2ms/step - loss: 0.5757 - accuracy: 0.7729\n",
            "Epoch 18/150\n",
            "2712/2712 [==============================] - 6s 2ms/step - loss: 0.5701 - accuracy: 0.7763\n",
            "Epoch 19/150\n",
            "2712/2712 [==============================] - 6s 2ms/step - loss: 0.5675 - accuracy: 0.7762\n",
            "Epoch 20/150\n",
            "2712/2712 [==============================] - 6s 2ms/step - loss: 0.5614 - accuracy: 0.7795\n",
            "Epoch 21/150\n",
            "2712/2712 [==============================] - 6s 2ms/step - loss: 0.5558 - accuracy: 0.7818\n",
            "Epoch 22/150\n",
            "2712/2712 [==============================] - 6s 2ms/step - loss: 0.5511 - accuracy: 0.7844\n",
            "Epoch 23/150\n",
            "2712/2712 [==============================] - 6s 2ms/step - loss: 0.5464 - accuracy: 0.7852\n",
            "Epoch 24/150\n",
            "2712/2712 [==============================] - 6s 2ms/step - loss: 0.5415 - accuracy: 0.7879\n",
            "Epoch 25/150\n",
            "2712/2712 [==============================] - 6s 2ms/step - loss: 0.5377 - accuracy: 0.7893\n",
            "Epoch 26/150\n",
            "2712/2712 [==============================] - 6s 2ms/step - loss: 0.5334 - accuracy: 0.7897\n",
            "Epoch 27/150\n",
            "2712/2712 [==============================] - 6s 2ms/step - loss: 0.5293 - accuracy: 0.7923\n",
            "Epoch 28/150\n",
            "2712/2712 [==============================] - 6s 2ms/step - loss: 0.5258 - accuracy: 0.7927\n",
            "Epoch 29/150\n",
            "2712/2712 [==============================] - 6s 2ms/step - loss: 0.5235 - accuracy: 0.7927\n",
            "Epoch 30/150\n",
            "2712/2712 [==============================] - 6s 2ms/step - loss: 0.5201 - accuracy: 0.7954\n",
            "Epoch 31/150\n",
            "2712/2712 [==============================] - 6s 2ms/step - loss: 0.5160 - accuracy: 0.7968\n",
            "Epoch 32/150\n",
            "2712/2712 [==============================] - 6s 2ms/step - loss: 0.5124 - accuracy: 0.7982\n",
            "Epoch 33/150\n",
            "2712/2712 [==============================] - 6s 2ms/step - loss: 0.5091 - accuracy: 0.7999\n",
            "Epoch 34/150\n",
            "2712/2712 [==============================] - 6s 2ms/step - loss: 0.5052 - accuracy: 0.8012\n",
            "Epoch 35/150\n",
            "2712/2712 [==============================] - 6s 2ms/step - loss: 0.5019 - accuracy: 0.8030\n",
            "Epoch 36/150\n",
            "2712/2712 [==============================] - 6s 2ms/step - loss: 0.5001 - accuracy: 0.8042\n",
            "Epoch 37/150\n",
            "2712/2712 [==============================] - 6s 2ms/step - loss: 0.4958 - accuracy: 0.8059\n",
            "Epoch 38/150\n",
            "2712/2712 [==============================] - 6s 2ms/step - loss: 0.4948 - accuracy: 0.8050\n",
            "Epoch 39/150\n",
            "2712/2712 [==============================] - 6s 2ms/step - loss: 0.4939 - accuracy: 0.8065\n",
            "Epoch 40/150\n",
            "2712/2712 [==============================] - 6s 2ms/step - loss: 0.4911 - accuracy: 0.8077\n",
            "Epoch 41/150\n",
            "2712/2712 [==============================] - 6s 2ms/step - loss: 0.4905 - accuracy: 0.8076\n",
            "Epoch 42/150\n",
            "2712/2712 [==============================] - 6s 2ms/step - loss: 0.4873 - accuracy: 0.8103\n",
            "Epoch 43/150\n",
            "2712/2712 [==============================] - 6s 2ms/step - loss: 0.4822 - accuracy: 0.8115\n",
            "Epoch 44/150\n",
            "2712/2712 [==============================] - 6s 2ms/step - loss: 0.4802 - accuracy: 0.8123\n",
            "Epoch 45/150\n",
            "2712/2712 [==============================] - 6s 2ms/step - loss: 0.4779 - accuracy: 0.8118\n",
            "Epoch 46/150\n",
            "2712/2712 [==============================] - 6s 2ms/step - loss: 0.4755 - accuracy: 0.8137\n",
            "Epoch 47/150\n",
            "2712/2712 [==============================] - 6s 2ms/step - loss: 0.4715 - accuracy: 0.8163\n",
            "Epoch 48/150\n",
            "2712/2712 [==============================] - 6s 2ms/step - loss: 0.4691 - accuracy: 0.8163\n",
            "Epoch 49/150\n",
            "2712/2712 [==============================] - 6s 2ms/step - loss: 0.4686 - accuracy: 0.8176\n",
            "Epoch 50/150\n",
            "2712/2712 [==============================] - 6s 2ms/step - loss: 0.4667 - accuracy: 0.8189\n",
            "Epoch 51/150\n",
            "2712/2712 [==============================] - 6s 2ms/step - loss: 0.4649 - accuracy: 0.8178\n",
            "Epoch 52/150\n",
            "2712/2712 [==============================] - 6s 2ms/step - loss: 0.4633 - accuracy: 0.8193\n",
            "Epoch 53/150\n",
            "2712/2712 [==============================] - 6s 2ms/step - loss: 0.4614 - accuracy: 0.8197\n",
            "Epoch 54/150\n",
            "2712/2712 [==============================] - 6s 2ms/step - loss: 0.4591 - accuracy: 0.8209\n",
            "Epoch 55/150\n",
            "2712/2712 [==============================] - 6s 2ms/step - loss: 0.4568 - accuracy: 0.8216\n",
            "Epoch 56/150\n",
            "2712/2712 [==============================] - 6s 2ms/step - loss: 0.4562 - accuracy: 0.8234\n",
            "Epoch 57/150\n",
            "2712/2712 [==============================] - 6s 2ms/step - loss: 0.4525 - accuracy: 0.8249\n",
            "Epoch 58/150\n",
            "2712/2712 [==============================] - 6s 2ms/step - loss: 0.4530 - accuracy: 0.8235\n",
            "Epoch 59/150\n",
            "2712/2712 [==============================] - 6s 2ms/step - loss: 0.4503 - accuracy: 0.8246\n",
            "Epoch 60/150\n",
            "2712/2712 [==============================] - 6s 2ms/step - loss: 0.4483 - accuracy: 0.8266\n",
            "Epoch 61/150\n",
            "2712/2712 [==============================] - 6s 2ms/step - loss: 0.4469 - accuracy: 0.8264\n",
            "Epoch 62/150\n",
            "2712/2712 [==============================] - 6s 2ms/step - loss: 0.4445 - accuracy: 0.8271\n",
            "Epoch 63/150\n",
            "2712/2712 [==============================] - 6s 2ms/step - loss: 0.4429 - accuracy: 0.8272\n",
            "Epoch 64/150\n",
            "2712/2712 [==============================] - 6s 2ms/step - loss: 0.4414 - accuracy: 0.8288\n",
            "Epoch 65/150\n",
            "2712/2712 [==============================] - 6s 2ms/step - loss: 0.4389 - accuracy: 0.8299\n",
            "Epoch 66/150\n",
            "2712/2712 [==============================] - 6s 2ms/step - loss: 0.4402 - accuracy: 0.8279\n",
            "Epoch 67/150\n",
            "2712/2712 [==============================] - 6s 2ms/step - loss: 0.4389 - accuracy: 0.8285\n",
            "Epoch 68/150\n",
            "2712/2712 [==============================] - 6s 2ms/step - loss: 0.4346 - accuracy: 0.8318\n",
            "Epoch 69/150\n",
            "2712/2712 [==============================] - 6s 2ms/step - loss: 0.4341 - accuracy: 0.8301\n",
            "Epoch 70/150\n",
            "2712/2712 [==============================] - 6s 2ms/step - loss: 0.4329 - accuracy: 0.8316\n",
            "Epoch 71/150\n",
            "2712/2712 [==============================] - 6s 2ms/step - loss: 0.4338 - accuracy: 0.8315\n",
            "Epoch 72/150\n",
            "2712/2712 [==============================] - 6s 2ms/step - loss: 0.4312 - accuracy: 0.8322\n",
            "Epoch 73/150\n",
            "2712/2712 [==============================] - 6s 2ms/step - loss: 0.4291 - accuracy: 0.8328\n",
            "Epoch 74/150\n",
            "2712/2712 [==============================] - 6s 2ms/step - loss: 0.4281 - accuracy: 0.8337\n",
            "Epoch 75/150\n",
            "2712/2712 [==============================] - 6s 2ms/step - loss: 0.4315 - accuracy: 0.8324\n",
            "Epoch 76/150\n",
            "2712/2712 [==============================] - 6s 2ms/step - loss: 0.4291 - accuracy: 0.8336\n",
            "Epoch 77/150\n",
            "2712/2712 [==============================] - 6s 2ms/step - loss: 0.4288 - accuracy: 0.8322\n",
            "Epoch 78/150\n",
            "2712/2712 [==============================] - 6s 2ms/step - loss: 0.4251 - accuracy: 0.8347\n",
            "Epoch 79/150\n",
            "2712/2712 [==============================] - 6s 2ms/step - loss: 0.4216 - accuracy: 0.8361\n",
            "Epoch 80/150\n",
            "2712/2712 [==============================] - 6s 2ms/step - loss: 0.4212 - accuracy: 0.8367\n",
            "Epoch 81/150\n",
            "2712/2712 [==============================] - 6s 2ms/step - loss: 0.4202 - accuracy: 0.8370\n",
            "Epoch 82/150\n",
            "2712/2712 [==============================] - 6s 2ms/step - loss: 0.4194 - accuracy: 0.8373\n",
            "Epoch 83/150\n",
            "2712/2712 [==============================] - 6s 2ms/step - loss: 0.4164 - accuracy: 0.8394\n",
            "Epoch 84/150\n",
            "2712/2712 [==============================] - 6s 2ms/step - loss: 0.4160 - accuracy: 0.8382\n",
            "Epoch 85/150\n",
            "2712/2712 [==============================] - 6s 2ms/step - loss: 0.4141 - accuracy: 0.8399\n",
            "Epoch 86/150\n",
            "2712/2712 [==============================] - 6s 2ms/step - loss: 0.4167 - accuracy: 0.8382\n",
            "Epoch 87/150\n",
            "2712/2712 [==============================] - 6s 2ms/step - loss: 0.4130 - accuracy: 0.8405\n",
            "Epoch 88/150\n",
            "2712/2712 [==============================] - 6s 2ms/step - loss: 0.4118 - accuracy: 0.8407\n",
            "Epoch 89/150\n",
            "2712/2712 [==============================] - 6s 2ms/step - loss: 0.4128 - accuracy: 0.8406\n",
            "Epoch 90/150\n",
            "2712/2712 [==============================] - 6s 2ms/step - loss: 0.4083 - accuracy: 0.8425\n",
            "Epoch 91/150\n",
            "2712/2712 [==============================] - 6s 2ms/step - loss: 0.4081 - accuracy: 0.8420\n",
            "Epoch 92/150\n",
            "2712/2712 [==============================] - 6s 2ms/step - loss: 0.4077 - accuracy: 0.8418\n",
            "Epoch 93/150\n",
            "2712/2712 [==============================] - 6s 2ms/step - loss: 0.4075 - accuracy: 0.8423\n",
            "Epoch 94/150\n",
            "2712/2712 [==============================] - 6s 2ms/step - loss: 0.4052 - accuracy: 0.8429\n",
            "Epoch 95/150\n",
            "2712/2712 [==============================] - 6s 2ms/step - loss: 0.4057 - accuracy: 0.8427\n",
            "Epoch 96/150\n",
            "2712/2712 [==============================] - 6s 2ms/step - loss: 0.4043 - accuracy: 0.8433\n",
            "Epoch 97/150\n",
            "2712/2712 [==============================] - 6s 2ms/step - loss: 0.4034 - accuracy: 0.8440\n",
            "Epoch 98/150\n",
            "2712/2712 [==============================] - 6s 2ms/step - loss: 0.4038 - accuracy: 0.8442\n",
            "Epoch 99/150\n",
            "2712/2712 [==============================] - 6s 2ms/step - loss: 0.4031 - accuracy: 0.8448\n",
            "Epoch 100/150\n",
            "2712/2712 [==============================] - 6s 2ms/step - loss: 0.4030 - accuracy: 0.8451\n",
            "Epoch 101/150\n",
            "2712/2712 [==============================] - 6s 2ms/step - loss: 0.4000 - accuracy: 0.8460\n",
            "Epoch 102/150\n",
            "2712/2712 [==============================] - 6s 2ms/step - loss: 0.3986 - accuracy: 0.8460\n",
            "Epoch 103/150\n",
            "2712/2712 [==============================] - 6s 2ms/step - loss: 0.3987 - accuracy: 0.8453\n",
            "Epoch 104/150\n",
            "2712/2712 [==============================] - 6s 2ms/step - loss: 0.3951 - accuracy: 0.8484\n",
            "Epoch 105/150\n",
            "2712/2712 [==============================] - 6s 2ms/step - loss: 0.3951 - accuracy: 0.8478\n",
            "Epoch 106/150\n",
            "2712/2712 [==============================] - 6s 2ms/step - loss: 0.3959 - accuracy: 0.8470\n",
            "Epoch 107/150\n",
            "2712/2712 [==============================] - 6s 2ms/step - loss: 0.3942 - accuracy: 0.8478\n",
            "Epoch 108/150\n",
            "2712/2712 [==============================] - 6s 2ms/step - loss: 0.3944 - accuracy: 0.8481\n",
            "Epoch 109/150\n",
            "2712/2712 [==============================] - 6s 2ms/step - loss: 0.3938 - accuracy: 0.8484\n",
            "Epoch 110/150\n",
            "2712/2712 [==============================] - 6s 2ms/step - loss: 0.3913 - accuracy: 0.8489\n",
            "Epoch 111/150\n",
            "2712/2712 [==============================] - 6s 2ms/step - loss: 0.3915 - accuracy: 0.8495\n",
            "Epoch 112/150\n",
            "2712/2712 [==============================] - 6s 2ms/step - loss: 0.3897 - accuracy: 0.8509\n",
            "Epoch 113/150\n",
            "2712/2712 [==============================] - 6s 2ms/step - loss: 0.3910 - accuracy: 0.8481\n",
            "Epoch 114/150\n",
            "2712/2712 [==============================] - 6s 2ms/step - loss: 0.3866 - accuracy: 0.8502\n",
            "Epoch 115/150\n",
            "2712/2712 [==============================] - 6s 2ms/step - loss: 0.3869 - accuracy: 0.8491\n",
            "Epoch 116/150\n",
            "2712/2712 [==============================] - 6s 2ms/step - loss: 0.3864 - accuracy: 0.8516\n",
            "Epoch 117/150\n",
            "2712/2712 [==============================] - 6s 2ms/step - loss: 0.3876 - accuracy: 0.8507\n",
            "Epoch 118/150\n",
            "2712/2712 [==============================] - 6s 2ms/step - loss: 0.3859 - accuracy: 0.8517\n",
            "Epoch 119/150\n",
            "2712/2712 [==============================] - 6s 2ms/step - loss: 0.3849 - accuracy: 0.8525\n",
            "Epoch 120/150\n",
            "2712/2712 [==============================] - 6s 2ms/step - loss: 0.3837 - accuracy: 0.8528\n",
            "Epoch 121/150\n",
            "2712/2712 [==============================] - 6s 2ms/step - loss: 0.3842 - accuracy: 0.8524\n",
            "Epoch 122/150\n",
            "2712/2712 [==============================] - 6s 2ms/step - loss: 0.3828 - accuracy: 0.8529\n",
            "Epoch 123/150\n",
            "2712/2712 [==============================] - 6s 2ms/step - loss: 0.3815 - accuracy: 0.8525\n",
            "Epoch 124/150\n",
            "2712/2712 [==============================] - 6s 2ms/step - loss: 0.3803 - accuracy: 0.8536\n",
            "Epoch 125/150\n",
            "2712/2712 [==============================] - 6s 2ms/step - loss: 0.3818 - accuracy: 0.8518\n",
            "Epoch 126/150\n",
            "2712/2712 [==============================] - 6s 2ms/step - loss: 0.3824 - accuracy: 0.8527\n",
            "Epoch 127/150\n",
            "2712/2712 [==============================] - 6s 2ms/step - loss: 0.3841 - accuracy: 0.8525\n",
            "Epoch 128/150\n",
            "2712/2712 [==============================] - 6s 2ms/step - loss: 0.3801 - accuracy: 0.8543\n",
            "Epoch 129/150\n",
            "2712/2712 [==============================] - 6s 2ms/step - loss: 0.3807 - accuracy: 0.8538\n",
            "Epoch 130/150\n",
            "2712/2712 [==============================] - 6s 2ms/step - loss: 0.3778 - accuracy: 0.8552\n",
            "Epoch 131/150\n",
            "2712/2712 [==============================] - 6s 2ms/step - loss: 0.3780 - accuracy: 0.8553\n",
            "Epoch 132/150\n",
            "2712/2712 [==============================] - 6s 2ms/step - loss: 0.3771 - accuracy: 0.8551\n",
            "Epoch 133/150\n",
            "2712/2712 [==============================] - 6s 2ms/step - loss: 0.3772 - accuracy: 0.8558\n",
            "Epoch 134/150\n",
            "2712/2712 [==============================] - 6s 2ms/step - loss: 0.3767 - accuracy: 0.8556\n",
            "Epoch 135/150\n",
            "2712/2712 [==============================] - 6s 2ms/step - loss: 0.3775 - accuracy: 0.8551\n",
            "Epoch 136/150\n",
            "2712/2712 [==============================] - 6s 2ms/step - loss: 0.3754 - accuracy: 0.8561\n",
            "Epoch 137/150\n",
            "2712/2712 [==============================] - 6s 2ms/step - loss: 0.3758 - accuracy: 0.8557\n",
            "Epoch 138/150\n",
            "2712/2712 [==============================] - 6s 2ms/step - loss: 0.3741 - accuracy: 0.8567\n",
            "Epoch 139/150\n",
            "2712/2712 [==============================] - 6s 2ms/step - loss: 0.3721 - accuracy: 0.8572\n",
            "Epoch 140/150\n",
            "2712/2712 [==============================] - 6s 2ms/step - loss: 0.3735 - accuracy: 0.8571\n",
            "Epoch 141/150\n",
            "2712/2712 [==============================] - 6s 2ms/step - loss: 0.3730 - accuracy: 0.8575\n",
            "Epoch 142/150\n",
            "2712/2712 [==============================] - 6s 2ms/step - loss: 0.3737 - accuracy: 0.8572\n",
            "Epoch 143/150\n",
            "2712/2712 [==============================] - 6s 2ms/step - loss: 0.3697 - accuracy: 0.8584\n",
            "Epoch 144/150\n",
            "2712/2712 [==============================] - 6s 2ms/step - loss: 0.3689 - accuracy: 0.8579\n",
            "Epoch 145/150\n",
            "2712/2712 [==============================] - 6s 2ms/step - loss: 0.3696 - accuracy: 0.8583\n",
            "Epoch 146/150\n",
            "2712/2712 [==============================] - 6s 2ms/step - loss: 0.3681 - accuracy: 0.8585\n",
            "Epoch 147/150\n",
            "2712/2712 [==============================] - 6s 2ms/step - loss: 0.3694 - accuracy: 0.8581\n",
            "Epoch 148/150\n",
            "2712/2712 [==============================] - 6s 2ms/step - loss: 0.3673 - accuracy: 0.8588\n",
            "Epoch 149/150\n",
            "2712/2712 [==============================] - 6s 2ms/step - loss: 0.3673 - accuracy: 0.8596\n",
            "Epoch 150/150\n",
            "2712/2712 [==============================] - 6s 2ms/step - loss: 0.3648 - accuracy: 0.8596\n"
          ]
        },
        {
          "output_type": "execute_result",
          "data": {
            "text/plain": [
              "<keras.callbacks.History at 0x7fcefb7c5a90>"
            ]
          },
          "metadata": {},
          "execution_count": 12
        }
      ]
    },
    {
      "cell_type": "code",
      "execution_count": 13,
      "metadata": {
        "id": "3itZB-Rc7ri7",
        "outputId": "8a31cbfa-350d-401e-f87f-5fab32fe79fb",
        "colab": {
          "base_uri": "https://localhost:8080/"
        }
      },
      "outputs": [
        {
          "output_type": "stream",
          "name": "stdout",
          "text": [
            "678/678 [==============================] - 1s 1ms/step - loss: 0.8518 - accuracy: 0.7290\n"
          ]
        },
        {
          "output_type": "execute_result",
          "data": {
            "text/plain": [
              "[0.8518000245094299, 0.7290120124816895]"
            ]
          },
          "metadata": {},
          "execution_count": 13
        }
      ],
      "source": [
        "model.evaluate(X_test, y_test)"
      ]
    },
    {
      "cell_type": "markdown",
      "metadata": {
        "id": "LrJUlUpM7rkS"
      },
      "source": [
        "<h3>Now we try to draw the Confusion matrix</h3>\n",
        "<p>Here, the NN will predict the test data considering each of the neurons. So, we need to find out the best neuron which is giving us the highest prediction.\n",
        "    <br> In this case we have to use the argmax() function for those neurons. </p>"
      ]
    },
    {
      "cell_type": "code",
      "execution_count": 14,
      "metadata": {
        "id": "zW7SM71J7rkT"
      },
      "outputs": [],
      "source": [
        "y_predicted = model.predict(X_test)\n",
        "y_predicted_labels = [np.argmax(i) for i in y_predicted]"
      ]
    },
    {
      "cell_type": "code",
      "source": [
        "from sklearn.metrics import classification_report, confusion_matrix, accuracy_score\n",
        "print(confusion_matrix(y_test, y_predicted_labels))\n",
        "print(classification_report(y_test,y_predicted_labels))\n",
        "print(\"Accurecy: \",accuracy_score(y_test, y_predicted_labels))"
      ],
      "metadata": {
        "id": "hPbDM_U8sVLw",
        "outputId": "28d522f6-3fd2-44ed-cb0e-787d0c124d44",
        "colab": {
          "base_uri": "https://localhost:8080/"
        }
      },
      "execution_count": 15,
      "outputs": [
        {
          "output_type": "stream",
          "name": "stdout",
          "text": [
            "[[ 797  661   17  352  541]\n",
            " [ 397 6084  788  395  227]\n",
            " [  13  822 3371   16   32]\n",
            " [ 299  502   24 2451   98]\n",
            " [ 375  203   22   94 3110]]\n",
            "              precision    recall  f1-score   support\n",
            "\n",
            "           0       0.42      0.34      0.38      2368\n",
            "           1       0.74      0.77      0.75      7891\n",
            "           2       0.80      0.79      0.80      4254\n",
            "           3       0.74      0.73      0.73      3374\n",
            "           4       0.78      0.82      0.80      3804\n",
            "\n",
            "    accuracy                           0.73     21691\n",
            "   macro avg       0.69      0.69      0.69     21691\n",
            "weighted avg       0.72      0.73      0.72     21691\n",
            "\n",
            "Accurecy:  0.7290120326402656\n"
          ]
        }
      ]
    },
    {
      "cell_type": "markdown",
      "metadata": {
        "id": "rfQIjY8f7rkT"
      },
      "source": [
        "**Now we need to draw the confusion matrix to show where our model is doing mistakes**\n",
        "<br>\n",
        "<br>\n",
        "***Tensorflow has its own confusion matrix function where \"labels\" is the truth data and \"predictions\" is the predicted data***"
      ]
    },
    {
      "cell_type": "code",
      "execution_count": 16,
      "metadata": {
        "id": "DUneWC5k7rkT"
      },
      "outputs": [],
      "source": [
        "cm = tf.math.confusion_matrix(labels=y_test,predictions=y_predicted_labels)"
      ]
    },
    {
      "cell_type": "code",
      "execution_count": 17,
      "metadata": {
        "id": "5GbjX6za7rkU",
        "outputId": "b7b1225e-fc48-440c-a487-af0e00bb8093",
        "colab": {
          "base_uri": "https://localhost:8080/",
          "height": 459
        }
      },
      "outputs": [
        {
          "output_type": "execute_result",
          "data": {
            "text/plain": [
              "Text(69.0, 0.5, 'Truth')"
            ]
          },
          "metadata": {},
          "execution_count": 17
        },
        {
          "output_type": "display_data",
          "data": {
            "text/plain": [
              "<Figure size 720x504 with 2 Axes>"
            ],
            "image/png": "[encoded data removed]"
          },
          "metadata": {
            "needs_background": "light"
          }
        }
      ],
      "source": [
        "import seaborn as sn\n",
        "plt.figure(figsize = (10,7))\n",
        "sn.heatmap(cm, annot=True, fmt='d') # here, cm is called to be visualized\n",
        "plt.xlabel('Predicted')\n",
        "plt.ylabel('Truth')"
      ]
    }
  ],
  "metadata": {
    "kernelspec": {
      "display_name": "Python 3",
      "language": "python",
      "name": "python3"
    },
    "language_info": {
      "codemirror_mode": {
        "name": "ipython",
        "version": 3
      },
      "file_extension": ".py",
      "mimetype": "text/x-python",
      "name": "python",
      "nbconvert_exporter": "python",
      "pygments_lexer": "ipython3",
      "version": "3.8.3"
    },
    "colab": {
      "name": "ANN_Final.ipynb",
      "provenance": [],
      "include_colab_link": true
    }
  },
  "nbformat": 4,
  "nbformat_minor": 0
}