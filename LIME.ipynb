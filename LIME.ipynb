{
  "nbformat": 4,
  "nbformat_minor": 0,
  "metadata": {
    "colab": {
      "name": "LIME.ipynb",
      "provenance": [],
      "include_colab_link": true
    },
    "kernelspec": {
      "name": "python3",
      "display_name": "Python 3"
    },
    "language_info": {
      "name": "python"
    }
  },
  "cells": [
    {
      "cell_type": "markdown",
      "metadata": {
        "id": "view-in-github",
        "colab_type": "text"
      },
      "source": [
        "<a href=\"https://colab.research.google.com/github/RafsanJany-44/Research_Sleep_Stage_Classification/blob/main/LIME.ipynb\" target=\"_parent\"><img src=\"https://colab.research.google.com/assets/colab-badge.svg\" alt=\"Open In Colab\"/></a>"
      ]
    },
    {
      "cell_type": "code",
      "source": [
        "import pandas as pd\n",
        "import numpy as np\n",
        "\n",
        "data = 'https://raw.githubusercontent.com/RafsanJany-44/Thesis_Project/main/All_DATA/without_sn_and_Epoch/EEG_HMC.csv'\n",
        "dataset = pd.read_csv(data)\n",
        "X = dataset.iloc[:, 1:]\n",
        "y = dataset.iloc[:, 0]\n"
      ],
      "metadata": {
        "id": "-61nFTgd179v"
      },
      "execution_count": 53,
      "outputs": []
    },
    {
      "cell_type": "code",
      "source": [
        "from sklearn.model_selection import train_test_split\n",
        "X_train, X_test, y_train, y_test = train_test_split(X, y, test_size=0.33, random_state=0)"
      ],
      "metadata": {
        "id": "xuVvsVaV2eV6"
      },
      "execution_count": 54,
      "outputs": []
    },
    {
      "cell_type": "code",
      "source": [
        "X_train.shape, X_test.shape"
      ],
      "metadata": {
        "colab": {
          "base_uri": "https://localhost:8080/"
        },
        "id": "SmkDTJlj2gWF",
        "outputId": "c2071bf7-95a8-47cc-d49d-d1f9b581edd5"
      },
      "execution_count": 55,
      "outputs": [
        {
          "output_type": "execute_result",
          "data": {
            "text/plain": [
              "((72662, 75), (35789, 75))"
            ]
          },
          "metadata": {},
          "execution_count": 55
        }
      ]
    },
    {
      "cell_type": "markdown",
      "source": [
        "StandardScaler() returns a numpy array. For better understandings we convert that in to pandas dataframe. StandardScaler() returns a numpy array. For better understanding we convert that in to pandas dataframe. And in separation for X and y, we remove the <b><i>[.values]</i></b>."
      ],
      "metadata": {
        "id": "QC6yGqQUd6jS"
      }
    },
    {
      "cell_type": "code",
      "source": [
        "X_train2=X_train\n",
        "X_test2=X_test\n",
        "\n",
        "from sklearn.preprocessing import StandardScaler\n",
        "sc = StandardScaler()\n",
        "X_train =sc.fit_transform(X_train)\n",
        "\n",
        "X_test =sc.fit_transform(X_test)\n",
        "\n",
        "\n",
        "X_train = pd.DataFrame(X_train, index=X_train2.index, columns=X_train2.columns)\n",
        "X_test = pd.DataFrame(X_test, index=X_test2.index, columns=X_test2.columns)\n"
      ],
      "metadata": {
        "id": "CvTA73nzwLMQ"
      },
      "execution_count": 56,
      "outputs": []
    },
    {
      "cell_type": "markdown",
      "source": [
        "**Tuning**"
      ],
      "metadata": {
        "id": "qmicADBt6gIj"
      }
    },
    {
      "cell_type": "markdown",
      "source": [
        "KNN"
      ],
      "metadata": {
        "id": "262NCO1ukp5r"
      }
    },
    {
      "cell_type": "code",
      "source": [
        "from sklearn.neighbors import KNeighborsClassifier\n",
        "KNN_class = KNeighborsClassifier(n_neighbors=7)\n",
        "KNN_class.fit(X_train, y_train)\n",
        "y_pred_KNN=KNN_class.predict(X_test)"
      ],
      "metadata": {
        "id": "aYQobtGs2iMk"
      },
      "execution_count": 57,
      "outputs": []
    },
    {
      "cell_type": "markdown",
      "source": [
        "Radomforest"
      ],
      "metadata": {
        "id": "XTuvrei4mGE5"
      }
    },
    {
      "cell_type": "code",
      "source": [
        "from sklearn.ensemble import RandomForestClassifier\n",
        "classifier = RandomForestClassifier(n_estimators=125, random_state=0)\n",
        "classifier.fit(X_train, y_train)\n",
        "y_pred_RF=classifier.predict(X_test)"
      ],
      "metadata": {
        "id": "lJ_hZf9VlOiY"
      },
      "execution_count": 58,
      "outputs": []
    },
    {
      "cell_type": "markdown",
      "source": [
        "xgboost"
      ],
      "metadata": {
        "id": "ghmoo3jBmI9I"
      }
    },
    {
      "cell_type": "code",
      "source": [
        "import xgboost as xgb\n",
        "xgb_classifier = xgb.XGBClassifier(max_depth=14)\n",
        "xgb_classifier.fit(X_train,y_train)\n",
        "y_pred_XG = xgb_classifier.predict(X_test)"
      ],
      "metadata": {
        "id": "ateLyo-hlZ6B"
      },
      "execution_count": 59,
      "outputs": []
    },
    {
      "cell_type": "markdown",
      "source": [
        "Accurecy"
      ],
      "metadata": {
        "id": "lVzqRjIOmLT9"
      }
    },
    {
      "cell_type": "code",
      "source": [
        "from sklearn.metrics import accuracy_score\n",
        "print(\"Accurecy KNN: \",accuracy_score(y_test, y_pred_KNN))\n",
        "print(\"Accurecy RF: \",accuracy_score(y_test, y_pred_RF))\n",
        "print(\"Accurecy XG: \",accuracy_score(y_test, y_pred_XG))\n"
      ],
      "metadata": {
        "colab": {
          "base_uri": "https://localhost:8080/"
        },
        "id": "f4NzJ4z12lI3",
        "outputId": "eeea218d-3956-48d0-e7b4-bc0b3f980913"
      },
      "execution_count": 60,
      "outputs": [
        {
          "output_type": "stream",
          "name": "stdout",
          "text": [
            "Accurecy KNN:  0.7467657660174915\n",
            "Accurecy RF:  0.7600380005029478\n",
            "Accurecy XG:  0.7751543770432255\n"
          ]
        }
      ]
    }
  ]
}