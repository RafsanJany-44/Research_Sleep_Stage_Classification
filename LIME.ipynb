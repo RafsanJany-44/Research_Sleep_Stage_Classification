{
  "cells": [
    {
      "cell_type": "markdown",
      "metadata": {
        "id": "view-in-github",
        "colab_type": "text"
      },
      "source": [
        "<a href=\"https://colab.research.google.com/github/RafsanJany-44/Research_Sleep_Stage_Classification/blob/main/LIME.ipynb\" target=\"_parent\"><img src=\"https://colab.research.google.com/assets/colab-badge.svg\" alt=\"Open In Colab\"/></a>"
      ]
    },
    {
      "cell_type": "code",
      "execution_count": 1,
      "metadata": {
        "id": "-61nFTgd179v"
      },
      "outputs": [],
      "source": [
        "import pandas as pd\n",
        "import numpy as np\n",
        "\n",
        "data = 'https://raw.githubusercontent.com/RafsanJany-44/Thesis_Project/main/All_DATA/without_sn_and_Epoch/EEG_HMC.csv'\n",
        "dataset = pd.read_csv(data)\n",
        "X = dataset.iloc[:, 1:]\n",
        "y = dataset.iloc[:, 0]\n"
      ]
    },
    {
      "cell_type": "code",
      "execution_count": 2,
      "metadata": {
        "id": "xuVvsVaV2eV6"
      },
      "outputs": [],
      "source": [
        "from sklearn.model_selection import train_test_split\n",
        "X_train, X_test, y_train, y_test = train_test_split(X, y, test_size=0.33, random_state=0)"
      ]
    },
    {
      "cell_type": "code",
      "execution_count": 3,
      "metadata": {
        "colab": {
          "base_uri": "https://localhost:8080/"
        },
        "id": "SmkDTJlj2gWF",
        "outputId": "fc675c1a-38b9-46a6-acad-80c58f52094a"
      },
      "outputs": [
        {
          "output_type": "execute_result",
          "data": {
            "text/plain": [
              "((72662, 75), (35789, 75))"
            ]
          },
          "metadata": {},
          "execution_count": 3
        }
      ],
      "source": [
        "X_train.shape, X_test.shape"
      ]
    },
    {
      "cell_type": "markdown",
      "metadata": {
        "id": "QC6yGqQUd6jS"
      },
      "source": [
        "StandardScaler() returns a numpy array. For better understandings we convert that in to pandas dataframe. StandardScaler() returns a numpy array. For better understanding we convert that in to pandas dataframe. And in separation for X and y, we remove the <b><i>[.values]</i></b>."
      ]
    },
    {
      "cell_type": "code",
      "execution_count": 4,
      "metadata": {
        "id": "CvTA73nzwLMQ"
      },
      "outputs": [],
      "source": [
        "X_train2=X_train\n",
        "X_test2=X_test\n",
        "\n",
        "from sklearn.preprocessing import StandardScaler\n",
        "sc = StandardScaler()\n",
        "X_train =sc.fit_transform(X_train)\n",
        "\n",
        "X_test =sc.fit_transform(X_test)\n",
        "\n",
        "\n",
        "X_train = pd.DataFrame(X_train, index=X_train2.index, columns=X_train2.columns)\n",
        "X_test = pd.DataFrame(X_test, index=X_test2.index, columns=X_test2.columns)\n"
      ]
    },
    {
      "cell_type": "markdown",
      "metadata": {
        "id": "qmicADBt6gIj"
      },
      "source": [
        "**Tuning**"
      ]
    },
    {
      "cell_type": "markdown",
      "metadata": {
        "id": "262NCO1ukp5r"
      },
      "source": [
        "KNN"
      ]
    },
    {
      "cell_type": "code",
      "execution_count": 5,
      "metadata": {
        "id": "aYQobtGs2iMk"
      },
      "outputs": [],
      "source": [
        "from sklearn.neighbors import KNeighborsClassifier\n",
        "KNN_class = KNeighborsClassifier(n_neighbors=7)\n",
        "KNN_class.fit(X_train, y_train)\n",
        "y_pred_KNN=KNN_class.predict(X_test)"
      ]
    },
    {
      "cell_type": "markdown",
      "metadata": {
        "id": "XTuvrei4mGE5"
      },
      "source": [
        "Radomforest"
      ]
    },
    {
      "cell_type": "code",
      "execution_count": 16,
      "metadata": {
        "id": "lJ_hZf9VlOiY"
      },
      "outputs": [],
      "source": [
        "from sklearn.ensemble import RandomForestClassifier\n",
        "rf = RandomForestClassifier(n_estimators=125, random_state=0)\n",
        "rf.fit(X_train, y_train)\n",
        "y_pred_RF=rf.predict(X_test)"
      ]
    },
    {
      "cell_type": "markdown",
      "metadata": {
        "id": "ghmoo3jBmI9I"
      },
      "source": [
        "xgboost"
      ]
    },
    {
      "cell_type": "code",
      "execution_count": 7,
      "metadata": {
        "id": "ateLyo-hlZ6B"
      },
      "outputs": [],
      "source": [
        "import xgboost as xgb\n",
        "xgb_classifier = xgb.XGBClassifier(max_depth=14)\n",
        "xgb_classifier.fit(X_train.values, y_train.values)  \n",
        "y_pred_XG = xgb_classifier.predict(X_test.values)"
      ]
    },
    {
      "cell_type": "markdown",
      "metadata": {
        "id": "lVzqRjIOmLT9"
      },
      "source": [
        "Accurecy"
      ]
    },
    {
      "cell_type": "code",
      "execution_count": 8,
      "metadata": {
        "colab": {
          "base_uri": "https://localhost:8080/"
        },
        "id": "f4NzJ4z12lI3",
        "outputId": "f36b7b64-d08f-4ec8-87d5-27d4d004c093"
      },
      "outputs": [
        {
          "output_type": "stream",
          "name": "stdout",
          "text": [
            "Accurecy KNN:  0.7467657660174915\n",
            "Accurecy RF:  0.7600380005029478\n",
            "Accurecy XG:  0.7751543770432255\n"
          ]
        }
      ],
      "source": [
        "from sklearn.metrics import accuracy_score\n",
        "print(\"Accurecy KNN: \",accuracy_score(y_test, y_pred_KNN))\n",
        "print(\"Accurecy RF: \",accuracy_score(y_test, y_pred_RF))\n",
        "print(\"Accurecy XG: \",accuracy_score(y_test, y_pred_XG))\n"
      ]
    },
    {
      "cell_type": "code",
      "source": [
        ""
      ],
      "metadata": {
        "id": "PdQUeLfDDdiO"
      },
      "execution_count": null,
      "outputs": []
    },
    {
      "cell_type": "code",
      "source": [
        ""
      ],
      "metadata": {
        "id": "57aiirM-DecX"
      },
      "execution_count": null,
      "outputs": []
    },
    {
      "cell_type": "markdown",
      "metadata": {
        "id": "t0oUTQ7PioB4"
      },
      "source": [
        "#LIME\n",
        "\n",
        "For further usage and Rearch perpose"
      ]
    },
    {
      "cell_type": "code",
      "execution_count": null,
      "metadata": {
        "id": "ZEXlr_FMikI0"
      },
      "outputs": [],
      "source": [
        "!pip install lime"
      ]
    },
    {
      "cell_type": "code",
      "execution_count": null,
      "metadata": {
        "id": "UmYY1k2jiy5D"
      },
      "outputs": [],
      "source": [
        "X_test.iloc[8]"
      ]
    },
    {
      "cell_type": "code",
      "execution_count": null,
      "metadata": {
        "id": "8R6e4nvfi2jp"
      },
      "outputs": [],
      "source": [
        "ex_specie = np.array(X_test.iloc[10]).reshape(1,-1)"
      ]
    },
    {
      "cell_type": "code",
      "execution_count": null,
      "metadata": {
        "id": "gzYCuKEitc_Q"
      },
      "outputs": [],
      "source": [
        "print(X_test.iloc[[10]])"
      ]
    },
    {
      "cell_type": "code",
      "execution_count": null,
      "metadata": {
        "id": "Jlxj42uXi4g0"
      },
      "outputs": [],
      "source": [
        "print(\"Prediction for KNN: \",KNN_class.predict(ex_specie)[0])\n",
        "print(\"Prediction for RF: \",rf.predict(ex_specie)[0])\n",
        "print(\"Prediction for XG: \",xgb_classifier.predict(np.array(X_train.iloc[[10]]))[0])\n",
        "print(\"Prediction Accual: \",list(y_test.iloc[[10]])[0])"
      ]
    },
    {
      "cell_type": "code",
      "source": [
        "print(\"Prediction Accual: \",list(y_test.iloc[[10]])[0])"
      ],
      "metadata": {
        "id": "BTG6rNqdI_RX"
      },
      "execution_count": null,
      "outputs": []
    },
    {
      "cell_type": "code",
      "execution_count": null,
      "metadata": {
        "id": "svp6IUwsyJYT"
      },
      "outputs": [],
      "source": [
        "import lime\n",
        "from lime import lime_tabular\n",
        "explainer = lime_tabular.LimeTabularExplainer(\n",
        "    training_data=np.array(X_train),\n",
        "    feature_names=list(dataset.iloc[:0,1:]),\n",
        "    class_names=['N1','N2','N3','R','W'],\n",
        "    mode='classification'\n",
        ")"
      ]
    },
    {
      "cell_type": "code",
      "execution_count": null,
      "metadata": {
        "id": "1q-DkWriyKW2"
      },
      "outputs": [],
      "source": [
        "exp_KNN = explainer.explain_instance(X_test.iloc[10],\n",
        "                                 KNN_class.predict_proba,\n",
        "                                 num_features=6,\n",
        "                                 top_labels=5)\n",
        "\n",
        "#exp_KNN.show_in_notebook(show_table=True, show_all=False)"
      ]
    },
    {
      "cell_type": "code",
      "source": [
        "exp_KNN.save_to_file(\"KNN.html\")"
      ],
      "metadata": {
        "id": "6YJO74uq3Ho3"
      },
      "execution_count": null,
      "outputs": []
    },
    {
      "cell_type": "code",
      "execution_count": null,
      "metadata": {
        "id": "yr1FWbYoyYLV"
      },
      "outputs": [],
      "source": [
        "exp_rf = explainer.explain_instance(X_test.iloc[10],\n",
        "                                 rf.predict_proba,\n",
        "                                 num_features=6,\n",
        "                                 top_labels=5)\n",
        "\n",
        "#exp_rf.show_in_notebook(show_table=True, show_all=False)"
      ]
    },
    {
      "cell_type": "code",
      "source": [
        "exp_rf.save_to_file(\"RandomForest.html\")"
      ],
      "metadata": {
        "id": "16HIswtV3XA3"
      },
      "execution_count": null,
      "outputs": []
    },
    {
      "cell_type": "code",
      "source": [
        "explainer = lime.lime_tabular.LimeTabularExplainer(X_train.values,\n",
        "                                                   feature_names=list(dataset.iloc[:0,1:]),\n",
        "                                                   class_names=['N1','N2','N3','R','W'])"
      ],
      "metadata": {
        "id": "xHD0sPt24e2B"
      },
      "execution_count": null,
      "outputs": []
    },
    {
      "cell_type": "code",
      "source": [
        "exp_xg = explainer.explain_instance(X_train.iloc[10, :].values,\n",
        "                                 xgb_classifier.predict_proba,\n",
        "                                 num_features=6,\n",
        "                                 top_labels=5)\n",
        "\n",
        "#exp_xg.show_in_notebook(show_table=True, show_all=False)"
      ],
      "metadata": {
        "id": "hrsiTHfT4omg"
      },
      "execution_count": null,
      "outputs": []
    },
    {
      "cell_type": "code",
      "source": [
        "exp_xg.save_to_file(\"XG_boost.html\")"
      ],
      "metadata": {
        "id": "o6AIRhyL5VOU"
      },
      "execution_count": null,
      "outputs": []
    },
    {
      "cell_type": "markdown",
      "source": [
        "\n",
        "\n",
        "---\n",
        "\n"
      ],
      "metadata": {
        "id": "Sz2REKDLEKiF"
      }
    },
    {
      "cell_type": "markdown",
      "source": [
        "\n",
        "\n",
        "---\n",
        "\n",
        "\n",
        "\n",
        "---\n",
        "\n"
      ],
      "metadata": {
        "id": "Apmod8ozEN01"
      }
    },
    {
      "cell_type": "markdown",
      "source": [
        "#Reaserch Execution\n",
        "For only this reasearch"
      ],
      "metadata": {
        "id": "jeomW6MuEFGk"
      }
    },
    {
      "cell_type": "markdown",
      "source": [
        "Randomly chossing Rows"
      ],
      "metadata": {
        "id": "T-uxKOjzqW41"
      }
    },
    {
      "cell_type": "code",
      "source": [
        "from sklearn.utils.extmath import row_norms\n",
        "from tqdm import tqdm\n",
        "import random\n",
        "all=[]\n",
        "none=[]\n",
        "onlyRF=[]\n",
        "onlyXG=[]\n",
        "onlyKNN=[]\n",
        "\n",
        "RFKNN=[]\n",
        "RFXG=[]\n",
        "KNNXG=[]\n",
        "\n",
        "\n",
        "for i in tqdm(range(0,100)):\n",
        "  print(\"For:\",i)\n",
        "  ex_specie = np.array(X_test.iloc[i]).reshape(1,-1)\n",
        "  knn=KNN_class.predict(ex_specie)[0]\n",
        "  ranf=rf.predict(ex_specie)[0]\n",
        "  xg=xgb_classifier.predict(np.array(X_train.iloc[[i]]))[0]\n",
        "  y=y_test.iloc[i]\n",
        "  print(\"Prediction for KNN: \",knn)\n",
        "  print(\"Prediction for RF: \",ranf)\n",
        "  print(\"Prediction for XG: \",xg)\n",
        "  print(\"           Actual: \",y)\n",
        "  \n",
        "  if y==knn and y==ranf and y==xg:\n",
        "    all.append(i)\n",
        "  \n",
        "  elif y==knn and y!=ranf and y!=xg:\n",
        "    onlyKNN.append(i)\n",
        "  \n",
        "  elif y!=knn and y==ranf and y!=xg:\n",
        "    onlyRF.append(i)\n",
        "  \n",
        "  elif y!=knn and y!= ranf and y==xg:\n",
        "    onlyXG.append(i)\n",
        "  \n",
        "  elif y==knn and y==ranf and y!=xg:\n",
        "    RFKNN.append(i)\n",
        "  \n",
        "  elif y!=knn and y==ranf and y==xg:\n",
        "    RFXG.append(i)\n",
        "  \n",
        "  elif y==knn and y!=ranf and y==xg:\n",
        "    KNNXG.append(i)\n",
        "  \n",
        "  else:\n",
        "    none.append(i)\n",
        "\n",
        "temp_rows=[all,none,onlyRF,onlyXG,onlyKNN,RFKNN,RFXG,KNNXG]\n",
        "sec=[\"ALL\",\"NONE\",\"ONLY_RF\",\"ONLY_XG\",\"ONLY_KNN\",\"RF_KNN\",\"RF_XG\",\"KNN_XG\"]\n",
        "rows=[]\n",
        "\n",
        "for i in temp_rows:\n",
        "  rows.append(random.choice(i))"
      ],
      "metadata": {
        "colab": {
          "base_uri": "https://localhost:8080/"
        },
        "id": "u2rbMi1jlJoC",
        "outputId": "78cbe434-42ec-4743-9972-3f84c1c6aaa0"
      },
      "execution_count": 17,
      "outputs": [
        {
          "output_type": "stream",
          "name": "stderr",
          "text": [
            "  0%|          | 0/100 [00:00<?, ?it/s]/usr/local/lib/python3.7/dist-packages/sklearn/base.py:451: UserWarning: X does not have valid feature names, but KNeighborsClassifier was fitted with feature names\n",
            "  \"X does not have valid feature names, but\"\n",
            "/usr/local/lib/python3.7/dist-packages/sklearn/base.py:451: UserWarning: X does not have valid feature names, but RandomForestClassifier was fitted with feature names\n",
            "  \"X does not have valid feature names, but\"\n",
            "/usr/local/lib/python3.7/dist-packages/sklearn/base.py:451: UserWarning: X does not have valid feature names, but KNeighborsClassifier was fitted with feature names\n",
            "  \"X does not have valid feature names, but\"\n",
            "/usr/local/lib/python3.7/dist-packages/sklearn/base.py:451: UserWarning: X does not have valid feature names, but RandomForestClassifier was fitted with feature names\n",
            "  \"X does not have valid feature names, but\"\n",
            "/usr/local/lib/python3.7/dist-packages/sklearn/base.py:451: UserWarning: X does not have valid feature names, but KNeighborsClassifier was fitted with feature names\n",
            "  \"X does not have valid feature names, but\"\n",
            "/usr/local/lib/python3.7/dist-packages/sklearn/base.py:451: UserWarning: X does not have valid feature names, but RandomForestClassifier was fitted with feature names\n",
            "  \"X does not have valid feature names, but\"\n",
            "  3%|▎         | 3/100 [00:00<00:04, 21.30it/s]/usr/local/lib/python3.7/dist-packages/sklearn/base.py:451: UserWarning: X does not have valid feature names, but KNeighborsClassifier was fitted with feature names\n",
            "  \"X does not have valid feature names, but\"\n",
            "/usr/local/lib/python3.7/dist-packages/sklearn/base.py:451: UserWarning: X does not have valid feature names, but RandomForestClassifier was fitted with feature names\n",
            "  \"X does not have valid feature names, but\"\n"
          ]
        },
        {
          "output_type": "stream",
          "name": "stdout",
          "text": [
            "For: 0\n",
            "Prediction for KNN:  R\n",
            "Prediction for RF:  RandomForestClassifier(n_estimators=125, random_state=0)\n",
            "Prediction for XG:  N2\n",
            "           Actual:  R\n",
            "For: 1\n",
            "Prediction for KNN:  R\n",
            "Prediction for RF:  RandomForestClassifier(n_estimators=125, random_state=0)\n",
            "Prediction for XG:  N2\n",
            "           Actual:  R\n",
            "For: 2\n",
            "Prediction for KNN:  N2\n",
            "Prediction for RF:  RandomForestClassifier(n_estimators=125, random_state=0)\n",
            "Prediction for XG:  N1\n",
            "           Actual:  N2\n",
            "For: 3\n",
            "Prediction for KNN:  N2\n",
            "Prediction for RF:  RandomForestClassifier(n_estimators=125, random_state=0)\n",
            "Prediction for XG:  W\n",
            "           Actual:  N2\n",
            "For: "
          ]
        },
        {
          "output_type": "stream",
          "name": "stderr",
          "text": [
            "/usr/local/lib/python3.7/dist-packages/sklearn/base.py:451: UserWarning: X does not have valid feature names, but KNeighborsClassifier was fitted with feature names\n",
            "  \"X does not have valid feature names, but\"\n",
            "/usr/local/lib/python3.7/dist-packages/sklearn/base.py:451: UserWarning: X does not have valid feature names, but RandomForestClassifier was fitted with feature names\n",
            "  \"X does not have valid feature names, but\"\n",
            "/usr/local/lib/python3.7/dist-packages/sklearn/base.py:451: UserWarning: X does not have valid feature names, but KNeighborsClassifier was fitted with feature names\n",
            "  \"X does not have valid feature names, but\"\n",
            "/usr/local/lib/python3.7/dist-packages/sklearn/base.py:451: UserWarning: X does not have valid feature names, but RandomForestClassifier was fitted with feature names\n",
            "  \"X does not have valid feature names, but\"\n",
            "  6%|▌         | 6/100 [00:00<00:04, 19.52it/s]/usr/local/lib/python3.7/dist-packages/sklearn/base.py:451: UserWarning: X does not have valid feature names, but KNeighborsClassifier was fitted with feature names\n",
            "  \"X does not have valid feature names, but\"\n",
            "/usr/local/lib/python3.7/dist-packages/sklearn/base.py:451: UserWarning: X does not have valid feature names, but RandomForestClassifier was fitted with feature names\n",
            "  \"X does not have valid feature names, but\"\n",
            "/usr/local/lib/python3.7/dist-packages/sklearn/base.py:451: UserWarning: X does not have valid feature names, but KNeighborsClassifier was fitted with feature names\n",
            "  \"X does not have valid feature names, but\"\n",
            "/usr/local/lib/python3.7/dist-packages/sklearn/base.py:451: UserWarning: X does not have valid feature names, but RandomForestClassifier was fitted with feature names\n",
            "  \"X does not have valid feature names, but\"\n",
            "  8%|▊         | 8/100 [00:00<00:04, 19.52it/s]/usr/local/lib/python3.7/dist-packages/sklearn/base.py:451: UserWarning: X does not have valid feature names, but KNeighborsClassifier was fitted with feature names\n",
            "  \"X does not have valid feature names, but\"\n",
            "/usr/local/lib/python3.7/dist-packages/sklearn/base.py:451: UserWarning: X does not have valid feature names, but RandomForestClassifier was fitted with feature names\n",
            "  \"X does not have valid feature names, but\"\n"
          ]
        },
        {
          "output_type": "stream",
          "name": "stdout",
          "text": [
            "4\n",
            "Prediction for KNN:  N1\n",
            "Prediction for RF:  RandomForestClassifier(n_estimators=125, random_state=0)\n",
            "Prediction for XG:  W\n",
            "           Actual:  W\n",
            "For: 5\n",
            "Prediction for KNN:  N3\n",
            "Prediction for RF:  RandomForestClassifier(n_estimators=125, random_state=0)\n",
            "Prediction for XG:  W\n",
            "           Actual:  N3\n",
            "For: 6\n",
            "Prediction for KNN:  N2\n",
            "Prediction for RF:  RandomForestClassifier(n_estimators=125, random_state=0)\n",
            "Prediction for XG:  W\n",
            "           Actual:  W\n",
            "For: 7\n",
            "Prediction for KNN:  N2\n",
            "Prediction for RF:  RandomForestClassifier(n_estimators=125, random_state=0)\n",
            "Prediction for XG:  N2\n",
            "           Actual:  N1\n",
            "For: 8\n"
          ]
        },
        {
          "output_type": "stream",
          "name": "stderr",
          "text": [
            "/usr/local/lib/python3.7/dist-packages/sklearn/base.py:451: UserWarning: X does not have valid feature names, but KNeighborsClassifier was fitted with feature names\n",
            "  \"X does not have valid feature names, but\"\n",
            "/usr/local/lib/python3.7/dist-packages/sklearn/base.py:451: UserWarning: X does not have valid feature names, but RandomForestClassifier was fitted with feature names\n",
            "  \"X does not have valid feature names, but\"\n",
            " 10%|█         | 10/100 [00:00<00:04, 19.06it/s]/usr/local/lib/python3.7/dist-packages/sklearn/base.py:451: UserWarning: X does not have valid feature names, but KNeighborsClassifier was fitted with feature names\n",
            "  \"X does not have valid feature names, but\"\n",
            "/usr/local/lib/python3.7/dist-packages/sklearn/base.py:451: UserWarning: X does not have valid feature names, but RandomForestClassifier was fitted with feature names\n",
            "  \"X does not have valid feature names, but\"\n",
            "/usr/local/lib/python3.7/dist-packages/sklearn/base.py:451: UserWarning: X does not have valid feature names, but KNeighborsClassifier was fitted with feature names\n",
            "  \"X does not have valid feature names, but\"\n",
            "/usr/local/lib/python3.7/dist-packages/sklearn/base.py:451: UserWarning: X does not have valid feature names, but RandomForestClassifier was fitted with feature names\n",
            "  \"X does not have valid feature names, but\"\n",
            " 12%|█▏        | 12/100 [00:00<00:04, 18.25it/s]"
          ]
        },
        {
          "output_type": "stream",
          "name": "stdout",
          "text": [
            "Prediction for KNN:  N3\n",
            "Prediction for RF:  RandomForestClassifier(n_estimators=125, random_state=0)\n",
            "Prediction for XG:  N2\n",
            "           Actual:  N3\n",
            "For: 9\n",
            "Prediction for KNN:  N1\n",
            "Prediction for RF:  RandomForestClassifier(n_estimators=125, random_state=0)\n",
            "Prediction for XG:  N1\n",
            "           Actual:  N1\n",
            "For: 10\n",
            "Prediction for KNN:  N3\n",
            "Prediction for RF:  RandomForestClassifier(n_estimators=125, random_state=0)\n",
            "Prediction for XG:  W\n",
            "           Actual:  N3\n",
            "For: 11\n",
            "Prediction for KNN:  N3\n",
            "Prediction for RF:  RandomForestClassifier(n_estimators=125, random_state=0)\n",
            "Prediction for XG:  N3\n",
            "           Actual:  N3\n",
            "For: 12\n"
          ]
        },
        {
          "output_type": "stream",
          "name": "stderr",
          "text": [
            "/usr/local/lib/python3.7/dist-packages/sklearn/base.py:451: UserWarning: X does not have valid feature names, but KNeighborsClassifier was fitted with feature names\n",
            "  \"X does not have valid feature names, but\"\n",
            "/usr/local/lib/python3.7/dist-packages/sklearn/base.py:451: UserWarning: X does not have valid feature names, but RandomForestClassifier was fitted with feature names\n",
            "  \"X does not have valid feature names, but\"\n",
            "/usr/local/lib/python3.7/dist-packages/sklearn/base.py:451: UserWarning: X does not have valid feature names, but KNeighborsClassifier was fitted with feature names\n",
            "  \"X does not have valid feature names, but\"\n",
            "/usr/local/lib/python3.7/dist-packages/sklearn/base.py:451: UserWarning: X does not have valid feature names, but RandomForestClassifier was fitted with feature names\n",
            "  \"X does not have valid feature names, but\"\n",
            " 14%|█▍        | 14/100 [00:00<00:05, 16.82it/s]/usr/local/lib/python3.7/dist-packages/sklearn/base.py:451: UserWarning: X does not have valid feature names, but KNeighborsClassifier was fitted with feature names\n",
            "  \"X does not have valid feature names, but\"\n",
            "/usr/local/lib/python3.7/dist-packages/sklearn/base.py:451: UserWarning: X does not have valid feature names, but RandomForestClassifier was fitted with feature names\n",
            "  \"X does not have valid feature names, but\"\n",
            "/usr/local/lib/python3.7/dist-packages/sklearn/base.py:451: UserWarning: X does not have valid feature names, but KNeighborsClassifier was fitted with feature names\n",
            "  \"X does not have valid feature names, but\"\n",
            "/usr/local/lib/python3.7/dist-packages/sklearn/base.py:451: UserWarning: X does not have valid feature names, but RandomForestClassifier was fitted with feature names\n",
            "  \"X does not have valid feature names, but\"\n"
          ]
        },
        {
          "output_type": "stream",
          "name": "stdout",
          "text": [
            "Prediction for KNN:  N2\n",
            "Prediction for RF:  RandomForestClassifier(n_estimators=125, random_state=0)\n",
            "Prediction for XG:  W\n",
            "           Actual:  N3\n",
            "For: 13\n",
            "Prediction for KNN:  N1\n",
            "Prediction for RF:  RandomForestClassifier(n_estimators=125, random_state=0)\n",
            "Prediction for XG:  R\n",
            "           Actual:  W\n",
            "For: 14\n",
            "Prediction for KNN:  W\n",
            "Prediction for RF:  RandomForestClassifier(n_estimators=125, random_state=0)\n",
            "Prediction for XG:  N1\n",
            "           Actual:  W\n",
            "For: 15\n"
          ]
        },
        {
          "output_type": "stream",
          "name": "stderr",
          "text": [
            "\r 16%|█▌        | 16/100 [00:00<00:05, 15.18it/s]/usr/local/lib/python3.7/dist-packages/sklearn/base.py:451: UserWarning: X does not have valid feature names, but KNeighborsClassifier was fitted with feature names\n",
            "  \"X does not have valid feature names, but\"\n",
            "/usr/local/lib/python3.7/dist-packages/sklearn/base.py:451: UserWarning: X does not have valid feature names, but RandomForestClassifier was fitted with feature names\n",
            "  \"X does not have valid feature names, but\"\n",
            "/usr/local/lib/python3.7/dist-packages/sklearn/base.py:451: UserWarning: X does not have valid feature names, but KNeighborsClassifier was fitted with feature names\n",
            "  \"X does not have valid feature names, but\"\n",
            "/usr/local/lib/python3.7/dist-packages/sklearn/base.py:451: UserWarning: X does not have valid feature names, but RandomForestClassifier was fitted with feature names\n",
            "  \"X does not have valid feature names, but\"\n",
            " 18%|█▊        | 18/100 [00:01<00:05, 14.56it/s]"
          ]
        },
        {
          "output_type": "stream",
          "name": "stdout",
          "text": [
            "Prediction for KNN:  W\n",
            "Prediction for RF:  RandomForestClassifier(n_estimators=125, random_state=0)\n",
            "Prediction for XG:  N2\n",
            "           Actual:  W\n",
            "For: 16\n",
            "Prediction for KNN:  R\n",
            "Prediction for RF:  RandomForestClassifier(n_estimators=125, random_state=0)\n",
            "Prediction for XG:  R\n",
            "           Actual:  N2\n",
            "For: 17\n",
            "Prediction for KNN:  N3\n",
            "Prediction for RF:  RandomForestClassifier(n_estimators=125, random_state=0)\n",
            "Prediction for XG:  N2\n",
            "           Actual:  N3\n",
            "For: 18\n"
          ]
        },
        {
          "output_type": "stream",
          "name": "stderr",
          "text": [
            "/usr/local/lib/python3.7/dist-packages/sklearn/base.py:451: UserWarning: X does not have valid feature names, but KNeighborsClassifier was fitted with feature names\n",
            "  \"X does not have valid feature names, but\"\n",
            "/usr/local/lib/python3.7/dist-packages/sklearn/base.py:451: UserWarning: X does not have valid feature names, but RandomForestClassifier was fitted with feature names\n",
            "  \"X does not have valid feature names, but\"\n",
            "/usr/local/lib/python3.7/dist-packages/sklearn/base.py:451: UserWarning: X does not have valid feature names, but KNeighborsClassifier was fitted with feature names\n",
            "  \"X does not have valid feature names, but\"\n",
            "/usr/local/lib/python3.7/dist-packages/sklearn/base.py:451: UserWarning: X does not have valid feature names, but RandomForestClassifier was fitted with feature names\n",
            "  \"X does not have valid feature names, but\"\n",
            " 20%|██        | 20/100 [00:01<00:05, 14.25it/s]/usr/local/lib/python3.7/dist-packages/sklearn/base.py:451: UserWarning: X does not have valid feature names, but KNeighborsClassifier was fitted with feature names\n",
            "  \"X does not have valid feature names, but\"\n",
            "/usr/local/lib/python3.7/dist-packages/sklearn/base.py:451: UserWarning: X does not have valid feature names, but RandomForestClassifier was fitted with feature names\n",
            "  \"X does not have valid feature names, but\"\n"
          ]
        },
        {
          "output_type": "stream",
          "name": "stdout",
          "text": [
            "Prediction for KNN:  N1\n",
            "Prediction for RF:  RandomForestClassifier(n_estimators=125, random_state=0)\n",
            "Prediction for XG:  R\n",
            "           Actual:  W\n",
            "For: 19\n",
            "Prediction for KNN:  N1\n",
            "Prediction for RF:  RandomForestClassifier(n_estimators=125, random_state=0)\n",
            "Prediction for XG:  R\n",
            "           Actual:  W\n",
            "For: 20\n",
            "Prediction for KNN:  N3\n",
            "Prediction for RF:  RandomForestClassifier(n_estimators=125, random_state=0)\n",
            "Prediction for XG:  N2\n",
            "           Actual:  N3\n",
            "For: 21\n"
          ]
        },
        {
          "output_type": "stream",
          "name": "stderr",
          "text": [
            "/usr/local/lib/python3.7/dist-packages/sklearn/base.py:451: UserWarning: X does not have valid feature names, but KNeighborsClassifier was fitted with feature names\n",
            "  \"X does not have valid feature names, but\"\n",
            "/usr/local/lib/python3.7/dist-packages/sklearn/base.py:451: UserWarning: X does not have valid feature names, but RandomForestClassifier was fitted with feature names\n",
            "  \"X does not have valid feature names, but\"\n",
            " 22%|██▏       | 22/100 [00:01<00:05, 13.79it/s]/usr/local/lib/python3.7/dist-packages/sklearn/base.py:451: UserWarning: X does not have valid feature names, but KNeighborsClassifier was fitted with feature names\n",
            "  \"X does not have valid feature names, but\"\n",
            "/usr/local/lib/python3.7/dist-packages/sklearn/base.py:451: UserWarning: X does not have valid feature names, but RandomForestClassifier was fitted with feature names\n",
            "  \"X does not have valid feature names, but\"\n",
            "/usr/local/lib/python3.7/dist-packages/sklearn/base.py:451: UserWarning: X does not have valid feature names, but KNeighborsClassifier was fitted with feature names\n",
            "  \"X does not have valid feature names, but\"\n",
            "/usr/local/lib/python3.7/dist-packages/sklearn/base.py:451: UserWarning: X does not have valid feature names, but RandomForestClassifier was fitted with feature names\n",
            "  \"X does not have valid feature names, but\"\n",
            " 24%|██▍       | 24/100 [00:01<00:05, 13.88it/s]"
          ]
        },
        {
          "output_type": "stream",
          "name": "stdout",
          "text": [
            "Prediction for KNN:  W\n",
            "Prediction for RF:  RandomForestClassifier(n_estimators=125, random_state=0)\n",
            "Prediction for XG:  W\n",
            "           Actual:  W\n",
            "For: 22\n",
            "Prediction for KNN:  N2\n",
            "Prediction for RF:  RandomForestClassifier(n_estimators=125, random_state=0)\n",
            "Prediction for XG:  N2\n",
            "           Actual:  N3\n",
            "For: 23\n",
            "Prediction for KNN:  N2\n",
            "Prediction for RF:  RandomForestClassifier(n_estimators=125, random_state=0)\n",
            "Prediction for XG:  R\n",
            "           Actual:  W\n",
            "For: 24\n"
          ]
        },
        {
          "output_type": "stream",
          "name": "stderr",
          "text": [
            "/usr/local/lib/python3.7/dist-packages/sklearn/base.py:451: UserWarning: X does not have valid feature names, but KNeighborsClassifier was fitted with feature names\n",
            "  \"X does not have valid feature names, but\"\n",
            "/usr/local/lib/python3.7/dist-packages/sklearn/base.py:451: UserWarning: X does not have valid feature names, but RandomForestClassifier was fitted with feature names\n",
            "  \"X does not have valid feature names, but\"\n",
            "/usr/local/lib/python3.7/dist-packages/sklearn/base.py:451: UserWarning: X does not have valid feature names, but KNeighborsClassifier was fitted with feature names\n",
            "  \"X does not have valid feature names, but\"\n",
            "/usr/local/lib/python3.7/dist-packages/sklearn/base.py:451: UserWarning: X does not have valid feature names, but RandomForestClassifier was fitted with feature names\n",
            "  \"X does not have valid feature names, but\"\n",
            " 26%|██▌       | 26/100 [00:01<00:05, 13.44it/s]/usr/local/lib/python3.7/dist-packages/sklearn/base.py:451: UserWarning: X does not have valid feature names, but KNeighborsClassifier was fitted with feature names\n",
            "  \"X does not have valid feature names, but\"\n",
            "/usr/local/lib/python3.7/dist-packages/sklearn/base.py:451: UserWarning: X does not have valid feature names, but RandomForestClassifier was fitted with feature names\n",
            "  \"X does not have valid feature names, but\"\n",
            "/usr/local/lib/python3.7/dist-packages/sklearn/base.py:451: UserWarning: X does not have valid feature names, but KNeighborsClassifier was fitted with feature names\n",
            "  \"X does not have valid feature names, but\"\n",
            "/usr/local/lib/python3.7/dist-packages/sklearn/base.py:451: UserWarning: X does not have valid feature names, but RandomForestClassifier was fitted with feature names\n",
            "  \"X does not have valid feature names, but\"\n",
            " 28%|██▊       | 28/100 [00:01<00:05, 14.11it/s]"
          ]
        },
        {
          "output_type": "stream",
          "name": "stdout",
          "text": [
            "Prediction for KNN:  N2\n",
            "Prediction for RF:  RandomForestClassifier(n_estimators=125, random_state=0)\n",
            "Prediction for XG:  W\n",
            "           Actual:  N2\n",
            "For: 25\n",
            "Prediction for KNN:  N2\n",
            "Prediction for RF:  RandomForestClassifier(n_estimators=125, random_state=0)\n",
            "Prediction for XG:  N2\n",
            "           Actual:  R\n",
            "For: 26\n",
            "Prediction for KNN:  N3\n",
            "Prediction for RF:  RandomForestClassifier(n_estimators=125, random_state=0)\n",
            "Prediction for XG:  N2\n",
            "           Actual:  N3\n",
            "For: 27\n",
            "Prediction for KNN:  W\n",
            "Prediction for RF:  RandomForestClassifier(n_estimators=125, random_state=0)\n",
            "Prediction for XG:  N2\n",
            "           Actual:  W\n",
            "For: 28\n"
          ]
        },
        {
          "output_type": "stream",
          "name": "stderr",
          "text": [
            "/usr/local/lib/python3.7/dist-packages/sklearn/base.py:451: UserWarning: X does not have valid feature names, but KNeighborsClassifier was fitted with feature names\n",
            "  \"X does not have valid feature names, but\"\n",
            "/usr/local/lib/python3.7/dist-packages/sklearn/base.py:451: UserWarning: X does not have valid feature names, but RandomForestClassifier was fitted with feature names\n",
            "  \"X does not have valid feature names, but\"\n",
            "/usr/local/lib/python3.7/dist-packages/sklearn/base.py:451: UserWarning: X does not have valid feature names, but KNeighborsClassifier was fitted with feature names\n",
            "  \"X does not have valid feature names, but\"\n",
            "/usr/local/lib/python3.7/dist-packages/sklearn/base.py:451: UserWarning: X does not have valid feature names, but RandomForestClassifier was fitted with feature names\n",
            "  \"X does not have valid feature names, but\"\n",
            " 30%|███       | 30/100 [00:01<00:05, 13.93it/s]/usr/local/lib/python3.7/dist-packages/sklearn/base.py:451: UserWarning: X does not have valid feature names, but KNeighborsClassifier was fitted with feature names\n",
            "  \"X does not have valid feature names, but\"\n",
            "/usr/local/lib/python3.7/dist-packages/sklearn/base.py:451: UserWarning: X does not have valid feature names, but RandomForestClassifier was fitted with feature names\n",
            "  \"X does not have valid feature names, but\"\n",
            "/usr/local/lib/python3.7/dist-packages/sklearn/base.py:451: UserWarning: X does not have valid feature names, but KNeighborsClassifier was fitted with feature names\n",
            "  \"X does not have valid feature names, but\"\n"
          ]
        },
        {
          "output_type": "stream",
          "name": "stdout",
          "text": [
            "Prediction for KNN:  N3\n",
            "Prediction for RF:  RandomForestClassifier(n_estimators=125, random_state=0)\n",
            "Prediction for XG:  N2\n",
            "           Actual:  N3\n",
            "For: 29\n",
            "Prediction for KNN:  N2\n",
            "Prediction for RF:  RandomForestClassifier(n_estimators=125, random_state=0)\n",
            "Prediction for XG:  W\n",
            "           Actual:  N2\n",
            "For: 30\n",
            "Prediction for KNN:  N2\n",
            "Prediction for RF:  RandomForestClassifier(n_estimators=125, random_state=0)\n",
            "Prediction for XG:  N2\n",
            "           Actual:  N2\n",
            "For: 31\n"
          ]
        },
        {
          "output_type": "stream",
          "name": "stderr",
          "text": [
            "/usr/local/lib/python3.7/dist-packages/sklearn/base.py:451: UserWarning: X does not have valid feature names, but RandomForestClassifier was fitted with feature names\n",
            "  \"X does not have valid feature names, but\"\n",
            "\r 32%|███▏      | 32/100 [00:02<00:04, 13.93it/s]/usr/local/lib/python3.7/dist-packages/sklearn/base.py:451: UserWarning: X does not have valid feature names, but KNeighborsClassifier was fitted with feature names\n",
            "  \"X does not have valid feature names, but\"\n",
            "/usr/local/lib/python3.7/dist-packages/sklearn/base.py:451: UserWarning: X does not have valid feature names, but RandomForestClassifier was fitted with feature names\n",
            "  \"X does not have valid feature names, but\"\n",
            "/usr/local/lib/python3.7/dist-packages/sklearn/base.py:451: UserWarning: X does not have valid feature names, but KNeighborsClassifier was fitted with feature names\n",
            "  \"X does not have valid feature names, but\"\n",
            "/usr/local/lib/python3.7/dist-packages/sklearn/base.py:451: UserWarning: X does not have valid feature names, but RandomForestClassifier was fitted with feature names\n",
            "  \"X does not have valid feature names, but\"\n",
            " 34%|███▍      | 34/100 [00:02<00:04, 14.44it/s]/usr/local/lib/python3.7/dist-packages/sklearn/base.py:451: UserWarning: X does not have valid feature names, but KNeighborsClassifier was fitted with feature names\n",
            "  \"X does not have valid feature names, but\"\n"
          ]
        },
        {
          "output_type": "stream",
          "name": "stdout",
          "text": [
            "Prediction for KNN:  N2\n",
            "Prediction for RF:  RandomForestClassifier(n_estimators=125, random_state=0)\n",
            "Prediction for XG:  N2\n",
            "           Actual:  N2\n",
            "For: 32\n",
            "Prediction for KNN:  R\n",
            "Prediction for RF:  RandomForestClassifier(n_estimators=125, random_state=0)\n",
            "Prediction for XG:  N2\n",
            "           Actual:  W\n",
            "For: 33\n",
            "Prediction for KNN:  R\n",
            "Prediction for RF:  RandomForestClassifier(n_estimators=125, random_state=0)\n",
            "Prediction for XG:  N2\n",
            "           Actual:  R\n",
            "For: 34\n",
            "Prediction for KNN:  W\n",
            "Prediction for RF:  RandomForestClassifier(n_estimators=125, random_state=0)\n",
            "Prediction for XG:  N2\n",
            "           Actual:  W\n",
            "For: "
          ]
        },
        {
          "output_type": "stream",
          "name": "stderr",
          "text": [
            "/usr/local/lib/python3.7/dist-packages/sklearn/base.py:451: UserWarning: X does not have valid feature names, but RandomForestClassifier was fitted with feature names\n",
            "  \"X does not have valid feature names, but\"\n",
            "/usr/local/lib/python3.7/dist-packages/sklearn/base.py:451: UserWarning: X does not have valid feature names, but KNeighborsClassifier was fitted with feature names\n",
            "  \"X does not have valid feature names, but\"\n",
            "/usr/local/lib/python3.7/dist-packages/sklearn/base.py:451: UserWarning: X does not have valid feature names, but RandomForestClassifier was fitted with feature names\n",
            "  \"X does not have valid feature names, but\"\n",
            " 36%|███▌      | 36/100 [00:02<00:04, 14.21it/s]/usr/local/lib/python3.7/dist-packages/sklearn/base.py:451: UserWarning: X does not have valid feature names, but KNeighborsClassifier was fitted with feature names\n",
            "  \"X does not have valid feature names, but\"\n",
            "/usr/local/lib/python3.7/dist-packages/sklearn/base.py:451: UserWarning: X does not have valid feature names, but RandomForestClassifier was fitted with feature names\n",
            "  \"X does not have valid feature names, but\"\n",
            "/usr/local/lib/python3.7/dist-packages/sklearn/base.py:451: UserWarning: X does not have valid feature names, but KNeighborsClassifier was fitted with feature names\n",
            "  \"X does not have valid feature names, but\"\n"
          ]
        },
        {
          "output_type": "stream",
          "name": "stdout",
          "text": [
            "35\n",
            "Prediction for KNN:  W\n",
            "Prediction for RF:  RandomForestClassifier(n_estimators=125, random_state=0)\n",
            "Prediction for XG:  N3\n",
            "           Actual:  W\n",
            "For: 36\n",
            "Prediction for KNN:  N3\n",
            "Prediction for RF:  RandomForestClassifier(n_estimators=125, random_state=0)\n",
            "Prediction for XG:  R\n",
            "           Actual:  N3\n",
            "For: 37\n"
          ]
        },
        {
          "output_type": "stream",
          "name": "stderr",
          "text": [
            "/usr/local/lib/python3.7/dist-packages/sklearn/base.py:451: UserWarning: X does not have valid feature names, but RandomForestClassifier was fitted with feature names\n",
            "  \"X does not have valid feature names, but\"\n",
            "\r 38%|███▊      | 38/100 [00:02<00:04, 13.96it/s]/usr/local/lib/python3.7/dist-packages/sklearn/base.py:451: UserWarning: X does not have valid feature names, but KNeighborsClassifier was fitted with feature names\n",
            "  \"X does not have valid feature names, but\"\n",
            "/usr/local/lib/python3.7/dist-packages/sklearn/base.py:451: UserWarning: X does not have valid feature names, but RandomForestClassifier was fitted with feature names\n",
            "  \"X does not have valid feature names, but\"\n",
            "/usr/local/lib/python3.7/dist-packages/sklearn/base.py:451: UserWarning: X does not have valid feature names, but KNeighborsClassifier was fitted with feature names\n",
            "  \"X does not have valid feature names, but\"\n",
            "/usr/local/lib/python3.7/dist-packages/sklearn/base.py:451: UserWarning: X does not have valid feature names, but RandomForestClassifier was fitted with feature names\n",
            "  \"X does not have valid feature names, but\"\n",
            " 40%|████      | 40/100 [00:02<00:04, 13.29it/s]"
          ]
        },
        {
          "output_type": "stream",
          "name": "stdout",
          "text": [
            "Prediction for KNN:  N1\n",
            "Prediction for RF:  RandomForestClassifier(n_estimators=125, random_state=0)\n",
            "Prediction for XG:  N2\n",
            "           Actual:  N1\n",
            "For: 38\n",
            "Prediction for KNN:  W\n",
            "Prediction for RF:  RandomForestClassifier(n_estimators=125, random_state=0)\n",
            "Prediction for XG:  W\n",
            "           Actual:  R\n",
            "For: 39\n",
            "Prediction for KNN:  N3\n",
            "Prediction for RF:  RandomForestClassifier(n_estimators=125, random_state=0)\n",
            "Prediction for XG:  W\n",
            "           Actual:  N3\n",
            "For: 40\n"
          ]
        },
        {
          "output_type": "stream",
          "name": "stderr",
          "text": [
            "/usr/local/lib/python3.7/dist-packages/sklearn/base.py:451: UserWarning: X does not have valid feature names, but KNeighborsClassifier was fitted with feature names\n",
            "  \"X does not have valid feature names, but\"\n",
            "/usr/local/lib/python3.7/dist-packages/sklearn/base.py:451: UserWarning: X does not have valid feature names, but RandomForestClassifier was fitted with feature names\n",
            "  \"X does not have valid feature names, but\"\n",
            "/usr/local/lib/python3.7/dist-packages/sklearn/base.py:451: UserWarning: X does not have valid feature names, but KNeighborsClassifier was fitted with feature names\n",
            "  \"X does not have valid feature names, but\"\n",
            "/usr/local/lib/python3.7/dist-packages/sklearn/base.py:451: UserWarning: X does not have valid feature names, but RandomForestClassifier was fitted with feature names\n",
            "  \"X does not have valid feature names, but\"\n",
            " 42%|████▏     | 42/100 [00:02<00:04, 13.43it/s]/usr/local/lib/python3.7/dist-packages/sklearn/base.py:451: UserWarning: X does not have valid feature names, but KNeighborsClassifier was fitted with feature names\n",
            "  \"X does not have valid feature names, but\"\n",
            "/usr/local/lib/python3.7/dist-packages/sklearn/base.py:451: UserWarning: X does not have valid feature names, but RandomForestClassifier was fitted with feature names\n",
            "  \"X does not have valid feature names, but\"\n"
          ]
        },
        {
          "output_type": "stream",
          "name": "stdout",
          "text": [
            "Prediction for KNN:  N2\n",
            "Prediction for RF:  RandomForestClassifier(n_estimators=125, random_state=0)\n",
            "Prediction for XG:  W\n",
            "           Actual:  N1\n",
            "For: 41\n",
            "Prediction for KNN:  R\n",
            "Prediction for RF:  RandomForestClassifier(n_estimators=125, random_state=0)\n",
            "Prediction for XG:  N1\n",
            "           Actual:  R\n",
            "For: 42\n",
            "Prediction for KNN:  N2\n",
            "Prediction for RF:  RandomForestClassifier(n_estimators=125, random_state=0)\n",
            "Prediction for XG:  N2\n",
            "           Actual:  N2\n",
            "For: 43\n",
            "Prediction for KNN:  N2"
          ]
        },
        {
          "output_type": "stream",
          "name": "stderr",
          "text": [
            "/usr/local/lib/python3.7/dist-packages/sklearn/base.py:451: UserWarning: X does not have valid feature names, but KNeighborsClassifier was fitted with feature names\n",
            "  \"X does not have valid feature names, but\"\n",
            "/usr/local/lib/python3.7/dist-packages/sklearn/base.py:451: UserWarning: X does not have valid feature names, but RandomForestClassifier was fitted with feature names\n",
            "  \"X does not have valid feature names, but\"\n",
            " 44%|████▍     | 44/100 [00:02<00:04, 13.46it/s]/usr/local/lib/python3.7/dist-packages/sklearn/base.py:451: UserWarning: X does not have valid feature names, but KNeighborsClassifier was fitted with feature names\n",
            "  \"X does not have valid feature names, but\"\n",
            "/usr/local/lib/python3.7/dist-packages/sklearn/base.py:451: UserWarning: X does not have valid feature names, but RandomForestClassifier was fitted with feature names\n",
            "  \"X does not have valid feature names, but\"\n",
            "/usr/local/lib/python3.7/dist-packages/sklearn/base.py:451: UserWarning: X does not have valid feature names, but KNeighborsClassifier was fitted with feature names\n",
            "  \"X does not have valid feature names, but\"\n",
            "/usr/local/lib/python3.7/dist-packages/sklearn/base.py:451: UserWarning: X does not have valid feature names, but RandomForestClassifier was fitted with feature names\n",
            "  \"X does not have valid feature names, but\"\n",
            " 46%|████▌     | 46/100 [00:03<00:04, 13.50it/s]"
          ]
        },
        {
          "output_type": "stream",
          "name": "stdout",
          "text": [
            "\n",
            "Prediction for RF:  RandomForestClassifier(n_estimators=125, random_state=0)\n",
            "Prediction for XG:  R\n",
            "           Actual:  N2\n",
            "For: 44\n",
            "Prediction for KNN:  N2\n",
            "Prediction for RF:  RandomForestClassifier(n_estimators=125, random_state=0)\n",
            "Prediction for XG:  N1\n",
            "           Actual:  N1\n",
            "For: 45\n",
            "Prediction for KNN:  W\n",
            "Prediction for RF:  RandomForestClassifier(n_estimators=125, random_state=0)\n",
            "Prediction for XG:  N3\n",
            "           Actual:  W\n",
            "For: 46\n"
          ]
        },
        {
          "output_type": "stream",
          "name": "stderr",
          "text": [
            "/usr/local/lib/python3.7/dist-packages/sklearn/base.py:451: UserWarning: X does not have valid feature names, but KNeighborsClassifier was fitted with feature names\n",
            "  \"X does not have valid feature names, but\"\n",
            "/usr/local/lib/python3.7/dist-packages/sklearn/base.py:451: UserWarning: X does not have valid feature names, but RandomForestClassifier was fitted with feature names\n",
            "  \"X does not have valid feature names, but\"\n",
            "/usr/local/lib/python3.7/dist-packages/sklearn/base.py:451: UserWarning: X does not have valid feature names, but KNeighborsClassifier was fitted with feature names\n",
            "  \"X does not have valid feature names, but\"\n",
            "/usr/local/lib/python3.7/dist-packages/sklearn/base.py:451: UserWarning: X does not have valid feature names, but RandomForestClassifier was fitted with feature names\n",
            "  \"X does not have valid feature names, but\"\n",
            " 48%|████▊     | 48/100 [00:03<00:03, 13.92it/s]/usr/local/lib/python3.7/dist-packages/sklearn/base.py:451: UserWarning: X does not have valid feature names, but KNeighborsClassifier was fitted with feature names\n",
            "  \"X does not have valid feature names, but\"\n",
            "/usr/local/lib/python3.7/dist-packages/sklearn/base.py:451: UserWarning: X does not have valid feature names, but RandomForestClassifier was fitted with feature names\n",
            "  \"X does not have valid feature names, but\"\n",
            "/usr/local/lib/python3.7/dist-packages/sklearn/base.py:451: UserWarning: X does not have valid feature names, but KNeighborsClassifier was fitted with feature names\n",
            "  \"X does not have valid feature names, but\"\n"
          ]
        },
        {
          "output_type": "stream",
          "name": "stdout",
          "text": [
            "Prediction for KNN:  N3\n",
            "Prediction for RF:  RandomForestClassifier(n_estimators=125, random_state=0)\n",
            "Prediction for XG:  N2\n",
            "           Actual:  N3\n",
            "For: 47\n",
            "Prediction for KNN:  R\n",
            "Prediction for RF:  RandomForestClassifier(n_estimators=125, random_state=0)\n",
            "Prediction for XG:  N2\n",
            "           Actual:  R\n",
            "For: 48\n",
            "Prediction for KNN:  R\n",
            "Prediction for RF:  RandomForestClassifier(n_estimators=125, random_state=0)\n",
            "Prediction for XG:  R\n",
            "           Actual:  R\n",
            "For: 49\n"
          ]
        },
        {
          "output_type": "stream",
          "name": "stderr",
          "text": [
            "/usr/local/lib/python3.7/dist-packages/sklearn/base.py:451: UserWarning: X does not have valid feature names, but RandomForestClassifier was fitted with feature names\n",
            "  \"X does not have valid feature names, but\"\n",
            " 50%|█████     | 50/100 [00:03<00:03, 13.85it/s]/usr/local/lib/python3.7/dist-packages/sklearn/base.py:451: UserWarning: X does not have valid feature names, but KNeighborsClassifier was fitted with feature names\n",
            "  \"X does not have valid feature names, but\"\n",
            "/usr/local/lib/python3.7/dist-packages/sklearn/base.py:451: UserWarning: X does not have valid feature names, but RandomForestClassifier was fitted with feature names\n",
            "  \"X does not have valid feature names, but\"\n",
            "/usr/local/lib/python3.7/dist-packages/sklearn/base.py:451: UserWarning: X does not have valid feature names, but KNeighborsClassifier was fitted with feature names\n",
            "  \"X does not have valid feature names, but\"\n",
            "/usr/local/lib/python3.7/dist-packages/sklearn/base.py:451: UserWarning: X does not have valid feature names, but RandomForestClassifier was fitted with feature names\n",
            "  \"X does not have valid feature names, but\"\n",
            " 52%|█████▏    | 52/100 [00:03<00:03, 14.44it/s]/usr/local/lib/python3.7/dist-packages/sklearn/base.py:451: UserWarning: X does not have valid feature names, but KNeighborsClassifier was fitted with feature names\n",
            "  \"X does not have valid feature names, but\"\n",
            "/usr/local/lib/python3.7/dist-packages/sklearn/base.py:451: UserWarning: X does not have valid feature names, but RandomForestClassifier was fitted with feature names\n",
            "  \"X does not have valid feature names, but\"\n"
          ]
        },
        {
          "output_type": "stream",
          "name": "stdout",
          "text": [
            "Prediction for KNN:  N2\n",
            "Prediction for RF:  RandomForestClassifier(n_estimators=125, random_state=0)\n",
            "Prediction for XG:  W\n",
            "           Actual:  R\n",
            "For: 50\n",
            "Prediction for KNN:  N3\n",
            "Prediction for RF:  RandomForestClassifier(n_estimators=125, random_state=0)\n",
            "Prediction for XG:  N2\n",
            "           Actual:  N3\n",
            "For: 51\n",
            "Prediction for KNN:  N2\n",
            "Prediction for RF:  RandomForestClassifier(n_estimators=125, random_state=0)\n",
            "Prediction for XG:  N2\n",
            "           Actual:  N2\n",
            "For: 52\n",
            "Prediction for KNN:  N2\n",
            "Prediction for RF:  RandomForestClassifier(n_estimators=125, random_state=0)\n",
            "Prediction for XG:  N2\n",
            "           Actual:  N2\n",
            "For: 53"
          ]
        },
        {
          "output_type": "stream",
          "name": "stderr",
          "text": [
            "/usr/local/lib/python3.7/dist-packages/sklearn/base.py:451: UserWarning: X does not have valid feature names, but KNeighborsClassifier was fitted with feature names\n",
            "  \"X does not have valid feature names, but\"\n",
            "/usr/local/lib/python3.7/dist-packages/sklearn/base.py:451: UserWarning: X does not have valid feature names, but RandomForestClassifier was fitted with feature names\n",
            "  \"X does not have valid feature names, but\"\n",
            " 54%|█████▍    | 54/100 [00:03<00:03, 14.50it/s]/usr/local/lib/python3.7/dist-packages/sklearn/base.py:451: UserWarning: X does not have valid feature names, but KNeighborsClassifier was fitted with feature names\n",
            "  \"X does not have valid feature names, but\"\n",
            "/usr/local/lib/python3.7/dist-packages/sklearn/base.py:451: UserWarning: X does not have valid feature names, but RandomForestClassifier was fitted with feature names\n",
            "  \"X does not have valid feature names, but\"\n",
            "/usr/local/lib/python3.7/dist-packages/sklearn/base.py:451: UserWarning: X does not have valid feature names, but KNeighborsClassifier was fitted with feature names\n",
            "  \"X does not have valid feature names, but\"\n",
            "/usr/local/lib/python3.7/dist-packages/sklearn/base.py:451: UserWarning: X does not have valid feature names, but RandomForestClassifier was fitted with feature names\n",
            "  \"X does not have valid feature names, but\"\n",
            " 56%|█████▌    | 56/100 [00:03<00:02, 14.89it/s]/usr/local/lib/python3.7/dist-packages/sklearn/base.py:451: UserWarning: X does not have valid feature names, but KNeighborsClassifier was fitted with feature names\n",
            "  \"X does not have valid feature names, but\"\n",
            "/usr/local/lib/python3.7/dist-packages/sklearn/base.py:451: UserWarning: X does not have valid feature names, but RandomForestClassifier was fitted with feature names\n",
            "  \"X does not have valid feature names, but\"\n"
          ]
        },
        {
          "output_type": "stream",
          "name": "stdout",
          "text": [
            "\n",
            "Prediction for KNN:  N3\n",
            "Prediction for RF:  RandomForestClassifier(n_estimators=125, random_state=0)\n",
            "Prediction for XG:  R\n",
            "           Actual:  N3\n",
            "For: 54\n",
            "Prediction for KNN:  W\n",
            "Prediction for RF:  RandomForestClassifier(n_estimators=125, random_state=0)\n",
            "Prediction for XG:  N1\n",
            "           Actual:  W\n",
            "For: 55\n",
            "Prediction for KNN:  R\n",
            "Prediction for RF:  RandomForestClassifier(n_estimators=125, random_state=0)\n",
            "Prediction for XG:  N1\n",
            "           Actual:  R\n",
            "For: 56\n",
            "Prediction for KNN: "
          ]
        },
        {
          "output_type": "stream",
          "name": "stderr",
          "text": [
            "/usr/local/lib/python3.7/dist-packages/sklearn/base.py:451: UserWarning: X does not have valid feature names, but KNeighborsClassifier was fitted with feature names\n",
            "  \"X does not have valid feature names, but\"\n",
            "/usr/local/lib/python3.7/dist-packages/sklearn/base.py:451: UserWarning: X does not have valid feature names, but RandomForestClassifier was fitted with feature names\n",
            "  \"X does not have valid feature names, but\"\n",
            " 58%|█████▊    | 58/100 [00:03<00:02, 14.59it/s]/usr/local/lib/python3.7/dist-packages/sklearn/base.py:451: UserWarning: X does not have valid feature names, but KNeighborsClassifier was fitted with feature names\n",
            "  \"X does not have valid feature names, but\"\n",
            "/usr/local/lib/python3.7/dist-packages/sklearn/base.py:451: UserWarning: X does not have valid feature names, but RandomForestClassifier was fitted with feature names\n",
            "  \"X does not have valid feature names, but\"\n",
            "/usr/local/lib/python3.7/dist-packages/sklearn/base.py:451: UserWarning: X does not have valid feature names, but KNeighborsClassifier was fitted with feature names\n",
            "  \"X does not have valid feature names, but\"\n"
          ]
        },
        {
          "output_type": "stream",
          "name": "stdout",
          "text": [
            " N2\n",
            "Prediction for RF:  RandomForestClassifier(n_estimators=125, random_state=0)\n",
            "Prediction for XG:  N2\n",
            "           Actual:  N3\n",
            "For: 57\n",
            "Prediction for KNN:  N1\n",
            "Prediction for RF:  RandomForestClassifier(n_estimators=125, random_state=0)\n",
            "Prediction for XG:  N2\n",
            "           Actual:  W\n",
            "For: 58\n",
            "Prediction for KNN:  W\n",
            "Prediction for RF:  RandomForestClassifier(n_estimators=125, random_state=0)\n",
            "Prediction for XG:  N2\n",
            "           Actual:  N1\n",
            "For: 59\n"
          ]
        },
        {
          "output_type": "stream",
          "name": "stderr",
          "text": [
            "/usr/local/lib/python3.7/dist-packages/sklearn/base.py:451: UserWarning: X does not have valid feature names, but RandomForestClassifier was fitted with feature names\n",
            "  \"X does not have valid feature names, but\"\n",
            " 60%|██████    | 60/100 [00:04<00:02, 14.25it/s]/usr/local/lib/python3.7/dist-packages/sklearn/base.py:451: UserWarning: X does not have valid feature names, but KNeighborsClassifier was fitted with feature names\n",
            "  \"X does not have valid feature names, but\"\n",
            "/usr/local/lib/python3.7/dist-packages/sklearn/base.py:451: UserWarning: X does not have valid feature names, but RandomForestClassifier was fitted with feature names\n",
            "  \"X does not have valid feature names, but\"\n",
            "/usr/local/lib/python3.7/dist-packages/sklearn/base.py:451: UserWarning: X does not have valid feature names, but KNeighborsClassifier was fitted with feature names\n",
            "  \"X does not have valid feature names, but\"\n",
            "/usr/local/lib/python3.7/dist-packages/sklearn/base.py:451: UserWarning: X does not have valid feature names, but RandomForestClassifier was fitted with feature names\n",
            "  \"X does not have valid feature names, but\"\n",
            " 62%|██████▏   | 62/100 [00:04<00:02, 14.40it/s]/usr/local/lib/python3.7/dist-packages/sklearn/base.py:451: UserWarning: X does not have valid feature names, but KNeighborsClassifier was fitted with feature names\n",
            "  \"X does not have valid feature names, but\"\n"
          ]
        },
        {
          "output_type": "stream",
          "name": "stdout",
          "text": [
            "Prediction for KNN:  N1\n",
            "Prediction for RF:  RandomForestClassifier(n_estimators=125, random_state=0)\n",
            "Prediction for XG:  W\n",
            "           Actual:  N1\n",
            "For: 60\n",
            "Prediction for KNN:  W\n",
            "Prediction for RF:  RandomForestClassifier(n_estimators=125, random_state=0)\n",
            "Prediction for XG:  R\n",
            "           Actual:  W\n",
            "For: 61\n",
            "Prediction for KNN:  W\n",
            "Prediction for RF:  RandomForestClassifier(n_estimators=125, random_state=0)\n",
            "Prediction for XG:  N3\n",
            "           Actual:  W\n",
            "For: 62\n",
            "Prediction for KNN:  N3\n",
            "Prediction for RF: "
          ]
        },
        {
          "output_type": "stream",
          "name": "stderr",
          "text": [
            "/usr/local/lib/python3.7/dist-packages/sklearn/base.py:451: UserWarning: X does not have valid feature names, but RandomForestClassifier was fitted with feature names\n",
            "  \"X does not have valid feature names, but\"\n",
            "/usr/local/lib/python3.7/dist-packages/sklearn/base.py:451: UserWarning: X does not have valid feature names, but KNeighborsClassifier was fitted with feature names\n",
            "  \"X does not have valid feature names, but\"\n",
            "/usr/local/lib/python3.7/dist-packages/sklearn/base.py:451: UserWarning: X does not have valid feature names, but RandomForestClassifier was fitted with feature names\n",
            "  \"X does not have valid feature names, but\"\n",
            " 64%|██████▍   | 64/100 [00:04<00:02, 14.72it/s]/usr/local/lib/python3.7/dist-packages/sklearn/base.py:451: UserWarning: X does not have valid feature names, but KNeighborsClassifier was fitted with feature names\n",
            "  \"X does not have valid feature names, but\"\n",
            "/usr/local/lib/python3.7/dist-packages/sklearn/base.py:451: UserWarning: X does not have valid feature names, but RandomForestClassifier was fitted with feature names\n",
            "  \"X does not have valid feature names, but\"\n",
            "/usr/local/lib/python3.7/dist-packages/sklearn/base.py:451: UserWarning: X does not have valid feature names, but KNeighborsClassifier was fitted with feature names\n",
            "  \"X does not have valid feature names, but\"\n",
            "/usr/local/lib/python3.7/dist-packages/sklearn/base.py:451: UserWarning: X does not have valid feature names, but RandomForestClassifier was fitted with feature names\n",
            "  \"X does not have valid feature names, but\"\n",
            " 66%|██████▌   | 66/100 [00:04<00:02, 14.95it/s]"
          ]
        },
        {
          "output_type": "stream",
          "name": "stdout",
          "text": [
            " RandomForestClassifier(n_estimators=125, random_state=0)\n",
            "Prediction for XG:  N1\n",
            "           Actual:  N2\n",
            "For: 63\n",
            "Prediction for KNN:  N2\n",
            "Prediction for RF:  RandomForestClassifier(n_estimators=125, random_state=0)\n",
            "Prediction for XG:  N2\n",
            "           Actual:  N2\n",
            "For: 64\n",
            "Prediction for KNN:  N3\n",
            "Prediction for RF:  RandomForestClassifier(n_estimators=125, random_state=0)\n",
            "Prediction for XG:  N2\n",
            "           Actual:  N3\n",
            "For: 65\n",
            "Prediction for KNN:  W\n",
            "Prediction for RF:  RandomForestClassifier(n_estimators=125, random_state=0)\n",
            "Prediction for XG:  W\n",
            "           Actual:  W\n"
          ]
        },
        {
          "output_type": "stream",
          "name": "stderr",
          "text": [
            "/usr/local/lib/python3.7/dist-packages/sklearn/base.py:451: UserWarning: X does not have valid feature names, but KNeighborsClassifier was fitted with feature names\n",
            "  \"X does not have valid feature names, but\"\n",
            "/usr/local/lib/python3.7/dist-packages/sklearn/base.py:451: UserWarning: X does not have valid feature names, but RandomForestClassifier was fitted with feature names\n",
            "  \"X does not have valid feature names, but\"\n",
            "/usr/local/lib/python3.7/dist-packages/sklearn/base.py:451: UserWarning: X does not have valid feature names, but KNeighborsClassifier was fitted with feature names\n",
            "  \"X does not have valid feature names, but\"\n",
            "/usr/local/lib/python3.7/dist-packages/sklearn/base.py:451: UserWarning: X does not have valid feature names, but RandomForestClassifier was fitted with feature names\n",
            "  \"X does not have valid feature names, but\"\n",
            " 68%|██████▊   | 68/100 [00:04<00:02, 14.76it/s]/usr/local/lib/python3.7/dist-packages/sklearn/base.py:451: UserWarning: X does not have valid feature names, but KNeighborsClassifier was fitted with feature names\n",
            "  \"X does not have valid feature names, but\"\n",
            "/usr/local/lib/python3.7/dist-packages/sklearn/base.py:451: UserWarning: X does not have valid feature names, but RandomForestClassifier was fitted with feature names\n",
            "  \"X does not have valid feature names, but\"\n"
          ]
        },
        {
          "output_type": "stream",
          "name": "stdout",
          "text": [
            "For: 66\n",
            "Prediction for KNN:  N3\n",
            "Prediction for RF:  RandomForestClassifier(n_estimators=125, random_state=0)\n",
            "Prediction for XG:  N2\n",
            "           Actual:  N3\n",
            "For: 67\n",
            "Prediction for KNN:  N3\n",
            "Prediction for RF:  RandomForestClassifier(n_estimators=125, random_state=0)\n",
            "Prediction for XG:  N2\n",
            "           Actual:  N2\n",
            "For: 68\n",
            "Prediction for KNN:  R\n",
            "Prediction for RF:  RandomForestClassifier(n_estimators=125, random_state=0)\n",
            "Prediction for XG:  N2\n",
            "           Actual:  N1\n",
            "For: 69\n"
          ]
        },
        {
          "output_type": "stream",
          "name": "stderr",
          "text": [
            "/usr/local/lib/python3.7/dist-packages/sklearn/base.py:451: UserWarning: X does not have valid feature names, but KNeighborsClassifier was fitted with feature names\n",
            "  \"X does not have valid feature names, but\"\n",
            "/usr/local/lib/python3.7/dist-packages/sklearn/base.py:451: UserWarning: X does not have valid feature names, but RandomForestClassifier was fitted with feature names\n",
            "  \"X does not have valid feature names, but\"\n",
            " 70%|███████   | 70/100 [00:04<00:02, 14.00it/s]/usr/local/lib/python3.7/dist-packages/sklearn/base.py:451: UserWarning: X does not have valid feature names, but KNeighborsClassifier was fitted with feature names\n",
            "  \"X does not have valid feature names, but\"\n",
            "/usr/local/lib/python3.7/dist-packages/sklearn/base.py:451: UserWarning: X does not have valid feature names, but RandomForestClassifier was fitted with feature names\n",
            "  \"X does not have valid feature names, but\"\n",
            "/usr/local/lib/python3.7/dist-packages/sklearn/base.py:451: UserWarning: X does not have valid feature names, but KNeighborsClassifier was fitted with feature names\n",
            "  \"X does not have valid feature names, but\"\n",
            "/usr/local/lib/python3.7/dist-packages/sklearn/base.py:451: UserWarning: X does not have valid feature names, but RandomForestClassifier was fitted with feature names\n",
            "  \"X does not have valid feature names, but\"\n",
            " 72%|███████▏  | 72/100 [00:04<00:01, 14.29it/s]"
          ]
        },
        {
          "output_type": "stream",
          "name": "stdout",
          "text": [
            "Prediction for KNN:  N2\n",
            "Prediction for RF:  RandomForestClassifier(n_estimators=125, random_state=0)\n",
            "Prediction for XG:  N3\n",
            "           Actual:  N2\n",
            "For: 70\n",
            "Prediction for KNN:  R\n",
            "Prediction for RF:  RandomForestClassifier(n_estimators=125, random_state=0)\n",
            "Prediction for XG:  N3\n",
            "           Actual:  R\n",
            "For: 71\n",
            "Prediction for KNN:  N2\n",
            "Prediction for RF:  RandomForestClassifier(n_estimators=125, random_state=0)\n",
            "Prediction for XG:  N2\n",
            "           Actual:  N2\n",
            "For: 72\n",
            "Prediction for KNN:  R\n",
            "Prediction for RF:  RandomForestClassifier(n_estimators=125, random_state=0)\n",
            "Prediction for XG:  R\n",
            "           Actual:  R\n",
            "For: 73\n"
          ]
        },
        {
          "output_type": "stream",
          "name": "stderr",
          "text": [
            "/usr/local/lib/python3.7/dist-packages/sklearn/base.py:451: UserWarning: X does not have valid feature names, but KNeighborsClassifier was fitted with feature names\n",
            "  \"X does not have valid feature names, but\"\n",
            "/usr/local/lib/python3.7/dist-packages/sklearn/base.py:451: UserWarning: X does not have valid feature names, but RandomForestClassifier was fitted with feature names\n",
            "  \"X does not have valid feature names, but\"\n",
            "/usr/local/lib/python3.7/dist-packages/sklearn/base.py:451: UserWarning: X does not have valid feature names, but KNeighborsClassifier was fitted with feature names\n",
            "  \"X does not have valid feature names, but\"\n",
            "/usr/local/lib/python3.7/dist-packages/sklearn/base.py:451: UserWarning: X does not have valid feature names, but RandomForestClassifier was fitted with feature names\n",
            "  \"X does not have valid feature names, but\"\n",
            " 74%|███████▍  | 74/100 [00:05<00:01, 14.70it/s]/usr/local/lib/python3.7/dist-packages/sklearn/base.py:451: UserWarning: X does not have valid feature names, but KNeighborsClassifier was fitted with feature names\n",
            "  \"X does not have valid feature names, but\"\n",
            "/usr/local/lib/python3.7/dist-packages/sklearn/base.py:451: UserWarning: X does not have valid feature names, but RandomForestClassifier was fitted with feature names\n",
            "  \"X does not have valid feature names, but\"\n",
            "/usr/local/lib/python3.7/dist-packages/sklearn/base.py:451: UserWarning: X does not have valid feature names, but KNeighborsClassifier was fitted with feature names\n",
            "  \"X does not have valid feature names, but\"\n",
            "/usr/local/lib/python3.7/dist-packages/sklearn/base.py:451: UserWarning: X does not have valid feature names, but RandomForestClassifier was fitted with feature names\n",
            "  \"X does not have valid feature names, but\"\n",
            " 76%|███████▌  | 76/100 [00:05<00:01, 14.88it/s]/usr/local/lib/python3.7/dist-packages/sklearn/base.py:451: UserWarning: X does not have valid feature names, but KNeighborsClassifier was fitted with feature names\n",
            "  \"X does not have valid feature names, but\"\n",
            "/usr/local/lib/python3.7/dist-packages/sklearn/base.py:451: UserWarning: X does not have valid feature names, but RandomForestClassifier was fitted with feature names\n",
            "  \"X does not have valid feature names, but\"\n"
          ]
        },
        {
          "output_type": "stream",
          "name": "stdout",
          "text": [
            "Prediction for KNN:  N2\n",
            "Prediction for RF:  RandomForestClassifier(n_estimators=125, random_state=0)\n",
            "Prediction for XG:  N2\n",
            "           Actual:  N2\n",
            "For: 74\n",
            "Prediction for KNN:  N2\n",
            "Prediction for RF:  RandomForestClassifier(n_estimators=125, random_state=0)\n",
            "Prediction for XG:  N2\n",
            "           Actual:  N2\n",
            "For: 75\n",
            "Prediction for KNN:  R\n",
            "Prediction for RF:  RandomForestClassifier(n_estimators=125, random_state=0)\n",
            "Prediction for XG:  W\n",
            "           Actual:  R\n",
            "For: 76\n",
            "Prediction for KNN:  N2\n",
            "Prediction for RF:  RandomForestClassifier(n_estimators=125, random_state=0)\n",
            "Prediction for XG: "
          ]
        },
        {
          "output_type": "stream",
          "name": "stderr",
          "text": [
            "/usr/local/lib/python3.7/dist-packages/sklearn/base.py:451: UserWarning: X does not have valid feature names, but KNeighborsClassifier was fitted with feature names\n",
            "  \"X does not have valid feature names, but\"\n",
            "/usr/local/lib/python3.7/dist-packages/sklearn/base.py:451: UserWarning: X does not have valid feature names, but RandomForestClassifier was fitted with feature names\n",
            "  \"X does not have valid feature names, but\"\n",
            " 78%|███████▊  | 78/100 [00:05<00:01, 14.81it/s]/usr/local/lib/python3.7/dist-packages/sklearn/base.py:451: UserWarning: X does not have valid feature names, but KNeighborsClassifier was fitted with feature names\n",
            "  \"X does not have valid feature names, but\"\n",
            "/usr/local/lib/python3.7/dist-packages/sklearn/base.py:451: UserWarning: X does not have valid feature names, but RandomForestClassifier was fitted with feature names\n",
            "  \"X does not have valid feature names, but\"\n"
          ]
        },
        {
          "output_type": "stream",
          "name": "stdout",
          "text": [
            " N2\n",
            "           Actual:  N2\n",
            "For: 77\n",
            "Prediction for KNN:  N2\n",
            "Prediction for RF:  RandomForestClassifier(n_estimators=125, random_state=0)\n",
            "Prediction for XG:  R\n",
            "           Actual:  R\n",
            "For: 78\n",
            "Prediction for KNN:  R\n",
            "Prediction for RF:  RandomForestClassifier(n_estimators=125, random_state=0)\n",
            "Prediction for XG:  N2\n",
            "           Actual:  N2\n",
            "For: 79\n",
            "Prediction for KNN: "
          ]
        },
        {
          "output_type": "stream",
          "name": "stderr",
          "text": [
            "/usr/local/lib/python3.7/dist-packages/sklearn/base.py:451: UserWarning: X does not have valid feature names, but KNeighborsClassifier was fitted with feature names\n",
            "  \"X does not have valid feature names, but\"\n",
            "/usr/local/lib/python3.7/dist-packages/sklearn/base.py:451: UserWarning: X does not have valid feature names, but RandomForestClassifier was fitted with feature names\n",
            "  \"X does not have valid feature names, but\"\n",
            "\r 80%|████████  | 80/100 [00:05<00:01, 14.74it/s]/usr/local/lib/python3.7/dist-packages/sklearn/base.py:451: UserWarning: X does not have valid feature names, but KNeighborsClassifier was fitted with feature names\n",
            "  \"X does not have valid feature names, but\"\n",
            "/usr/local/lib/python3.7/dist-packages/sklearn/base.py:451: UserWarning: X does not have valid feature names, but RandomForestClassifier was fitted with feature names\n",
            "  \"X does not have valid feature names, but\"\n",
            "/usr/local/lib/python3.7/dist-packages/sklearn/base.py:451: UserWarning: X does not have valid feature names, but KNeighborsClassifier was fitted with feature names\n",
            "  \"X does not have valid feature names, but\"\n",
            "/usr/local/lib/python3.7/dist-packages/sklearn/base.py:451: UserWarning: X does not have valid feature names, but RandomForestClassifier was fitted with feature names\n",
            "  \"X does not have valid feature names, but\"\n",
            " 82%|████████▏ | 82/100 [00:05<00:01, 14.45it/s]/usr/local/lib/python3.7/dist-packages/sklearn/base.py:451: UserWarning: X does not have valid feature names, but KNeighborsClassifier was fitted with feature names\n",
            "  \"X does not have valid feature names, but\"\n"
          ]
        },
        {
          "output_type": "stream",
          "name": "stdout",
          "text": [
            " N1\n",
            "Prediction for RF:  RandomForestClassifier(n_estimators=125, random_state=0)\n",
            "Prediction for XG:  R\n",
            "           Actual:  N1\n",
            "For: 80\n",
            "Prediction for KNN:  N3\n",
            "Prediction for RF:  RandomForestClassifier(n_estimators=125, random_state=0)\n",
            "Prediction for XG:  N3\n",
            "           Actual:  N3\n",
            "For: 81\n",
            "Prediction for KNN:  N3\n",
            "Prediction for RF:  RandomForestClassifier(n_estimators=125, random_state=0)\n",
            "Prediction for XG:  N2\n",
            "           Actual:  N3\n",
            "For: 82\n"
          ]
        },
        {
          "output_type": "stream",
          "name": "stderr",
          "text": [
            "/usr/local/lib/python3.7/dist-packages/sklearn/base.py:451: UserWarning: X does not have valid feature names, but RandomForestClassifier was fitted with feature names\n",
            "  \"X does not have valid feature names, but\"\n",
            "/usr/local/lib/python3.7/dist-packages/sklearn/base.py:451: UserWarning: X does not have valid feature names, but KNeighborsClassifier was fitted with feature names\n",
            "  \"X does not have valid feature names, but\"\n",
            "/usr/local/lib/python3.7/dist-packages/sklearn/base.py:451: UserWarning: X does not have valid feature names, but RandomForestClassifier was fitted with feature names\n",
            "  \"X does not have valid feature names, but\"\n",
            " 84%|████████▍ | 84/100 [00:05<00:01, 14.26it/s]/usr/local/lib/python3.7/dist-packages/sklearn/base.py:451: UserWarning: X does not have valid feature names, but KNeighborsClassifier was fitted with feature names\n",
            "  \"X does not have valid feature names, but\"\n",
            "/usr/local/lib/python3.7/dist-packages/sklearn/base.py:451: UserWarning: X does not have valid feature names, but RandomForestClassifier was fitted with feature names\n",
            "  \"X does not have valid feature names, but\"\n",
            "/usr/local/lib/python3.7/dist-packages/sklearn/base.py:451: UserWarning: X does not have valid feature names, but KNeighborsClassifier was fitted with feature names\n",
            "  \"X does not have valid feature names, but\"\n"
          ]
        },
        {
          "output_type": "stream",
          "name": "stdout",
          "text": [
            "Prediction for KNN:  W\n",
            "Prediction for RF:  RandomForestClassifier(n_estimators=125, random_state=0)\n",
            "Prediction for XG:  N2\n",
            "           Actual:  W\n",
            "For: 83\n",
            "Prediction for KNN:  N2\n",
            "Prediction for RF:  RandomForestClassifier(n_estimators=125, random_state=0)\n",
            "Prediction for XG:  N3\n",
            "           Actual:  N3\n",
            "For: 84\n",
            "Prediction for KNN:  N2\n",
            "Prediction for RF:  RandomForestClassifier(n_estimators=125, random_state=0)\n",
            "Prediction for XG:  N3\n",
            "           Actual:  W\n",
            "For: 85\n"
          ]
        },
        {
          "output_type": "stream",
          "name": "stderr",
          "text": [
            "/usr/local/lib/python3.7/dist-packages/sklearn/base.py:451: UserWarning: X does not have valid feature names, but RandomForestClassifier was fitted with feature names\n",
            "  \"X does not have valid feature names, but\"\n",
            " 86%|████████▌ | 86/100 [00:05<00:00, 14.02it/s]/usr/local/lib/python3.7/dist-packages/sklearn/base.py:451: UserWarning: X does not have valid feature names, but KNeighborsClassifier was fitted with feature names\n",
            "  \"X does not have valid feature names, but\"\n",
            "/usr/local/lib/python3.7/dist-packages/sklearn/base.py:451: UserWarning: X does not have valid feature names, but RandomForestClassifier was fitted with feature names\n",
            "  \"X does not have valid feature names, but\"\n",
            "/usr/local/lib/python3.7/dist-packages/sklearn/base.py:451: UserWarning: X does not have valid feature names, but KNeighborsClassifier was fitted with feature names\n",
            "  \"X does not have valid feature names, but\"\n",
            "/usr/local/lib/python3.7/dist-packages/sklearn/base.py:451: UserWarning: X does not have valid feature names, but RandomForestClassifier was fitted with feature names\n",
            "  \"X does not have valid feature names, but\"\n",
            " 88%|████████▊ | 88/100 [00:06<00:00, 14.25it/s]/usr/local/lib/python3.7/dist-packages/sklearn/base.py:451: UserWarning: X does not have valid feature names, but KNeighborsClassifier was fitted with feature names\n",
            "  \"X does not have valid feature names, but\"\n"
          ]
        },
        {
          "output_type": "stream",
          "name": "stdout",
          "text": [
            "Prediction for KNN:  N3\n",
            "Prediction for RF:  RandomForestClassifier(n_estimators=125, random_state=0)\n",
            "Prediction for XG:  N2\n",
            "           Actual:  N3\n",
            "For: 86\n",
            "Prediction for KNN:  N2\n",
            "Prediction for RF:  RandomForestClassifier(n_estimators=125, random_state=0)\n",
            "Prediction for XG:  W\n",
            "           Actual:  N2\n",
            "For: 87\n",
            "Prediction for KNN:  N2\n",
            "Prediction for RF:  RandomForestClassifier(n_estimators=125, random_state=0)\n",
            "Prediction for XG:  N2\n",
            "           Actual:  N2\n",
            "For: 88\n",
            "Prediction for KNN:  N1\n",
            "Prediction for RF: "
          ]
        },
        {
          "output_type": "stream",
          "name": "stderr",
          "text": [
            "/usr/local/lib/python3.7/dist-packages/sklearn/base.py:451: UserWarning: X does not have valid feature names, but RandomForestClassifier was fitted with feature names\n",
            "  \"X does not have valid feature names, but\"\n",
            "/usr/local/lib/python3.7/dist-packages/sklearn/base.py:451: UserWarning: X does not have valid feature names, but KNeighborsClassifier was fitted with feature names\n",
            "  \"X does not have valid feature names, but\"\n",
            "/usr/local/lib/python3.7/dist-packages/sklearn/base.py:451: UserWarning: X does not have valid feature names, but RandomForestClassifier was fitted with feature names\n",
            "  \"X does not have valid feature names, but\"\n",
            " 90%|█████████ | 90/100 [00:06<00:00, 14.56it/s]/usr/local/lib/python3.7/dist-packages/sklearn/base.py:451: UserWarning: X does not have valid feature names, but KNeighborsClassifier was fitted with feature names\n",
            "  \"X does not have valid feature names, but\"\n",
            "/usr/local/lib/python3.7/dist-packages/sklearn/base.py:451: UserWarning: X does not have valid feature names, but RandomForestClassifier was fitted with feature names\n",
            "  \"X does not have valid feature names, but\"\n",
            "/usr/local/lib/python3.7/dist-packages/sklearn/base.py:451: UserWarning: X does not have valid feature names, but KNeighborsClassifier was fitted with feature names\n",
            "  \"X does not have valid feature names, but\"\n",
            "/usr/local/lib/python3.7/dist-packages/sklearn/base.py:451: UserWarning: X does not have valid feature names, but RandomForestClassifier was fitted with feature names\n",
            "  \"X does not have valid feature names, but\"\n"
          ]
        },
        {
          "output_type": "stream",
          "name": "stdout",
          "text": [
            " RandomForestClassifier(n_estimators=125, random_state=0)\n",
            "Prediction for XG:  N2\n",
            "           Actual:  N1\n",
            "For: 89\n",
            "Prediction for KNN:  N3\n",
            "Prediction for RF:  RandomForestClassifier(n_estimators=125, random_state=0)\n",
            "Prediction for XG:  W\n",
            "           Actual:  N2\n",
            "For: 90\n",
            "Prediction for KNN:  N2\n",
            "Prediction for RF:  RandomForestClassifier(n_estimators=125, random_state=0)\n",
            "Prediction for XG:  R\n",
            "           Actual:  N2\n",
            "For: 91\n",
            "Prediction for KNN:  N2\n",
            "Prediction for RF:  RandomForestClassifier(n_estimators=125, random_state=0)\n",
            "Prediction for XG:  "
          ]
        },
        {
          "output_type": "stream",
          "name": "stderr",
          "text": [
            "\r 92%|█████████▏| 92/100 [00:06<00:00, 14.69it/s]/usr/local/lib/python3.7/dist-packages/sklearn/base.py:451: UserWarning: X does not have valid feature names, but KNeighborsClassifier was fitted with feature names\n",
            "  \"X does not have valid feature names, but\"\n",
            "/usr/local/lib/python3.7/dist-packages/sklearn/base.py:451: UserWarning: X does not have valid feature names, but RandomForestClassifier was fitted with feature names\n",
            "  \"X does not have valid feature names, but\"\n",
            "/usr/local/lib/python3.7/dist-packages/sklearn/base.py:451: UserWarning: X does not have valid feature names, but KNeighborsClassifier was fitted with feature names\n",
            "  \"X does not have valid feature names, but\"\n",
            "/usr/local/lib/python3.7/dist-packages/sklearn/base.py:451: UserWarning: X does not have valid feature names, but RandomForestClassifier was fitted with feature names\n",
            "  \"X does not have valid feature names, but\"\n",
            " 94%|█████████▍| 94/100 [00:06<00:00, 14.77it/s]/usr/local/lib/python3.7/dist-packages/sklearn/base.py:451: UserWarning: X does not have valid feature names, but KNeighborsClassifier was fitted with feature names\n",
            "  \"X does not have valid feature names, but\"\n"
          ]
        },
        {
          "output_type": "stream",
          "name": "stdout",
          "text": [
            "R\n",
            "           Actual:  N2\n",
            "For: 92\n",
            "Prediction for KNN:  N1\n",
            "Prediction for RF:  RandomForestClassifier(n_estimators=125, random_state=0)\n",
            "Prediction for XG:  N2\n",
            "           Actual:  N2\n",
            "For: 93\n",
            "Prediction for KNN:  W\n",
            "Prediction for RF:  RandomForestClassifier(n_estimators=125, random_state=0)\n",
            "Prediction for XG:  N2\n",
            "           Actual:  W\n",
            "For: 94\n",
            "Prediction for KNN:  N3\n",
            "Prediction for RF:  RandomForestClassifier(n_estimators=125, random_state=0)\n",
            "Prediction for XG:  W\n",
            "           Actual:  N3\n",
            "For: 95\n"
          ]
        },
        {
          "output_type": "stream",
          "name": "stderr",
          "text": [
            "/usr/local/lib/python3.7/dist-packages/sklearn/base.py:451: UserWarning: X does not have valid feature names, but RandomForestClassifier was fitted with feature names\n",
            "  \"X does not have valid feature names, but\"\n",
            "/usr/local/lib/python3.7/dist-packages/sklearn/base.py:451: UserWarning: X does not have valid feature names, but KNeighborsClassifier was fitted with feature names\n",
            "  \"X does not have valid feature names, but\"\n",
            "/usr/local/lib/python3.7/dist-packages/sklearn/base.py:451: UserWarning: X does not have valid feature names, but RandomForestClassifier was fitted with feature names\n",
            "  \"X does not have valid feature names, but\"\n",
            " 96%|█████████▌| 96/100 [00:06<00:00, 14.84it/s]/usr/local/lib/python3.7/dist-packages/sklearn/base.py:451: UserWarning: X does not have valid feature names, but KNeighborsClassifier was fitted with feature names\n",
            "  \"X does not have valid feature names, but\"\n",
            "/usr/local/lib/python3.7/dist-packages/sklearn/base.py:451: UserWarning: X does not have valid feature names, but RandomForestClassifier was fitted with feature names\n",
            "  \"X does not have valid feature names, but\"\n",
            "/usr/local/lib/python3.7/dist-packages/sklearn/base.py:451: UserWarning: X does not have valid feature names, but KNeighborsClassifier was fitted with feature names\n",
            "  \"X does not have valid feature names, but\"\n",
            "/usr/local/lib/python3.7/dist-packages/sklearn/base.py:451: UserWarning: X does not have valid feature names, but RandomForestClassifier was fitted with feature names\n",
            "  \"X does not have valid feature names, but\"\n",
            " 98%|█████████▊| 98/100 [00:06<00:00, 14.90it/s]"
          ]
        },
        {
          "output_type": "stream",
          "name": "stdout",
          "text": [
            "Prediction for KNN:  N2\n",
            "Prediction for RF:  RandomForestClassifier(n_estimators=125, random_state=0)\n",
            "Prediction for XG:  W\n",
            "           Actual:  N2\n",
            "For: 96\n",
            "Prediction for KNN:  R\n",
            "Prediction for RF:  RandomForestClassifier(n_estimators=125, random_state=0)\n",
            "Prediction for XG:  R\n",
            "           Actual:  N1\n",
            "For: 97\n",
            "Prediction for KNN:  R\n",
            "Prediction for RF:  RandomForestClassifier(n_estimators=125, random_state=0)\n",
            "Prediction for XG:  W\n",
            "           Actual:  R\n",
            "For: 98\n"
          ]
        },
        {
          "output_type": "stream",
          "name": "stderr",
          "text": [
            "/usr/local/lib/python3.7/dist-packages/sklearn/base.py:451: UserWarning: X does not have valid feature names, but KNeighborsClassifier was fitted with feature names\n",
            "  \"X does not have valid feature names, but\"\n",
            "/usr/local/lib/python3.7/dist-packages/sklearn/base.py:451: UserWarning: X does not have valid feature names, but RandomForestClassifier was fitted with feature names\n",
            "  \"X does not have valid feature names, but\"\n",
            "/usr/local/lib/python3.7/dist-packages/sklearn/base.py:451: UserWarning: X does not have valid feature names, but KNeighborsClassifier was fitted with feature names\n",
            "  \"X does not have valid feature names, but\"\n",
            "/usr/local/lib/python3.7/dist-packages/sklearn/base.py:451: UserWarning: X does not have valid feature names, but RandomForestClassifier was fitted with feature names\n",
            "  \"X does not have valid feature names, but\"\n",
            "100%|██████████| 100/100 [00:06<00:00, 14.64it/s]"
          ]
        },
        {
          "output_type": "stream",
          "name": "stdout",
          "text": [
            "Prediction for KNN:  N2\n",
            "Prediction for RF:  RandomForestClassifier(n_estimators=125, random_state=0)\n",
            "Prediction for XG:  N3\n",
            "           Actual:  N2\n",
            "For: 99\n",
            "Prediction for KNN:  N2\n",
            "Prediction for RF:  RandomForestClassifier(n_estimators=125, random_state=0)\n",
            "Prediction for XG:  N2\n",
            "           Actual:  N1\n"
          ]
        },
        {
          "output_type": "stream",
          "name": "stderr",
          "text": [
            "\n"
          ]
        }
      ]
    },
    {
      "cell_type": "code",
      "source": [
        "print(rows)\n",
        "print(sec)"
      ],
      "metadata": {
        "colab": {
          "base_uri": "https://localhost:8080/"
        },
        "id": "iFvqyRMblmBz",
        "outputId": "79793c6f-ea51-4b02-daae-c156078e6fdf"
      },
      "execution_count": 18,
      "outputs": [
        {
          "output_type": "stream",
          "name": "stdout",
          "text": [
            "[73, 58, 84, 83, 43, 3, 67, 48]\n",
            "['ALL', 'NONE', 'ONLY_RF', 'ONLY_XG', 'ONLY_KNN', 'RF_KNN', 'RF_XG', 'KNN_XG']\n"
          ]
        }
      ]
    },
    {
      "cell_type": "code",
      "source": [
        "!pip install lime"
      ],
      "metadata": {
        "id": "bpu3UUziNgZn",
        "colab": {
          "base_uri": "https://localhost:8080/"
        },
        "outputId": "b2ac2033-a68e-45f0-9004-e5654ad6a19e"
      },
      "execution_count": 9,
      "outputs": [
        {
          "output_type": "stream",
          "name": "stdout",
          "text": [
            "Looking in indexes: https://pypi.org/simple, https://us-python.pkg.dev/colab-wheels/public/simple/\n",
            "Collecting lime\n",
            "  Downloading lime-0.2.0.1.tar.gz (275 kB)\n",
            "\u001b[K     |████████████████████████████████| 275 kB 27.6 MB/s \n",
            "\u001b[?25hRequirement already satisfied: matplotlib in /usr/local/lib/python3.7/dist-packages (from lime) (3.2.2)\n",
            "Requirement already satisfied: numpy in /usr/local/lib/python3.7/dist-packages (from lime) (1.21.6)\n",
            "Requirement already satisfied: scipy in /usr/local/lib/python3.7/dist-packages (from lime) (1.4.1)\n",
            "Requirement already satisfied: tqdm in /usr/local/lib/python3.7/dist-packages (from lime) (4.64.0)\n",
            "Requirement already satisfied: scikit-learn>=0.18 in /usr/local/lib/python3.7/dist-packages (from lime) (1.0.2)\n",
            "Requirement already satisfied: scikit-image>=0.12 in /usr/local/lib/python3.7/dist-packages (from lime) (0.18.3)\n",
            "Requirement already satisfied: imageio>=2.3.0 in /usr/local/lib/python3.7/dist-packages (from scikit-image>=0.12->lime) (2.4.1)\n",
            "Requirement already satisfied: networkx>=2.0 in /usr/local/lib/python3.7/dist-packages (from scikit-image>=0.12->lime) (2.6.3)\n",
            "Requirement already satisfied: pillow!=7.1.0,!=7.1.1,>=4.3.0 in /usr/local/lib/python3.7/dist-packages (from scikit-image>=0.12->lime) (7.1.2)\n",
            "Requirement already satisfied: PyWavelets>=1.1.1 in /usr/local/lib/python3.7/dist-packages (from scikit-image>=0.12->lime) (1.3.0)\n",
            "Requirement already satisfied: tifffile>=2019.7.26 in /usr/local/lib/python3.7/dist-packages (from scikit-image>=0.12->lime) (2021.11.2)\n",
            "Requirement already satisfied: kiwisolver>=1.0.1 in /usr/local/lib/python3.7/dist-packages (from matplotlib->lime) (1.4.3)\n",
            "Requirement already satisfied: cycler>=0.10 in /usr/local/lib/python3.7/dist-packages (from matplotlib->lime) (0.11.0)\n",
            "Requirement already satisfied: pyparsing!=2.0.4,!=2.1.2,!=2.1.6,>=2.0.1 in /usr/local/lib/python3.7/dist-packages (from matplotlib->lime) (3.0.9)\n",
            "Requirement already satisfied: python-dateutil>=2.1 in /usr/local/lib/python3.7/dist-packages (from matplotlib->lime) (2.8.2)\n",
            "Requirement already satisfied: typing-extensions in /usr/local/lib/python3.7/dist-packages (from kiwisolver>=1.0.1->matplotlib->lime) (4.1.1)\n",
            "Requirement already satisfied: six>=1.5 in /usr/local/lib/python3.7/dist-packages (from python-dateutil>=2.1->matplotlib->lime) (1.15.0)\n",
            "Requirement already satisfied: threadpoolctl>=2.0.0 in /usr/local/lib/python3.7/dist-packages (from scikit-learn>=0.18->lime) (3.1.0)\n",
            "Requirement already satisfied: joblib>=0.11 in /usr/local/lib/python3.7/dist-packages (from scikit-learn>=0.18->lime) (1.1.0)\n",
            "Building wheels for collected packages: lime\n",
            "  Building wheel for lime (setup.py) ... \u001b[?25l\u001b[?25hdone\n",
            "  Created wheel for lime: filename=lime-0.2.0.1-py3-none-any.whl size=283857 sha256=657cba6b6f4a6ef82b86f8e256c674e81e2cc8df7f75b85ae19171984541131e\n",
            "  Stored in directory: /root/.cache/pip/wheels/ca/cb/e5/ac701e12d365a08917bf4c6171c0961bc880a8181359c66aa7\n",
            "Successfully built lime\n",
            "Installing collected packages: lime\n",
            "Successfully installed lime-0.2.0.1\n"
          ]
        }
      ]
    },
    {
      "cell_type": "code",
      "source": [
        "from tqdm import tqdm\n",
        "import lime\n",
        "from lime import lime_tabular\n",
        "\n",
        "feat_num=5\n",
        "r=1\n",
        "\n",
        "for row in tqdm(rows):\n",
        "  print(\"___________________________________________________________________\")\n",
        "  print(\"Round \",r)\n",
        "  print(\"___________________________________________________________________\")\n",
        "  ex_specie = np.array(X_test.iloc[row]).reshape(1,-1)\n",
        "\n",
        "  print(\"Prediction for KNN: \",KNN_class.predict(ex_specie)[0])\n",
        "  print(\"Prediction for RF: \",rf.predict(ex_specie)[0])\n",
        "  print(\"Prediction for XG: \",xgb_classifier.predict(np.array(X_train.iloc[[row]]))[0])\n",
        "  print(\"Prediction Accual: \",list(y_test.iloc[[row]])[0])\n",
        "\n",
        "  print(\"___________________________________________________________________\")\n",
        "\n",
        "\n",
        "  cls_name=['N1','N2','N3','R','W']\n",
        "\n",
        "\n",
        "  explainer_1 = lime_tabular.LimeTabularExplainer(\n",
        "      training_data=np.array(X_train),\n",
        "      feature_names=list(dataset.iloc[:0,1:]),\n",
        "      class_names=cls_name,\n",
        "      mode='classification'\n",
        "  )\n",
        "\n",
        "\n",
        "  explainer_2 = lime.lime_tabular.LimeTabularExplainer(\n",
        "      training_data=X_train.values,\n",
        "      feature_names=list(dataset.iloc[:0,1:]),\n",
        "      class_names=cls_name,\n",
        "  )\n",
        "\n",
        "\n",
        "  exp_KNN = explainer_1.explain_instance(X_test.iloc[row],\n",
        "                                  KNN_class.predict_proba,\n",
        "                                  num_features=feat_num,\n",
        "                                  top_labels=len(cls_name,))\n",
        "\n",
        "\n",
        "\n",
        "  exp_rf = explainer_1.explain_instance(X_test.iloc[row],\n",
        "                                  rf.predict_proba,\n",
        "                                  num_features=feat_num,\n",
        "                                  top_labels=len(cls_name,))\n",
        "\n",
        "\n",
        "\n",
        "  exp_xg = explainer_2.explain_instance(X_train.iloc[row, :].values,\n",
        "                                  xgb_classifier.predict_proba,\n",
        "                                  num_features=feat_num,\n",
        "                                  top_labels=len(cls_name,))\n",
        "\n",
        "\n",
        "\n",
        "\n",
        "\n",
        "  print(\"___________________________________________________________________\")\n",
        "  print(\"___________________________________________________________________\")\n",
        "\n",
        "\n",
        "\n",
        "\n",
        "  exp_KNN.save_to_file('/content/ResultHTML/'+sec[rows.index(row)]+\"___\"+str(row)+\"___KNN_.html\")\n",
        "  print(\"HTML file SAVED for KNN, row number=\",row)\n",
        "\n",
        "  exp_rf.save_to_file('/content/ResultHTML/'+sec[rows.index(row)]+\"___\"+str(row)+\"___RandomForest_.html\")\n",
        "  print(\"HTML file SAVED for RF, row number=\",row)\n",
        "\n",
        "  exp_xg.save_to_file('/content/ResultHTML/'+sec[rows.index(row)]+\"___\"+str(row)+\"___XG_boost_.html\")\n",
        "  print(\"HTML file SAVED for XG, row number=\",row)\n",
        "  \n",
        "  print(\"___________________________________________________________________\")\n",
        "  print(\"___________________________________________________________________\")\n",
        "  r+=1"
      ],
      "metadata": {
        "colab": {
          "base_uri": "https://localhost:8080/"
        },
        "id": "XP2mV1CvE9rz",
        "outputId": "c6263467-fdf4-4d7b-f0c0-19e84cd9f1a9"
      },
      "execution_count": 20,
      "outputs": [
        {
          "output_type": "stream",
          "name": "stderr",
          "text": [
            "\r  0%|          | 0/8 [00:00<?, ?it/s]/usr/local/lib/python3.7/dist-packages/sklearn/base.py:451: UserWarning: X does not have valid feature names, but KNeighborsClassifier was fitted with feature names\n",
            "  \"X does not have valid feature names, but\"\n",
            "/usr/local/lib/python3.7/dist-packages/sklearn/base.py:451: UserWarning: X does not have valid feature names, but RandomForestClassifier was fitted with feature names\n",
            "  \"X does not have valid feature names, but\"\n"
          ]
        },
        {
          "output_type": "stream",
          "name": "stdout",
          "text": [
            "___________________________________________________________________\n",
            "Round  1\n",
            "___________________________________________________________________\n",
            "Prediction for KNN:  N2\n",
            "Prediction for RF:  N2\n",
            "Prediction for XG:  N2\n",
            "Prediction Accual:  N2\n",
            "___________________________________________________________________\n"
          ]
        },
        {
          "output_type": "stream",
          "name": "stderr",
          "text": [
            "/usr/local/lib/python3.7/dist-packages/sklearn/base.py:451: UserWarning: X does not have valid feature names, but KNeighborsClassifier was fitted with feature names\n",
            "  \"X does not have valid feature names, but\"\n",
            "/usr/local/lib/python3.7/dist-packages/sklearn/base.py:451: UserWarning: X does not have valid feature names, but RandomForestClassifier was fitted with feature names\n",
            "  \"X does not have valid feature names, but\"\n",
            " 12%|█▎        | 1/8 [00:42<04:56, 42.40s/it]"
          ]
        },
        {
          "output_type": "stream",
          "name": "stdout",
          "text": [
            "___________________________________________________________________\n",
            "___________________________________________________________________\n",
            "HTML file SAVED for KNN, row number= 73\n",
            "HTML file SAVED for RF, row number= 73\n",
            "HTML file SAVED for XG, row number= 73\n",
            "___________________________________________________________________\n",
            "___________________________________________________________________\n",
            "___________________________________________________________________\n",
            "Round  2\n",
            "___________________________________________________________________\n",
            "Prediction for KNN:  W\n",
            "Prediction for RF:  W\n",
            "Prediction for XG:  N2\n",
            "Prediction Accual:  N1\n",
            "___________________________________________________________________\n"
          ]
        },
        {
          "output_type": "stream",
          "name": "stderr",
          "text": [
            "/usr/local/lib/python3.7/dist-packages/sklearn/base.py:451: UserWarning: X does not have valid feature names, but KNeighborsClassifier was fitted with feature names\n",
            "  \"X does not have valid feature names, but\"\n",
            "/usr/local/lib/python3.7/dist-packages/sklearn/base.py:451: UserWarning: X does not have valid feature names, but RandomForestClassifier was fitted with feature names\n",
            "  \"X does not have valid feature names, but\"\n",
            "/usr/local/lib/python3.7/dist-packages/sklearn/base.py:451: UserWarning: X does not have valid feature names, but KNeighborsClassifier was fitted with feature names\n",
            "  \"X does not have valid feature names, but\"\n",
            "/usr/local/lib/python3.7/dist-packages/sklearn/base.py:451: UserWarning: X does not have valid feature names, but RandomForestClassifier was fitted with feature names\n",
            "  \"X does not have valid feature names, but\"\n",
            " 25%|██▌       | 2/8 [01:23<04:09, 41.56s/it]"
          ]
        },
        {
          "output_type": "stream",
          "name": "stdout",
          "text": [
            "___________________________________________________________________\n",
            "___________________________________________________________________\n",
            "HTML file SAVED for KNN, row number= 58\n",
            "HTML file SAVED for RF, row number= 58\n",
            "HTML file SAVED for XG, row number= 58\n",
            "___________________________________________________________________\n",
            "___________________________________________________________________\n",
            "___________________________________________________________________\n",
            "Round  3\n",
            "___________________________________________________________________\n",
            "Prediction for KNN:  N2\n",
            "Prediction for RF:  W\n",
            "Prediction for XG:  N3\n",
            "Prediction Accual:  W\n",
            "___________________________________________________________________\n"
          ]
        },
        {
          "output_type": "stream",
          "name": "stderr",
          "text": [
            "/usr/local/lib/python3.7/dist-packages/sklearn/base.py:451: UserWarning: X does not have valid feature names, but KNeighborsClassifier was fitted with feature names\n",
            "  \"X does not have valid feature names, but\"\n",
            "/usr/local/lib/python3.7/dist-packages/sklearn/base.py:451: UserWarning: X does not have valid feature names, but RandomForestClassifier was fitted with feature names\n",
            "  \"X does not have valid feature names, but\"\n",
            "/usr/local/lib/python3.7/dist-packages/sklearn/base.py:451: UserWarning: X does not have valid feature names, but KNeighborsClassifier was fitted with feature names\n",
            "  \"X does not have valid feature names, but\"\n",
            "/usr/local/lib/python3.7/dist-packages/sklearn/base.py:451: UserWarning: X does not have valid feature names, but RandomForestClassifier was fitted with feature names\n",
            "  \"X does not have valid feature names, but\"\n",
            " 38%|███▊      | 3/8 [02:04<03:25, 41.20s/it]"
          ]
        },
        {
          "output_type": "stream",
          "name": "stdout",
          "text": [
            "___________________________________________________________________\n",
            "___________________________________________________________________\n",
            "HTML file SAVED for KNN, row number= 84\n",
            "HTML file SAVED for RF, row number= 84\n",
            "HTML file SAVED for XG, row number= 84\n",
            "___________________________________________________________________\n",
            "___________________________________________________________________\n",
            "___________________________________________________________________\n",
            "Round  4\n",
            "___________________________________________________________________\n",
            "Prediction for KNN:  N2\n",
            "Prediction for RF:  N2\n",
            "Prediction for XG:  N3\n",
            "Prediction Accual:  N3\n",
            "___________________________________________________________________\n"
          ]
        },
        {
          "output_type": "stream",
          "name": "stderr",
          "text": [
            "/usr/local/lib/python3.7/dist-packages/sklearn/base.py:451: UserWarning: X does not have valid feature names, but KNeighborsClassifier was fitted with feature names\n",
            "  \"X does not have valid feature names, but\"\n",
            "/usr/local/lib/python3.7/dist-packages/sklearn/base.py:451: UserWarning: X does not have valid feature names, but RandomForestClassifier was fitted with feature names\n",
            "  \"X does not have valid feature names, but\"\n",
            "/usr/local/lib/python3.7/dist-packages/sklearn/base.py:451: UserWarning: X does not have valid feature names, but KNeighborsClassifier was fitted with feature names\n",
            "  \"X does not have valid feature names, but\"\n",
            "/usr/local/lib/python3.7/dist-packages/sklearn/base.py:451: UserWarning: X does not have valid feature names, but RandomForestClassifier was fitted with feature names\n",
            "  \"X does not have valid feature names, but\"\n",
            " 50%|█████     | 4/8 [02:45<02:44, 41.15s/it]"
          ]
        },
        {
          "output_type": "stream",
          "name": "stdout",
          "text": [
            "___________________________________________________________________\n",
            "___________________________________________________________________\n",
            "HTML file SAVED for KNN, row number= 83\n",
            "HTML file SAVED for RF, row number= 83\n",
            "HTML file SAVED for XG, row number= 83\n",
            "___________________________________________________________________\n",
            "___________________________________________________________________\n",
            "___________________________________________________________________\n",
            "Round  5\n",
            "___________________________________________________________________\n",
            "Prediction for KNN:  N2\n",
            "Prediction for RF:  N3\n",
            "Prediction for XG:  R\n",
            "Prediction Accual:  N2\n",
            "___________________________________________________________________\n"
          ]
        },
        {
          "output_type": "stream",
          "name": "stderr",
          "text": [
            "/usr/local/lib/python3.7/dist-packages/sklearn/base.py:451: UserWarning: X does not have valid feature names, but KNeighborsClassifier was fitted with feature names\n",
            "  \"X does not have valid feature names, but\"\n",
            "/usr/local/lib/python3.7/dist-packages/sklearn/base.py:451: UserWarning: X does not have valid feature names, but RandomForestClassifier was fitted with feature names\n",
            "  \"X does not have valid feature names, but\"\n",
            "/usr/local/lib/python3.7/dist-packages/sklearn/base.py:451: UserWarning: X does not have valid feature names, but KNeighborsClassifier was fitted with feature names\n",
            "  \"X does not have valid feature names, but\"\n",
            "/usr/local/lib/python3.7/dist-packages/sklearn/base.py:451: UserWarning: X does not have valid feature names, but RandomForestClassifier was fitted with feature names\n",
            "  \"X does not have valid feature names, but\"\n",
            " 62%|██████▎   | 5/8 [03:25<02:02, 40.94s/it]"
          ]
        },
        {
          "output_type": "stream",
          "name": "stdout",
          "text": [
            "___________________________________________________________________\n",
            "___________________________________________________________________\n",
            "HTML file SAVED for KNN, row number= 43\n",
            "HTML file SAVED for RF, row number= 43\n",
            "HTML file SAVED for XG, row number= 43\n",
            "___________________________________________________________________\n",
            "___________________________________________________________________\n",
            "___________________________________________________________________\n",
            "Round  6\n",
            "___________________________________________________________________\n",
            "Prediction for KNN:  N2\n",
            "Prediction for RF:  N2\n",
            "Prediction for XG:  W\n",
            "Prediction Accual:  N2\n",
            "___________________________________________________________________\n"
          ]
        },
        {
          "output_type": "stream",
          "name": "stderr",
          "text": [
            "/usr/local/lib/python3.7/dist-packages/sklearn/base.py:451: UserWarning: X does not have valid feature names, but KNeighborsClassifier was fitted with feature names\n",
            "  \"X does not have valid feature names, but\"\n",
            "/usr/local/lib/python3.7/dist-packages/sklearn/base.py:451: UserWarning: X does not have valid feature names, but RandomForestClassifier was fitted with feature names\n",
            "  \"X does not have valid feature names, but\"\n",
            "/usr/local/lib/python3.7/dist-packages/sklearn/base.py:451: UserWarning: X does not have valid feature names, but KNeighborsClassifier was fitted with feature names\n",
            "  \"X does not have valid feature names, but\"\n",
            "/usr/local/lib/python3.7/dist-packages/sklearn/base.py:451: UserWarning: X does not have valid feature names, but RandomForestClassifier was fitted with feature names\n",
            "  \"X does not have valid feature names, but\"\n",
            " 75%|███████▌  | 6/8 [04:06<01:21, 40.82s/it]"
          ]
        },
        {
          "output_type": "stream",
          "name": "stdout",
          "text": [
            "___________________________________________________________________\n",
            "___________________________________________________________________\n",
            "HTML file SAVED for KNN, row number= 3\n",
            "HTML file SAVED for RF, row number= 3\n",
            "HTML file SAVED for XG, row number= 3\n",
            "___________________________________________________________________\n",
            "___________________________________________________________________\n",
            "___________________________________________________________________\n",
            "Round  7\n",
            "___________________________________________________________________\n",
            "Prediction for KNN:  N3\n",
            "Prediction for RF:  N2\n",
            "Prediction for XG:  N2\n",
            "Prediction Accual:  N2\n",
            "___________________________________________________________________\n"
          ]
        },
        {
          "output_type": "stream",
          "name": "stderr",
          "text": [
            "/usr/local/lib/python3.7/dist-packages/sklearn/base.py:451: UserWarning: X does not have valid feature names, but KNeighborsClassifier was fitted with feature names\n",
            "  \"X does not have valid feature names, but\"\n",
            "/usr/local/lib/python3.7/dist-packages/sklearn/base.py:451: UserWarning: X does not have valid feature names, but RandomForestClassifier was fitted with feature names\n",
            "  \"X does not have valid feature names, but\"\n",
            "/usr/local/lib/python3.7/dist-packages/sklearn/base.py:451: UserWarning: X does not have valid feature names, but KNeighborsClassifier was fitted with feature names\n",
            "  \"X does not have valid feature names, but\"\n",
            "/usr/local/lib/python3.7/dist-packages/sklearn/base.py:451: UserWarning: X does not have valid feature names, but RandomForestClassifier was fitted with feature names\n",
            "  \"X does not have valid feature names, but\"\n",
            " 88%|████████▊ | 7/8 [04:47<00:40, 40.90s/it]"
          ]
        },
        {
          "output_type": "stream",
          "name": "stdout",
          "text": [
            "___________________________________________________________________\n",
            "___________________________________________________________________\n",
            "HTML file SAVED for KNN, row number= 67\n",
            "HTML file SAVED for RF, row number= 67\n",
            "HTML file SAVED for XG, row number= 67\n",
            "___________________________________________________________________\n",
            "___________________________________________________________________\n",
            "___________________________________________________________________\n",
            "Round  8\n",
            "___________________________________________________________________\n",
            "Prediction for KNN:  R\n",
            "Prediction for RF:  W\n",
            "Prediction for XG:  R\n",
            "Prediction Accual:  R\n",
            "___________________________________________________________________\n"
          ]
        },
        {
          "output_type": "stream",
          "name": "stderr",
          "text": [
            "/usr/local/lib/python3.7/dist-packages/sklearn/base.py:451: UserWarning: X does not have valid feature names, but KNeighborsClassifier was fitted with feature names\n",
            "  \"X does not have valid feature names, but\"\n",
            "/usr/local/lib/python3.7/dist-packages/sklearn/base.py:451: UserWarning: X does not have valid feature names, but RandomForestClassifier was fitted with feature names\n",
            "  \"X does not have valid feature names, but\"\n",
            "/usr/local/lib/python3.7/dist-packages/sklearn/base.py:451: UserWarning: X does not have valid feature names, but KNeighborsClassifier was fitted with feature names\n",
            "  \"X does not have valid feature names, but\"\n",
            "/usr/local/lib/python3.7/dist-packages/sklearn/base.py:451: UserWarning: X does not have valid feature names, but RandomForestClassifier was fitted with feature names\n",
            "  \"X does not have valid feature names, but\"\n",
            "100%|██████████| 8/8 [05:28<00:00, 41.02s/it]"
          ]
        },
        {
          "output_type": "stream",
          "name": "stdout",
          "text": [
            "___________________________________________________________________\n",
            "___________________________________________________________________\n",
            "HTML file SAVED for KNN, row number= 48\n",
            "HTML file SAVED for RF, row number= 48\n",
            "HTML file SAVED for XG, row number= 48\n",
            "___________________________________________________________________\n",
            "___________________________________________________________________\n"
          ]
        },
        {
          "output_type": "stream",
          "name": "stderr",
          "text": [
            "\n"
          ]
        }
      ]
    },
    {
      "cell_type": "code",
      "source": [
        "print(rows)\n",
        "print(sec)"
      ],
      "metadata": {
        "colab": {
          "base_uri": "https://localhost:8080/"
        },
        "id": "2XxazJt7iMqK",
        "outputId": "a419cd51-16da-4167-cc27-cd40a3a3ef97"
      },
      "execution_count": 19,
      "outputs": [
        {
          "output_type": "stream",
          "name": "stdout",
          "text": [
            "[73, 58, 84, 83, 43, 3, 67, 48]\n",
            "['ALL', 'NONE', 'ONLY_RF', 'ONLY_XG', 'ONLY_KNN', 'RF_KNN', 'RF_XG', 'KNN_XG']\n"
          ]
        }
      ]
    },
    {
      "cell_type": "code",
      "source": [
        "print(sec[rows.index(49)])"
      ],
      "metadata": {
        "colab": {
          "base_uri": "https://localhost:8080/"
        },
        "id": "CdO8Pn3siOgP",
        "outputId": "01e41840-cb52-4c7f-a25d-370a91cc5acd"
      },
      "execution_count": 12,
      "outputs": [
        {
          "output_type": "stream",
          "name": "stdout",
          "text": [
            "RF_XG\n"
          ]
        }
      ]
    }
  ],
  "metadata": {
    "colab": {
      "name": "LIME.ipynb",
      "provenance": [],
      "include_colab_link": true
    },
    "kernelspec": {
      "display_name": "Python 3 (ipykernel)",
      "language": "python",
      "name": "python3"
    },
    "language_info": {
      "codemirror_mode": {
        "name": "ipython",
        "version": 3
      },
      "file_extension": ".py",
      "mimetype": "text/x-python",
      "name": "python",
      "nbconvert_exporter": "python",
      "pygments_lexer": "ipython3",
      "version": "3.7.4"
    },
    "vscode": {
      "interpreter": {
        "hash": "40d3a090f54c6569ab1632332b64b2c03c39dcf918b08424e98f38b5ae0af88f"
      }
    }
  },
  "nbformat": 4,
  "nbformat_minor": 0
}