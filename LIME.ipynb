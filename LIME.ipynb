{
  "nbformat": 4,
  "nbformat_minor": 0,
  "metadata": {
    "colab": {
      "name": "LIME.ipynb",
      "provenance": [],
      "include_colab_link": true
    },
    "kernelspec": {
      "name": "python3",
      "display_name": "Python 3"
    },
    "language_info": {
      "name": "python"
    }
  },
  "cells": [
    {
      "cell_type": "markdown",
      "metadata": {
        "id": "view-in-github",
        "colab_type": "text"
      },
      "source": [
        "<a href=\"https://colab.research.google.com/github/RafsanJany-44/Research_Sleep_Stage_Classification/blob/main/LIME.ipynb\" target=\"_parent\"><img src=\"https://colab.research.google.com/assets/colab-badge.svg\" alt=\"Open In Colab\"/></a>"
      ]
    },
    {
      "cell_type": "code",
      "source": [
        "import pandas as pd\n",
        "import numpy as np\n",
        "\n",
        "data = 'https://raw.githubusercontent.com/RafsanJany-44/Thesis_Project/main/All_DATA/without_sn_and_Epoch/EEG_HMC.csv'\n",
        "dataset = pd.read_csv(data)\n",
        "X = dataset.iloc[:, 1:]\n",
        "y = dataset.iloc[:, 0]\n"
      ],
      "metadata": {
        "id": "-61nFTgd179v"
      },
      "execution_count": 1,
      "outputs": []
    },
    {
      "cell_type": "code",
      "source": [
        "from sklearn.model_selection import train_test_split\n",
        "X_train, X_test, y_train, y_test = train_test_split(X, y, test_size=0.33, random_state=0)"
      ],
      "metadata": {
        "id": "xuVvsVaV2eV6"
      },
      "execution_count": 2,
      "outputs": []
    },
    {
      "cell_type": "code",
      "source": [
        "X_train.shape, X_test.shape"
      ],
      "metadata": {
        "colab": {
          "base_uri": "https://localhost:8080/"
        },
        "id": "SmkDTJlj2gWF",
        "outputId": "afa6c70f-dd73-4aab-ed5e-0b878ac0c360"
      },
      "execution_count": 3,
      "outputs": [
        {
          "output_type": "execute_result",
          "data": {
            "text/plain": [
              "((72662, 75), (35789, 75))"
            ]
          },
          "metadata": {},
          "execution_count": 3
        }
      ]
    },
    {
      "cell_type": "markdown",
      "source": [
        "StandardScaler() returns a numpy array. For better understandings we convert that in to pandas dataframe. StandardScaler() returns a numpy array. For better understanding we convert that in to pandas dataframe. And in separation for X and y, we remove the <b><i>[.values]</i></b>."
      ],
      "metadata": {
        "id": "QC6yGqQUd6jS"
      }
    },
    {
      "cell_type": "code",
      "source": [
        "X_train2=X_train\n",
        "X_test2=X_test\n",
        "\n",
        "from sklearn.preprocessing import StandardScaler\n",
        "sc = StandardScaler()\n",
        "X_train =sc.fit_transform(X_train)\n",
        "\n",
        "X_test =sc.fit_transform(X_test)\n",
        "\n",
        "\n",
        "X_train = pd.DataFrame(X_train, index=X_train2.index, columns=X_train2.columns)\n",
        "X_test = pd.DataFrame(X_test, index=X_test2.index, columns=X_test2.columns)\n"
      ],
      "metadata": {
        "id": "CvTA73nzwLMQ"
      },
      "execution_count": 4,
      "outputs": []
    },
    {
      "cell_type": "markdown",
      "source": [
        "**Tuning**"
      ],
      "metadata": {
        "id": "qmicADBt6gIj"
      }
    },
    {
      "cell_type": "markdown",
      "source": [
        "KNN"
      ],
      "metadata": {
        "id": "262NCO1ukp5r"
      }
    },
    {
      "cell_type": "code",
      "source": [
        "from sklearn.neighbors import KNeighborsClassifier\n",
        "KNN_class = KNeighborsClassifier(n_neighbors=7)\n",
        "KNN_class.fit(X_train, y_train)\n",
        "y_pred_KNN=KNN_class.predict(X_test)"
      ],
      "metadata": {
        "id": "aYQobtGs2iMk"
      },
      "execution_count": 5,
      "outputs": []
    },
    {
      "cell_type": "markdown",
      "source": [
        "Radomforest"
      ],
      "metadata": {
        "id": "XTuvrei4mGE5"
      }
    },
    {
      "cell_type": "code",
      "source": [
        "from sklearn.ensemble import RandomForestClassifier\n",
        "classifier = RandomForestClassifier(n_estimators=125, random_state=0)\n",
        "classifier.fit(X_train, y_train)\n",
        "y_pred_RF=classifier.predict(X_test)"
      ],
      "metadata": {
        "id": "lJ_hZf9VlOiY"
      },
      "execution_count": 6,
      "outputs": []
    },
    {
      "cell_type": "markdown",
      "source": [
        "xgboost"
      ],
      "metadata": {
        "id": "ghmoo3jBmI9I"
      }
    },
    {
      "cell_type": "code",
      "source": [
        "import xgboost as xgb\n",
        "xgb_classifier = xgb.XGBClassifier(max_depth=14)\n",
        "xgb_classifier.fit(X_train,y_train)\n",
        "y_pred_XG = xgb_classifier.predict(X_test)"
      ],
      "metadata": {
        "id": "ateLyo-hlZ6B"
      },
      "execution_count": 7,
      "outputs": []
    },
    {
      "cell_type": "code",
      "source": [
        "print(X_test)"
      ],
      "metadata": {
        "colab": {
          "base_uri": "https://localhost:8080/"
        },
        "id": "13ZwEopwtfaJ",
        "outputId": "02f90445-ab03-4e7d-defc-71813cfa317d"
      },
      "execution_count": 17,
      "outputs": [
        {
          "output_type": "stream",
          "name": "stdout",
          "text": [
            "        MeanP_Alpha_F4  MedianF_Alpha_F4  MeanF_Alpha_F4  \\\n",
            "103435       -0.069698         -0.043048       -0.431834   \n",
            "22409        -0.071282         -0.420140       -0.275982   \n",
            "66271         0.007150          1.088220        0.534449   \n",
            "86454        -0.033255          0.522586        0.129235   \n",
            "42247        -0.075243          0.334043        0.191574   \n",
            "...                ...               ...             ...   \n",
            "20788        -0.065736         -0.357290       -0.275982   \n",
            "104002       -0.053853         -0.420140       -0.494174   \n",
            "58374        -0.064944         -0.797231       -0.587686   \n",
            "45615        -0.081581         -0.860080       -0.307151   \n",
            "88722        -0.097838         -0.043048       -0.151299   \n",
            "\n",
            "        Spectral Edge_Alpha_F4  PeakF_Alpha_F4  MeanP_Beta_F4  \\\n",
            "103435               -0.426807       -0.454958      -0.115756   \n",
            "22409                -0.339086       -0.381279      -0.118197   \n",
            "66271                 1.005995        8.042595       0.415302   \n",
            "86454                 0.158010        0.232706      -0.047390   \n",
            "42247                 0.128769        0.036232      -0.107210   \n",
            "...                        ...             ...            ...   \n",
            "20788                -0.339086        0.330943      -0.113314   \n",
            "104002               -0.573012       -0.037448      -0.109652   \n",
            "58374                -0.689977       -0.283042      -0.124302   \n",
            "45615                -0.485290       -0.651432      -0.132847   \n",
            "88722                -0.192881        0.208146      -0.144470   \n",
            "\n",
            "        MedianF_Beta_F4  MeanF_Beta_F4  Spectral Edge_Beta_F4  PeakF_Beta_F4  \\\n",
            "103435        -0.300697      -0.220151              -0.304938      -0.520913   \n",
            "22409         -0.265706      -0.274680              -0.357526      -0.527511   \n",
            "66271          2.279934       1.633829               1.439229       1.564028   \n",
            "86454         -0.186975      -0.392825              -0.462702      -0.435140   \n",
            "42247         -0.125739      -0.183799              -0.190997      -0.435140   \n",
            "...                 ...            ...                    ...            ...   \n",
            "20788         -0.309445      -0.356473              -0.436407      -0.507718   \n",
            "104002        -0.379429      -0.320121              -0.427643      -0.606686   \n",
            "58374         -0.431916      -0.411002              -0.541584      -0.514316   \n",
            "45615         -0.283202      -0.311032              -0.383819      -0.243801   \n",
            "88722         -0.213218      -0.129270              -0.129645      -0.514316   \n",
            "\n",
            "        ...  MeanP_Delta_O2  MedianF_Delta_O2  MeanF_Delta_O2  \\\n",
            "103435  ...       -0.136306         -0.009943       -0.232003   \n",
            "22409   ...       -0.150161         -0.148649       -0.004922   \n",
            "66271   ...       -0.138649         -0.079297       -0.118464   \n",
            "86454   ...       -0.148823         -0.044620        0.487086   \n",
            "42247   ...       -0.153374         -0.148649        0.524934   \n",
            "...     ...             ...               ...             ...   \n",
            "20788   ...       -0.121112         -0.148649       -0.383390   \n",
            "104002  ...       -0.119572         -0.044620       -0.194156   \n",
            "58374   ...       -0.101366         -0.113974       -0.383390   \n",
            "45615   ...       -0.152772         -0.079297       -0.004922   \n",
            "88722   ...       -0.137377         -0.113974       -0.345546   \n",
            "\n",
            "        Spectral Edge_Delta_O2  PeakF_Delta_O2  MeanP_Gamma_O2  \\\n",
            "103435               -0.073323       -0.034108       -0.094945   \n",
            "22409                -0.108500       -0.068460       -0.096506   \n",
            "66271                -0.143677       -0.137169        0.824315   \n",
            "86454                 0.172913       -0.137169       -0.093246   \n",
            "42247                -0.002969       -0.137169       -0.094535   \n",
            "...                        ...             ...             ...   \n",
            "20788                -0.108500       -0.137169       -0.095818   \n",
            "104002               -0.143677       -0.102814       -0.095236   \n",
            "58374                -0.284383       -0.102814       -0.082263   \n",
            "45615                 0.137736       -0.102814       -0.096559   \n",
            "88722                -0.108500       -0.171524       -0.095765   \n",
            "\n",
            "        MedianF_Gamma_O2  MeanF_Gamma_O2  Spectral Edge_Gamma_O2  \\\n",
            "103435         -0.592349       -0.533318               -0.054857   \n",
            "22409          -0.762981       -0.701464               -0.616911   \n",
            "66271           0.907416        0.464344               -0.042083   \n",
            "86454          -1.023419       -1.161062               -1.345027   \n",
            "42247          -0.304969       -0.163399                0.379459   \n",
            "...                  ...             ...                     ...   \n",
            "20788          -0.089434        0.228940                0.302815   \n",
            "104002         -0.691136       -0.600576               -0.054857   \n",
            "58374           0.907416        0.464344               -0.042083   \n",
            "45615          -0.511523       -0.376383               -0.042083   \n",
            "88722          -0.107395        0.464344               -0.042083   \n",
            "\n",
            "        PeakF_Gamma_O2  \n",
            "103435        0.462445  \n",
            "22409        -0.473007  \n",
            "66271         0.462445  \n",
            "86454        -1.360893  \n",
            "42247         0.462445  \n",
            "...                ...  \n",
            "20788         0.462445  \n",
            "104002        0.462445  \n",
            "58374         0.462445  \n",
            "45615         0.462445  \n",
            "88722         0.462445  \n",
            "\n",
            "[35789 rows x 75 columns]\n"
          ]
        }
      ]
    },
    {
      "cell_type": "markdown",
      "source": [
        "Accurecy"
      ],
      "metadata": {
        "id": "lVzqRjIOmLT9"
      }
    },
    {
      "cell_type": "code",
      "source": [
        "from sklearn.metrics import accuracy_score\n",
        "print(\"Accurecy KNN: \",accuracy_score(y_test, y_pred_KNN))\n",
        "print(\"Accurecy RF: \",accuracy_score(y_test, y_pred_RF))\n",
        "print(\"Accurecy XG: \",accuracy_score(y_test, y_pred_XG))\n"
      ],
      "metadata": {
        "colab": {
          "base_uri": "https://localhost:8080/"
        },
        "id": "f4NzJ4z12lI3",
        "outputId": "8f54fef9-7234-4856-d432-912031b1521e"
      },
      "execution_count": 8,
      "outputs": [
        {
          "output_type": "stream",
          "name": "stdout",
          "text": [
            "Accurecy KNN:  0.7467657660174915\n",
            "Accurecy RF:  0.7600380005029478\n",
            "Accurecy XG:  0.7751543770432255\n"
          ]
        }
      ]
    },
    {
      "cell_type": "markdown",
      "source": [
        "#LIME"
      ],
      "metadata": {
        "id": "t0oUTQ7PioB4"
      }
    },
    {
      "cell_type": "code",
      "source": [
        "!pip install lime"
      ],
      "metadata": {
        "colab": {
          "base_uri": "https://localhost:8080/"
        },
        "id": "ZEXlr_FMikI0",
        "outputId": "a19fa0ae-7265-418b-b8a4-1a485cf1a213"
      },
      "execution_count": 9,
      "outputs": [
        {
          "output_type": "stream",
          "name": "stdout",
          "text": [
            "Looking in indexes: https://pypi.org/simple, https://us-python.pkg.dev/colab-wheels/public/simple/\n",
            "Collecting lime\n",
            "  Downloading lime-0.2.0.1.tar.gz (275 kB)\n",
            "\u001b[K     |████████████████████████████████| 275 kB 6.8 MB/s \n",
            "\u001b[?25hRequirement already satisfied: matplotlib in /usr/local/lib/python3.7/dist-packages (from lime) (3.2.2)\n",
            "Requirement already satisfied: numpy in /usr/local/lib/python3.7/dist-packages (from lime) (1.21.6)\n",
            "Requirement already satisfied: scipy in /usr/local/lib/python3.7/dist-packages (from lime) (1.4.1)\n",
            "Requirement already satisfied: tqdm in /usr/local/lib/python3.7/dist-packages (from lime) (4.64.0)\n",
            "Requirement already satisfied: scikit-learn>=0.18 in /usr/local/lib/python3.7/dist-packages (from lime) (1.0.2)\n",
            "Requirement already satisfied: scikit-image>=0.12 in /usr/local/lib/python3.7/dist-packages (from lime) (0.18.3)\n",
            "Requirement already satisfied: pillow!=7.1.0,!=7.1.1,>=4.3.0 in /usr/local/lib/python3.7/dist-packages (from scikit-image>=0.12->lime) (7.1.2)\n",
            "Requirement already satisfied: networkx>=2.0 in /usr/local/lib/python3.7/dist-packages (from scikit-image>=0.12->lime) (2.6.3)\n",
            "Requirement already satisfied: imageio>=2.3.0 in /usr/local/lib/python3.7/dist-packages (from scikit-image>=0.12->lime) (2.4.1)\n",
            "Requirement already satisfied: tifffile>=2019.7.26 in /usr/local/lib/python3.7/dist-packages (from scikit-image>=0.12->lime) (2021.11.2)\n",
            "Requirement already satisfied: PyWavelets>=1.1.1 in /usr/local/lib/python3.7/dist-packages (from scikit-image>=0.12->lime) (1.3.0)\n",
            "Requirement already satisfied: pyparsing!=2.0.4,!=2.1.2,!=2.1.6,>=2.0.1 in /usr/local/lib/python3.7/dist-packages (from matplotlib->lime) (3.0.9)\n",
            "Requirement already satisfied: python-dateutil>=2.1 in /usr/local/lib/python3.7/dist-packages (from matplotlib->lime) (2.8.2)\n",
            "Requirement already satisfied: kiwisolver>=1.0.1 in /usr/local/lib/python3.7/dist-packages (from matplotlib->lime) (1.4.3)\n",
            "Requirement already satisfied: cycler>=0.10 in /usr/local/lib/python3.7/dist-packages (from matplotlib->lime) (0.11.0)\n",
            "Requirement already satisfied: typing-extensions in /usr/local/lib/python3.7/dist-packages (from kiwisolver>=1.0.1->matplotlib->lime) (4.1.1)\n",
            "Requirement already satisfied: six>=1.5 in /usr/local/lib/python3.7/dist-packages (from python-dateutil>=2.1->matplotlib->lime) (1.15.0)\n",
            "Requirement already satisfied: threadpoolctl>=2.0.0 in /usr/local/lib/python3.7/dist-packages (from scikit-learn>=0.18->lime) (3.1.0)\n",
            "Requirement already satisfied: joblib>=0.11 in /usr/local/lib/python3.7/dist-packages (from scikit-learn>=0.18->lime) (1.1.0)\n",
            "Building wheels for collected packages: lime\n",
            "  Building wheel for lime (setup.py) ... \u001b[?25l\u001b[?25hdone\n",
            "  Created wheel for lime: filename=lime-0.2.0.1-py3-none-any.whl size=283857 sha256=275c3f6b785bfe7393d4d334e6f225f2d86a48ff19a3d2fd72d3e53dfe6ca767\n",
            "  Stored in directory: /root/.cache/pip/wheels/ca/cb/e5/ac701e12d365a08917bf4c6171c0961bc880a8181359c66aa7\n",
            "Successfully built lime\n",
            "Installing collected packages: lime\n",
            "Successfully installed lime-0.2.0.1\n"
          ]
        }
      ]
    },
    {
      "cell_type": "code",
      "source": [
        "X_test.iloc[8]"
      ],
      "metadata": {
        "colab": {
          "base_uri": "https://localhost:8080/"
        },
        "id": "UmYY1k2jiy5D",
        "outputId": "146c0130-2833-4813-aec0-c4612212b106"
      },
      "execution_count": 10,
      "outputs": [
        {
          "output_type": "execute_result",
          "data": {
            "text/plain": [
              "MeanP_Alpha_F4           -0.030086\n",
              "MedianF_Alpha_F4          0.711134\n",
              "MeanF_Alpha_F4           -0.587686\n",
              "Spectral Edge_Alpha_F4   -0.573012\n",
              "PeakF_Alpha_F4            0.355503\n",
              "                            ...   \n",
              "MeanP_Gamma_O2           -0.094238\n",
              "MedianF_Gamma_O2         -0.771961\n",
              "MeanF_Gamma_O2           -0.869609\n",
              "Spectral Edge_Gamma_O2   -0.731878\n",
              "PeakF_Gamma_O2           -1.281617\n",
              "Name: 90165, Length: 75, dtype: float64"
            ]
          },
          "metadata": {},
          "execution_count": 10
        }
      ]
    },
    {
      "cell_type": "code",
      "source": [
        "ex_specie = np.array(X_test.iloc[8]).reshape(1,-1)"
      ],
      "metadata": {
        "id": "8R6e4nvfi2jp"
      },
      "execution_count": 11,
      "outputs": []
    },
    {
      "cell_type": "code",
      "source": [
        "print(ex_specie)"
      ],
      "metadata": {
        "colab": {
          "base_uri": "https://localhost:8080/"
        },
        "id": "VAAjblezp-3g",
        "outputId": "c34e336e-2617-433e-daf8-a6c8f3e2d053"
      },
      "execution_count": 28,
      "outputs": [
        {
          "output_type": "stream",
          "name": "stdout",
          "text": [
            "[[-0.03008567  0.71113376 -0.58768641 -0.57301173  0.3555029  -0.06936454\n",
            "  -0.38817629 -0.35647305 -0.46270179 -0.50111961 -0.04619222 -0.08908247\n",
            "  -0.11630175  0.08174911  0.06073195 -0.14089688 -0.12553911  0.03378416\n",
            "   0.00528969 -0.09200615 -0.06834644 -0.72792171 -0.86959309 -0.77522244\n",
            "  -1.26902441 -0.05549743  0.20434603 -0.46873089 -0.4278326   0.16182039\n",
            "  -0.05909374 -0.38214116 -0.34357138 -0.41055153 -0.53666168 -0.05655077\n",
            "  -0.13743571 -0.13020154 -0.00863417  0.0245203  -0.1289101  -0.12232888\n",
            "  -0.05099567 -0.08439815 -0.13703124 -0.04772259 -0.63871576 -0.83764474\n",
            "  -0.72745111 -1.20987627 -0.05008226 -0.1004032  -0.3824017  -0.35663385\n",
            "  -0.27332047 -0.10259662 -0.35977804 -0.38779948 -0.48344454 -0.54022957\n",
            "  -0.04474735 -0.24753129 -0.07537684 -0.21398018 -0.23591339 -0.12874246\n",
            "  -0.07929709 -0.23200338  0.03220518 -0.10281449 -0.0942378  -0.77196142\n",
            "  -0.86960947 -0.73187751 -1.28161705]]\n"
          ]
        }
      ]
    },
    {
      "cell_type": "code",
      "source": [
        "print(X_test.iloc[[8]])"
      ],
      "metadata": {
        "colab": {
          "base_uri": "https://localhost:8080/"
        },
        "id": "gzYCuKEitc_Q",
        "outputId": "04f15d2f-9a06-4f31-9d8e-5b56b217552d"
      },
      "execution_count": 29,
      "outputs": [
        {
          "output_type": "stream",
          "name": "stdout",
          "text": [
            "       MeanP_Alpha_F4  MedianF_Alpha_F4  MeanF_Alpha_F4  \\\n",
            "90165       -0.030086          0.711134       -0.587686   \n",
            "\n",
            "       Spectral Edge_Alpha_F4  PeakF_Alpha_F4  MeanP_Beta_F4  MedianF_Beta_F4  \\\n",
            "90165               -0.573012        0.355503      -0.069365        -0.388176   \n",
            "\n",
            "       MeanF_Beta_F4  Spectral Edge_Beta_F4  PeakF_Beta_F4  ...  \\\n",
            "90165      -0.356473              -0.462702       -0.50112  ...   \n",
            "\n",
            "       MeanP_Delta_O2  MedianF_Delta_O2  MeanF_Delta_O2  \\\n",
            "90165       -0.128742         -0.079297       -0.232003   \n",
            "\n",
            "       Spectral Edge_Delta_O2  PeakF_Delta_O2  MeanP_Gamma_O2  \\\n",
            "90165                0.032205       -0.102814       -0.094238   \n",
            "\n",
            "       MedianF_Gamma_O2  MeanF_Gamma_O2  Spectral Edge_Gamma_O2  \\\n",
            "90165         -0.771961       -0.869609               -0.731878   \n",
            "\n",
            "       PeakF_Gamma_O2  \n",
            "90165       -1.281617  \n",
            "\n",
            "[1 rows x 75 columns]\n"
          ]
        }
      ]
    },
    {
      "cell_type": "code",
      "source": [
        "print(\"Prediction for KNN: \",KNN_class.predict(ex_specie))\n",
        "print(\"Prediction for RF: \",classifier.predict(ex_specie))\n",
        "print(\"Prediction for XG: \",xgb_classifier.predict(X_test.iloc[[8]]))"
      ],
      "metadata": {
        "colab": {
          "base_uri": "https://localhost:8080/"
        },
        "id": "Jlxj42uXi4g0",
        "outputId": "1ffe0d86-bdec-4b2a-e1b1-5d6116f5f5dc"
      },
      "execution_count": 27,
      "outputs": [
        {
          "output_type": "stream",
          "name": "stdout",
          "text": [
            "Prediction for KNN:  ['N3']\n",
            "Prediction for RF:  ['N3']\n",
            "Prediction for XG:  ['N2']\n"
          ]
        },
        {
          "output_type": "stream",
          "name": "stderr",
          "text": [
            "/usr/local/lib/python3.7/dist-packages/sklearn/base.py:451: UserWarning: X does not have valid feature names, but KNeighborsClassifier was fitted with feature names\n",
            "  \"X does not have valid feature names, but\"\n",
            "/usr/local/lib/python3.7/dist-packages/sklearn/base.py:451: UserWarning: X does not have valid feature names, but RandomForestClassifier was fitted with feature names\n",
            "  \"X does not have valid feature names, but\"\n"
          ]
        }
      ]
    },
    {
      "cell_type": "code",
      "source": [
        "y_test.iloc[[8]]"
      ],
      "metadata": {
        "colab": {
          "base_uri": "https://localhost:8080/"
        },
        "id": "KB2L0QoCv7vy",
        "outputId": "d9cafb39-bdb9-4af0-b8c7-8fdd5b2ed420"
      },
      "execution_count": 30,
      "outputs": [
        {
          "output_type": "execute_result",
          "data": {
            "text/plain": [
              "90165    N3\n",
              "Name: Sleep Stage, dtype: object"
            ]
          },
          "metadata": {},
          "execution_count": 30
        }
      ]
    }
  ]
}