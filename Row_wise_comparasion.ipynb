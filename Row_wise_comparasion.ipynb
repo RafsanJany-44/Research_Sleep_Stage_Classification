{
  "nbformat": 4,
  "nbformat_minor": 0,
  "metadata": {
    "colab": {
      "name": "Row_wise_comparasion.ipynb",
      "provenance": [],
      "collapsed_sections": [],
      "authorship_tag": "ABX9TyMSFtUj3jFDA3xQPKGE8EkF",
      "include_colab_link": true
    },
    "kernelspec": {
      "name": "python3",
      "display_name": "Python 3"
    },
    "language_info": {
      "name": "python"
    }
  },
  "cells": [
    {
      "cell_type": "markdown",
      "metadata": {
        "id": "view-in-github",
        "colab_type": "text"
      },
      "source": [
        "<a href=\"https://colab.research.google.com/github/RafsanJany-44/Research_Sleep_Stage_Classification/blob/main/Row_wise_comparasion.ipynb\" target=\"_parent\"><img src=\"https://colab.research.google.com/assets/colab-badge.svg\" alt=\"Open In Colab\"/></a>"
      ]
    },
    {
      "cell_type": "code",
      "execution_count": 1,
      "metadata": {
        "id": "yO7MHC_AplvT"
      },
      "outputs": [],
      "source": [
        "import pandas as pd\n",
        "import numpy as np\n",
        "\n",
        "data = 'https://raw.githubusercontent.com/RafsanJany-44/Thesis_Project/main/All_DATA/without_sn_and_Epoch/EEG_HMC.csv'\n",
        "dataset = pd.read_csv(data)\n",
        "X = dataset.iloc[:, 1:]\n",
        "y = dataset.iloc[:, 0]\n"
      ]
    },
    {
      "cell_type": "code",
      "source": [
        "from sklearn.model_selection import train_test_split\n",
        "X_train, X_test, y_train, y_test = train_test_split(X, y, test_size=0.33, random_state=0)"
      ],
      "metadata": {
        "id": "bJobD_ATppps"
      },
      "execution_count": 2,
      "outputs": []
    },
    {
      "cell_type": "code",
      "source": [
        "X_train.shape, X_test.shape"
      ],
      "metadata": {
        "colab": {
          "base_uri": "https://localhost:8080/"
        },
        "id": "rNa6vZvcpr48",
        "outputId": "87600c25-91e3-4139-c50c-04882fced528"
      },
      "execution_count": 3,
      "outputs": [
        {
          "output_type": "execute_result",
          "data": {
            "text/plain": [
              "((72662, 75), (35789, 75))"
            ]
          },
          "metadata": {},
          "execution_count": 3
        }
      ]
    },
    {
      "cell_type": "code",
      "source": [
        "print(X_test.shape[0])"
      ],
      "metadata": {
        "colab": {
          "base_uri": "https://localhost:8080/"
        },
        "id": "5xwCUoBbtmkD",
        "outputId": "f8b3f326-1a27-4ec0-be87-8de31fed08eb"
      },
      "execution_count": 4,
      "outputs": [
        {
          "output_type": "stream",
          "name": "stdout",
          "text": [
            "35789\n"
          ]
        }
      ]
    },
    {
      "cell_type": "code",
      "source": [
        "X_train2=X_train\n",
        "X_test2=X_test\n",
        "\n",
        "from sklearn.preprocessing import StandardScaler\n",
        "sc = StandardScaler()\n",
        "X_train =sc.fit_transform(X_train)\n",
        "\n",
        "X_test =sc.fit_transform(X_test)\n",
        "\n",
        "\n",
        "X_train = pd.DataFrame(X_train, index=X_train2.index, columns=X_train2.columns)\n",
        "X_test = pd.DataFrame(X_test, index=X_test2.index, columns=X_test2.columns)\n"
      ],
      "metadata": {
        "id": "Ejlp8CRmpuiC"
      },
      "execution_count": 5,
      "outputs": []
    },
    {
      "cell_type": "code",
      "source": [
        ""
      ],
      "metadata": {
        "id": "2EWMQCvopxhZ"
      },
      "execution_count": 5,
      "outputs": []
    },
    {
      "cell_type": "code",
      "source": [
        "from sklearn.neighbors import KNeighborsClassifier\n",
        "KNN_class = KNeighborsClassifier(n_neighbors=7)\n",
        "KNN_class.fit(X_train, y_train)\n",
        "y_pred_KNN=KNN_class.predict(X_test)"
      ],
      "metadata": {
        "id": "Vmfs8pjapx_a"
      },
      "execution_count": 6,
      "outputs": []
    },
    {
      "cell_type": "code",
      "source": [
        "from sklearn.ensemble import RandomForestClassifier\n",
        "classifier = RandomForestClassifier(n_estimators=125, random_state=0)\n",
        "classifier.fit(X_train, y_train)\n",
        "y_pred_RF=classifier.predict(X_test)"
      ],
      "metadata": {
        "id": "h7ATG_1_p1vC"
      },
      "execution_count": 7,
      "outputs": []
    },
    {
      "cell_type": "code",
      "source": [
        "import xgboost as xgb\n",
        "xgb_classifier = xgb.XGBClassifier(max_depth=14)\n",
        "xgb_classifier.fit(X_train,y_train)\n",
        "y_pred_XG = xgb_classifier.predict(X_test)"
      ],
      "metadata": {
        "id": "fwGBlgl7p2fq"
      },
      "execution_count": 8,
      "outputs": []
    },
    {
      "cell_type": "code",
      "source": [
        "from sklearn.metrics import accuracy_score\n",
        "print(\"Accurecy KNN: \",accuracy_score(y_test, y_pred_KNN))\n",
        "print(\"Accurecy RF: \",accuracy_score(y_test, y_pred_RF))\n",
        "print(\"Accurecy XG: \",accuracy_score(y_test, y_pred_XG))"
      ],
      "metadata": {
        "colab": {
          "base_uri": "https://localhost:8080/"
        },
        "id": "EokDTUNwqH40",
        "outputId": "4200587a-b90a-4726-fd46-64b370fcd602"
      },
      "execution_count": 9,
      "outputs": [
        {
          "output_type": "stream",
          "name": "stdout",
          "text": [
            "Accurecy KNN:  0.7467657660174915\n",
            "Accurecy RF:  0.7600380005029478\n",
            "Accurecy XG:  0.7751543770432255\n"
          ]
        }
      ]
    },
    {
      "cell_type": "markdown",
      "source": [
        "**Row wise comparision**"
      ],
      "metadata": {
        "id": "hOpNtqFNqu9f"
      }
    },
    {
      "cell_type": "code",
      "source": [
        "from tqdm import tqdm\n",
        "all=[]\n",
        "none=[]\n",
        "onlyRF=[]\n",
        "onlyXG=[]\n",
        "onlyKNN=[]\n",
        "\n",
        "RFKNN=[]\n",
        "RFXG=[]\n",
        "KNNXG=[]\n",
        "\n",
        "\n",
        "for i in tqdm(range(0,100)):\n",
        "  print(\"For:\",i)\n",
        "  ex_specie = np.array(X_test.iloc[i]).reshape(1,-1)\n",
        "  knn=KNN_class.predict(ex_specie)[0]\n",
        "  rf=classifier.predict(ex_specie)[0]\n",
        "  xg=xgb_classifier.predict(X_test.iloc[[i]])[0]\n",
        "  y=y_test.iloc[i]\n",
        "  print(\"Prediction for KNN: \",knn)\n",
        "  print(\"Prediction for RF: \",rf)\n",
        "  print(\"Prediction for XG: \",xg)\n",
        "  print(\"           Actual: \",y)\n",
        "  \n",
        "  if y==knn and y==rf and y==xg:\n",
        "    all.append(i)\n",
        "  \n",
        "  elif y==knn and y!=rf and y!=xg:\n",
        "    onlyKNN.append(i)\n",
        "  \n",
        "  elif y!=knn and y==rf and y!=xg:\n",
        "    onlyRF.append(i)\n",
        "  \n",
        "  elif y!=knn and y!= rf and y==xg:\n",
        "    onlyXG.append(i)\n",
        "  \n",
        "  elif y==knn and y==rf and y!=xg:\n",
        "    RFKNN.append(i)\n",
        "  \n",
        "  elif y!=knn and y==rf and y==xg:\n",
        "    RFXG.append(i)\n",
        "  \n",
        "  elif y==knn and y!=rf and y==xg:\n",
        "    KNNXG.append(i)\n",
        "  \n",
        "  else:\n",
        "    none.append(i)\n",
        "\n",
        "dict={\n",
        "    'all':all,\n",
        "'none':none,\n",
        "'onlyRF':onlyRF,\n",
        "'onlyXG':onlyXG,\n",
        "'onlyKNN':onlyKNN,\n",
        "\n",
        "'RFKNN':RFKNN,\n",
        "'RFXG':RFXG,\n",
        "'KNNXG':KNNXG\n",
        "\n",
        "    \n",
        "}"
      ],
      "metadata": {
        "id": "v3OavZ3RqPMu",
        "outputId": "fb42d35a-1355-4fe2-c3b0-adbf6f197a7f",
        "colab": {
          "base_uri": "https://localhost:8080/"
        }
      },
      "execution_count": 11,
      "outputs": [
        {
          "output_type": "stream",
          "name": "stderr",
          "text": [
            "  0%|          | 0/100 [00:00<?, ?it/s]/usr/local/lib/python3.7/dist-packages/sklearn/base.py:451: UserWarning: X does not have valid feature names, but KNeighborsClassifier was fitted with feature names\n",
            "  \"X does not have valid feature names, but\"\n",
            "/usr/local/lib/python3.7/dist-packages/sklearn/base.py:451: UserWarning: X does not have valid feature names, but RandomForestClassifier was fitted with feature names\n",
            "  \"X does not have valid feature names, but\"\n",
            "  1%|          | 1/100 [00:00<00:15,  6.35it/s]/usr/local/lib/python3.7/dist-packages/sklearn/base.py:451: UserWarning: X does not have valid feature names, but KNeighborsClassifier was fitted with feature names\n",
            "  \"X does not have valid feature names, but\"\n"
          ]
        },
        {
          "output_type": "stream",
          "name": "stdout",
          "text": [
            "For: 0\n",
            "Prediction for KNN:  R\n",
            "Prediction for RF:  N2\n",
            "Prediction for XG:  N2\n",
            "           Actual:  R\n",
            "For: 1\n"
          ]
        },
        {
          "output_type": "stream",
          "name": "stderr",
          "text": [
            "/usr/local/lib/python3.7/dist-packages/sklearn/base.py:451: UserWarning: X does not have valid feature names, but RandomForestClassifier was fitted with feature names\n",
            "  \"X does not have valid feature names, but\"\n",
            "\r  2%|▏         | 2/100 [00:00<00:14,  6.83it/s]/usr/local/lib/python3.7/dist-packages/sklearn/base.py:451: UserWarning: X does not have valid feature names, but KNeighborsClassifier was fitted with feature names\n",
            "  \"X does not have valid feature names, but\"\n",
            "/usr/local/lib/python3.7/dist-packages/sklearn/base.py:451: UserWarning: X does not have valid feature names, but RandomForestClassifier was fitted with feature names\n",
            "  \"X does not have valid feature names, but\"\n"
          ]
        },
        {
          "output_type": "stream",
          "name": "stdout",
          "text": [
            "Prediction for KNN:  R\n",
            "Prediction for RF:  R\n",
            "Prediction for XG:  R\n",
            "           Actual:  R\n",
            "For: 2\n"
          ]
        },
        {
          "output_type": "stream",
          "name": "stderr",
          "text": [
            "\r  3%|▎         | 3/100 [00:00<00:17,  5.54it/s]/usr/local/lib/python3.7/dist-packages/sklearn/base.py:451: UserWarning: X does not have valid feature names, but KNeighborsClassifier was fitted with feature names\n",
            "  \"X does not have valid feature names, but\"\n",
            "/usr/local/lib/python3.7/dist-packages/sklearn/base.py:451: UserWarning: X does not have valid feature names, but RandomForestClassifier was fitted with feature names\n",
            "  \"X does not have valid feature names, but\"\n",
            "  4%|▍         | 4/100 [00:00<00:17,  5.49it/s]"
          ]
        },
        {
          "output_type": "stream",
          "name": "stdout",
          "text": [
            "Prediction for KNN:  N2\n",
            "Prediction for RF:  N2\n",
            "Prediction for XG:  N2\n",
            "           Actual:  N2\n",
            "For: 3\n",
            "Prediction for KNN:  N2\n",
            "Prediction for RF:  N2\n",
            "Prediction for XG:  N2\n",
            "           Actual:  N2\n",
            "For: 4\n"
          ]
        },
        {
          "output_type": "stream",
          "name": "stderr",
          "text": [
            "/usr/local/lib/python3.7/dist-packages/sklearn/base.py:451: UserWarning: X does not have valid feature names, but KNeighborsClassifier was fitted with feature names\n",
            "  \"X does not have valid feature names, but\"\n",
            "/usr/local/lib/python3.7/dist-packages/sklearn/base.py:451: UserWarning: X does not have valid feature names, but RandomForestClassifier was fitted with feature names\n",
            "  \"X does not have valid feature names, but\"\n",
            "  5%|▌         | 5/100 [00:00<00:16,  5.59it/s]/usr/local/lib/python3.7/dist-packages/sklearn/base.py:451: UserWarning: X does not have valid feature names, but KNeighborsClassifier was fitted with feature names\n",
            "  \"X does not have valid feature names, but\"\n",
            "/usr/local/lib/python3.7/dist-packages/sklearn/base.py:451: UserWarning: X does not have valid feature names, but RandomForestClassifier was fitted with feature names\n",
            "  \"X does not have valid feature names, but\"\n",
            "  6%|▌         | 6/100 [00:01<00:16,  5.62it/s]"
          ]
        },
        {
          "output_type": "stream",
          "name": "stdout",
          "text": [
            "Prediction for KNN:  N1\n",
            "Prediction for RF:  N1\n",
            "Prediction for XG:  N1\n",
            "           Actual:  W\n",
            "For: 5\n",
            "Prediction for KNN:  N3\n",
            "Prediction for RF:  N2\n",
            "Prediction for XG:  N2\n",
            "           Actual:  N3\n",
            "For: 6\n"
          ]
        },
        {
          "output_type": "stream",
          "name": "stderr",
          "text": [
            "/usr/local/lib/python3.7/dist-packages/sklearn/base.py:451: UserWarning: X does not have valid feature names, but KNeighborsClassifier was fitted with feature names\n",
            "  \"X does not have valid feature names, but\"\n",
            "/usr/local/lib/python3.7/dist-packages/sklearn/base.py:451: UserWarning: X does not have valid feature names, but RandomForestClassifier was fitted with feature names\n",
            "  \"X does not have valid feature names, but\"\n",
            "  7%|▋         | 7/100 [00:01<00:17,  5.47it/s]/usr/local/lib/python3.7/dist-packages/sklearn/base.py:451: UserWarning: X does not have valid feature names, but KNeighborsClassifier was fitted with feature names\n",
            "  \"X does not have valid feature names, but\"\n",
            "/usr/local/lib/python3.7/dist-packages/sklearn/base.py:451: UserWarning: X does not have valid feature names, but RandomForestClassifier was fitted with feature names\n",
            "  \"X does not have valid feature names, but\"\n"
          ]
        },
        {
          "output_type": "stream",
          "name": "stdout",
          "text": [
            "Prediction for KNN:  N2\n",
            "Prediction for RF:  W\n",
            "Prediction for XG:  W\n",
            "           Actual:  W\n",
            "For: 7\n",
            "Prediction for KNN:  "
          ]
        },
        {
          "output_type": "stream",
          "name": "stderr",
          "text": [
            "\r  8%|▊         | 8/100 [00:01<00:17,  5.16it/s]/usr/local/lib/python3.7/dist-packages/sklearn/base.py:451: UserWarning: X does not have valid feature names, but KNeighborsClassifier was fitted with feature names\n",
            "  \"X does not have valid feature names, but\"\n"
          ]
        },
        {
          "output_type": "stream",
          "name": "stdout",
          "text": [
            "N2\n",
            "Prediction for RF:  N2\n",
            "Prediction for XG:  N2\n",
            "           Actual:  N1\n",
            "For: 8\n"
          ]
        },
        {
          "output_type": "stream",
          "name": "stderr",
          "text": [
            "/usr/local/lib/python3.7/dist-packages/sklearn/base.py:451: UserWarning: X does not have valid feature names, but RandomForestClassifier was fitted with feature names\n",
            "  \"X does not have valid feature names, but\"\n",
            "  9%|▉         | 9/100 [00:01<00:18,  5.03it/s]/usr/local/lib/python3.7/dist-packages/sklearn/base.py:451: UserWarning: X does not have valid feature names, but KNeighborsClassifier was fitted with feature names\n",
            "  \"X does not have valid feature names, but\"\n",
            "/usr/local/lib/python3.7/dist-packages/sklearn/base.py:451: UserWarning: X does not have valid feature names, but RandomForestClassifier was fitted with feature names\n",
            "  \"X does not have valid feature names, but\"\n"
          ]
        },
        {
          "output_type": "stream",
          "name": "stdout",
          "text": [
            "Prediction for KNN:  N3\n",
            "Prediction for RF:  N3\n",
            "Prediction for XG:  N2\n",
            "           Actual:  N3\n",
            "For: 9\n",
            "Prediction for KNN:  N1\n",
            "Prediction for RF:  N1\n",
            "Prediction for XG:  N1\n",
            "           Actual:  N1\n"
          ]
        },
        {
          "output_type": "stream",
          "name": "stderr",
          "text": [
            "\r 10%|█         | 10/100 [00:01<00:17,  5.03it/s]/usr/local/lib/python3.7/dist-packages/sklearn/base.py:451: UserWarning: X does not have valid feature names, but KNeighborsClassifier was fitted with feature names\n",
            "  \"X does not have valid feature names, but\"\n",
            "/usr/local/lib/python3.7/dist-packages/sklearn/base.py:451: UserWarning: X does not have valid feature names, but RandomForestClassifier was fitted with feature names\n",
            "  \"X does not have valid feature names, but\"\n",
            " 11%|█         | 11/100 [00:02<00:16,  5.56it/s]/usr/local/lib/python3.7/dist-packages/sklearn/base.py:451: UserWarning: X does not have valid feature names, but KNeighborsClassifier was fitted with feature names\n",
            "  \"X does not have valid feature names, but\"\n"
          ]
        },
        {
          "output_type": "stream",
          "name": "stdout",
          "text": [
            "For: 10\n",
            "Prediction for KNN:  N3\n",
            "Prediction for RF:  N3\n",
            "Prediction for XG:  N3\n",
            "           Actual:  N3\n",
            "For: 11\n"
          ]
        },
        {
          "output_type": "stream",
          "name": "stderr",
          "text": [
            "/usr/local/lib/python3.7/dist-packages/sklearn/base.py:451: UserWarning: X does not have valid feature names, but RandomForestClassifier was fitted with feature names\n",
            "  \"X does not have valid feature names, but\"\n",
            " 12%|█▏        | 12/100 [00:02<00:16,  5.25it/s]/usr/local/lib/python3.7/dist-packages/sklearn/base.py:451: UserWarning: X does not have valid feature names, but KNeighborsClassifier was fitted with feature names\n",
            "  \"X does not have valid feature names, but\"\n"
          ]
        },
        {
          "output_type": "stream",
          "name": "stdout",
          "text": [
            "Prediction for KNN:  N3\n",
            "Prediction for RF:  N3\n",
            "Prediction for XG:  N3\n",
            "           Actual:  N3\n",
            "For: 12\n"
          ]
        },
        {
          "output_type": "stream",
          "name": "stderr",
          "text": [
            "/usr/local/lib/python3.7/dist-packages/sklearn/base.py:451: UserWarning: X does not have valid feature names, but RandomForestClassifier was fitted with feature names\n",
            "  \"X does not have valid feature names, but\"\n",
            " 13%|█▎        | 13/100 [00:02<00:17,  5.01it/s]/usr/local/lib/python3.7/dist-packages/sklearn/base.py:451: UserWarning: X does not have valid feature names, but KNeighborsClassifier was fitted with feature names\n",
            "  \"X does not have valid feature names, but\"\n"
          ]
        },
        {
          "output_type": "stream",
          "name": "stdout",
          "text": [
            "Prediction for KNN:  N2\n",
            "Prediction for RF:  N2\n",
            "Prediction for XG:  N2\n",
            "           Actual:  N3\n",
            "For: 13\n"
          ]
        },
        {
          "output_type": "stream",
          "name": "stderr",
          "text": [
            "/usr/local/lib/python3.7/dist-packages/sklearn/base.py:451: UserWarning: X does not have valid feature names, but RandomForestClassifier was fitted with feature names\n",
            "  \"X does not have valid feature names, but\"\n",
            " 14%|█▍        | 14/100 [00:02<00:17,  4.83it/s]/usr/local/lib/python3.7/dist-packages/sklearn/base.py:451: UserWarning: X does not have valid feature names, but KNeighborsClassifier was fitted with feature names\n",
            "  \"X does not have valid feature names, but\"\n"
          ]
        },
        {
          "output_type": "stream",
          "name": "stdout",
          "text": [
            "Prediction for KNN:  N1\n",
            "Prediction for RF:  N1\n",
            "Prediction for XG:  W\n",
            "           Actual:  W\n",
            "For: 14\n"
          ]
        },
        {
          "output_type": "stream",
          "name": "stderr",
          "text": [
            "/usr/local/lib/python3.7/dist-packages/sklearn/base.py:451: UserWarning: X does not have valid feature names, but RandomForestClassifier was fitted with feature names\n",
            "  \"X does not have valid feature names, but\"\n",
            " 15%|█▌        | 15/100 [00:02<00:18,  4.59it/s]/usr/local/lib/python3.7/dist-packages/sklearn/base.py:451: UserWarning: X does not have valid feature names, but KNeighborsClassifier was fitted with feature names\n",
            "  \"X does not have valid feature names, but\"\n"
          ]
        },
        {
          "output_type": "stream",
          "name": "stdout",
          "text": [
            "Prediction for KNN:  W\n",
            "Prediction for RF:  W\n",
            "Prediction for XG:  W\n",
            "           Actual:  W\n",
            "For: 15\n"
          ]
        },
        {
          "output_type": "stream",
          "name": "stderr",
          "text": [
            "/usr/local/lib/python3.7/dist-packages/sklearn/base.py:451: UserWarning: X does not have valid feature names, but RandomForestClassifier was fitted with feature names\n",
            "  \"X does not have valid feature names, but\"\n",
            " 16%|█▌        | 16/100 [00:03<00:18,  4.58it/s]/usr/local/lib/python3.7/dist-packages/sklearn/base.py:451: UserWarning: X does not have valid feature names, but KNeighborsClassifier was fitted with feature names\n",
            "  \"X does not have valid feature names, but\"\n",
            "/usr/local/lib/python3.7/dist-packages/sklearn/base.py:451: UserWarning: X does not have valid feature names, but RandomForestClassifier was fitted with feature names\n",
            "  \"X does not have valid feature names, but\"\n",
            " 17%|█▋        | 17/100 [00:03<00:16,  5.03it/s]"
          ]
        },
        {
          "output_type": "stream",
          "name": "stdout",
          "text": [
            "Prediction for KNN:  W\n",
            "Prediction for RF:  W\n",
            "Prediction for XG:  W\n",
            "           Actual:  W\n",
            "For: 16\n",
            "Prediction for KNN:  R\n",
            "Prediction for RF:  N2\n",
            "Prediction for XG:  N2\n",
            "           Actual:  N2\n",
            "For: 17\n"
          ]
        },
        {
          "output_type": "stream",
          "name": "stderr",
          "text": [
            "/usr/local/lib/python3.7/dist-packages/sklearn/base.py:451: UserWarning: X does not have valid feature names, but KNeighborsClassifier was fitted with feature names\n",
            "  \"X does not have valid feature names, but\"\n",
            "/usr/local/lib/python3.7/dist-packages/sklearn/base.py:451: UserWarning: X does not have valid feature names, but RandomForestClassifier was fitted with feature names\n",
            "  \"X does not have valid feature names, but\"\n",
            " 18%|█▊        | 18/100 [00:03<00:15,  5.16it/s]/usr/local/lib/python3.7/dist-packages/sklearn/base.py:451: UserWarning: X does not have valid feature names, but KNeighborsClassifier was fitted with feature names\n",
            "  \"X does not have valid feature names, but\"\n",
            "/usr/local/lib/python3.7/dist-packages/sklearn/base.py:451: UserWarning: X does not have valid feature names, but RandomForestClassifier was fitted with feature names\n",
            "  \"X does not have valid feature names, but\"\n",
            " 19%|█▉        | 19/100 [00:03<00:14,  5.54it/s]"
          ]
        },
        {
          "output_type": "stream",
          "name": "stdout",
          "text": [
            "Prediction for KNN:  N3\n",
            "Prediction for RF:  N3\n",
            "Prediction for XG:  N3\n",
            "           Actual:  N3\n",
            "For: 18\n",
            "Prediction for KNN:  N1\n",
            "Prediction for RF:  W\n",
            "Prediction for XG:  W\n",
            "           Actual:  W\n",
            "For: 19\n"
          ]
        },
        {
          "output_type": "stream",
          "name": "stderr",
          "text": [
            "/usr/local/lib/python3.7/dist-packages/sklearn/base.py:451: UserWarning: X does not have valid feature names, but KNeighborsClassifier was fitted with feature names\n",
            "  \"X does not have valid feature names, but\"\n",
            "/usr/local/lib/python3.7/dist-packages/sklearn/base.py:451: UserWarning: X does not have valid feature names, but RandomForestClassifier was fitted with feature names\n",
            "  \"X does not have valid feature names, but\"\n",
            " 20%|██        | 20/100 [00:03<00:14,  5.39it/s]/usr/local/lib/python3.7/dist-packages/sklearn/base.py:451: UserWarning: X does not have valid feature names, but KNeighborsClassifier was fitted with feature names\n",
            "  \"X does not have valid feature names, but\"\n",
            "/usr/local/lib/python3.7/dist-packages/sklearn/base.py:451: UserWarning: X does not have valid feature names, but RandomForestClassifier was fitted with feature names\n",
            "  \"X does not have valid feature names, but\"\n"
          ]
        },
        {
          "output_type": "stream",
          "name": "stdout",
          "text": [
            "Prediction for KNN:  N1\n",
            "Prediction for RF:  W\n",
            "Prediction for XG:  W\n",
            "           Actual:  W\n",
            "For: 20\n"
          ]
        },
        {
          "output_type": "stream",
          "name": "stderr",
          "text": [
            "\r 21%|██        | 21/100 [00:04<00:15,  5.17it/s]/usr/local/lib/python3.7/dist-packages/sklearn/base.py:451: UserWarning: X does not have valid feature names, but KNeighborsClassifier was fitted with feature names\n",
            "  \"X does not have valid feature names, but\"\n",
            "/usr/local/lib/python3.7/dist-packages/sklearn/base.py:451: UserWarning: X does not have valid feature names, but RandomForestClassifier was fitted with feature names\n",
            "  \"X does not have valid feature names, but\"\n",
            " 22%|██▏       | 22/100 [00:04<00:14,  5.46it/s]"
          ]
        },
        {
          "output_type": "stream",
          "name": "stdout",
          "text": [
            "Prediction for KNN:  N3\n",
            "Prediction for RF:  N3\n",
            "Prediction for XG:  N3\n",
            "           Actual:  N3\n",
            "For: 21\n",
            "Prediction for KNN:  W\n",
            "Prediction for RF:  W\n",
            "Prediction for XG:  W\n",
            "           Actual:  W\n",
            "For: 22\n"
          ]
        },
        {
          "output_type": "stream",
          "name": "stderr",
          "text": [
            "/usr/local/lib/python3.7/dist-packages/sklearn/base.py:451: UserWarning: X does not have valid feature names, but KNeighborsClassifier was fitted with feature names\n",
            "  \"X does not have valid feature names, but\"\n",
            "/usr/local/lib/python3.7/dist-packages/sklearn/base.py:451: UserWarning: X does not have valid feature names, but RandomForestClassifier was fitted with feature names\n",
            "  \"X does not have valid feature names, but\"\n",
            " 23%|██▎       | 23/100 [00:04<00:12,  6.00it/s]/usr/local/lib/python3.7/dist-packages/sklearn/base.py:451: UserWarning: X does not have valid feature names, but KNeighborsClassifier was fitted with feature names\n",
            "  \"X does not have valid feature names, but\"\n",
            "/usr/local/lib/python3.7/dist-packages/sklearn/base.py:451: UserWarning: X does not have valid feature names, but RandomForestClassifier was fitted with feature names\n",
            "  \"X does not have valid feature names, but\"\n",
            " 24%|██▍       | 24/100 [00:04<00:11,  6.49it/s]"
          ]
        },
        {
          "output_type": "stream",
          "name": "stdout",
          "text": [
            "Prediction for KNN:  N2\n",
            "Prediction for RF:  N2\n",
            "Prediction for XG:  N2\n",
            "           Actual:  N3\n",
            "For: 23\n",
            "Prediction for KNN:  N2\n",
            "Prediction for RF:  W\n",
            "Prediction for XG:  W\n",
            "           Actual:  W\n",
            "For: 24\n"
          ]
        },
        {
          "output_type": "stream",
          "name": "stderr",
          "text": [
            "/usr/local/lib/python3.7/dist-packages/sklearn/base.py:451: UserWarning: X does not have valid feature names, but KNeighborsClassifier was fitted with feature names\n",
            "  \"X does not have valid feature names, but\"\n",
            "/usr/local/lib/python3.7/dist-packages/sklearn/base.py:451: UserWarning: X does not have valid feature names, but RandomForestClassifier was fitted with feature names\n",
            "  \"X does not have valid feature names, but\"\n",
            " 25%|██▌       | 25/100 [00:04<00:11,  6.34it/s]/usr/local/lib/python3.7/dist-packages/sklearn/base.py:451: UserWarning: X does not have valid feature names, but KNeighborsClassifier was fitted with feature names\n",
            "  \"X does not have valid feature names, but\"\n",
            "/usr/local/lib/python3.7/dist-packages/sklearn/base.py:451: UserWarning: X does not have valid feature names, but RandomForestClassifier was fitted with feature names\n",
            "  \"X does not have valid feature names, but\"\n",
            " 26%|██▌       | 26/100 [00:04<00:11,  6.73it/s]"
          ]
        },
        {
          "output_type": "stream",
          "name": "stdout",
          "text": [
            "Prediction for KNN:  N2\n",
            "Prediction for RF:  N2\n",
            "Prediction for XG:  N2\n",
            "           Actual:  N2\n",
            "For: 25\n",
            "Prediction for KNN:  N2\n",
            "Prediction for RF:  N2\n",
            "Prediction for XG:  R\n",
            "           Actual:  R\n",
            "For: 26\n"
          ]
        },
        {
          "output_type": "stream",
          "name": "stderr",
          "text": [
            "/usr/local/lib/python3.7/dist-packages/sklearn/base.py:451: UserWarning: X does not have valid feature names, but KNeighborsClassifier was fitted with feature names\n",
            "  \"X does not have valid feature names, but\"\n",
            "/usr/local/lib/python3.7/dist-packages/sklearn/base.py:451: UserWarning: X does not have valid feature names, but RandomForestClassifier was fitted with feature names\n",
            "  \"X does not have valid feature names, but\"\n",
            " 27%|██▋       | 27/100 [00:04<00:10,  6.79it/s]/usr/local/lib/python3.7/dist-packages/sklearn/base.py:451: UserWarning: X does not have valid feature names, but KNeighborsClassifier was fitted with feature names\n",
            "  \"X does not have valid feature names, but\"\n",
            "/usr/local/lib/python3.7/dist-packages/sklearn/base.py:451: UserWarning: X does not have valid feature names, but RandomForestClassifier was fitted with feature names\n",
            "  \"X does not have valid feature names, but\"\n",
            " 28%|██▊       | 28/100 [00:05<00:10,  6.87it/s]"
          ]
        },
        {
          "output_type": "stream",
          "name": "stdout",
          "text": [
            "Prediction for KNN:  N3\n",
            "Prediction for RF:  N3\n",
            "Prediction for XG:  N3\n",
            "           Actual:  N3\n",
            "For: 27\n",
            "Prediction for KNN:  W\n",
            "Prediction for RF:  W\n",
            "Prediction for XG:  W\n",
            "           Actual:  W\n",
            "For: 28\n"
          ]
        },
        {
          "output_type": "stream",
          "name": "stderr",
          "text": [
            "/usr/local/lib/python3.7/dist-packages/sklearn/base.py:451: UserWarning: X does not have valid feature names, but KNeighborsClassifier was fitted with feature names\n",
            "  \"X does not have valid feature names, but\"\n",
            "/usr/local/lib/python3.7/dist-packages/sklearn/base.py:451: UserWarning: X does not have valid feature names, but RandomForestClassifier was fitted with feature names\n",
            "  \"X does not have valid feature names, but\"\n",
            "/usr/local/lib/python3.7/dist-packages/sklearn/base.py:451: UserWarning: X does not have valid feature names, but KNeighborsClassifier was fitted with feature names\n",
            "  \"X does not have valid feature names, but\"\n",
            "/usr/local/lib/python3.7/dist-packages/sklearn/base.py:451: UserWarning: X does not have valid feature names, but RandomForestClassifier was fitted with feature names\n",
            "  \"X does not have valid feature names, but\"\n",
            " 30%|███       | 30/100 [00:05<00:09,  7.63it/s]"
          ]
        },
        {
          "output_type": "stream",
          "name": "stdout",
          "text": [
            "Prediction for KNN:  N3\n",
            "Prediction for RF:  N2\n",
            "Prediction for XG:  N2\n",
            "           Actual:  N3\n",
            "For: 29\n",
            "Prediction for KNN:  N2\n",
            "Prediction for RF:  N2\n",
            "Prediction for XG:  N2\n",
            "           Actual:  N2\n",
            "For: 30\n"
          ]
        },
        {
          "output_type": "stream",
          "name": "stderr",
          "text": [
            "/usr/local/lib/python3.7/dist-packages/sklearn/base.py:451: UserWarning: X does not have valid feature names, but KNeighborsClassifier was fitted with feature names\n",
            "  \"X does not have valid feature names, but\"\n",
            "/usr/local/lib/python3.7/dist-packages/sklearn/base.py:451: UserWarning: X does not have valid feature names, but RandomForestClassifier was fitted with feature names\n",
            "  \"X does not have valid feature names, but\"\n",
            " 31%|███       | 31/100 [00:05<00:10,  6.81it/s]/usr/local/lib/python3.7/dist-packages/sklearn/base.py:451: UserWarning: X does not have valid feature names, but KNeighborsClassifier was fitted with feature names\n",
            "  \"X does not have valid feature names, but\"\n",
            "/usr/local/lib/python3.7/dist-packages/sklearn/base.py:451: UserWarning: X does not have valid feature names, but RandomForestClassifier was fitted with feature names\n",
            "  \"X does not have valid feature names, but\"\n",
            " 32%|███▏      | 32/100 [00:05<00:09,  6.83it/s]"
          ]
        },
        {
          "output_type": "stream",
          "name": "stdout",
          "text": [
            "Prediction for KNN:  N2\n",
            "Prediction for RF:  N2\n",
            "Prediction for XG:  N2\n",
            "           Actual:  N2\n",
            "For: 31\n",
            "Prediction for KNN:  N2\n",
            "Prediction for RF:  N2\n",
            "Prediction for XG:  N2\n",
            "           Actual:  N2\n",
            "For: 32\n"
          ]
        },
        {
          "output_type": "stream",
          "name": "stderr",
          "text": [
            "/usr/local/lib/python3.7/dist-packages/sklearn/base.py:451: UserWarning: X does not have valid feature names, but KNeighborsClassifier was fitted with feature names\n",
            "  \"X does not have valid feature names, but\"\n",
            "/usr/local/lib/python3.7/dist-packages/sklearn/base.py:451: UserWarning: X does not have valid feature names, but RandomForestClassifier was fitted with feature names\n",
            "  \"X does not have valid feature names, but\"\n",
            " 33%|███▎      | 33/100 [00:05<00:09,  7.22it/s]/usr/local/lib/python3.7/dist-packages/sklearn/base.py:451: UserWarning: X does not have valid feature names, but KNeighborsClassifier was fitted with feature names\n",
            "  \"X does not have valid feature names, but\"\n",
            "/usr/local/lib/python3.7/dist-packages/sklearn/base.py:451: UserWarning: X does not have valid feature names, but RandomForestClassifier was fitted with feature names\n",
            "  \"X does not have valid feature names, but\"\n",
            " 34%|███▍      | 34/100 [00:05<00:08,  7.42it/s]/usr/local/lib/python3.7/dist-packages/sklearn/base.py:451: UserWarning: X does not have valid feature names, but KNeighborsClassifier was fitted with feature names\n",
            "  \"X does not have valid feature names, but\"\n"
          ]
        },
        {
          "output_type": "stream",
          "name": "stdout",
          "text": [
            "Prediction for KNN:  R\n",
            "Prediction for RF:  R\n",
            "Prediction for XG:  R\n",
            "           Actual:  W\n",
            "For: 33\n",
            "Prediction for KNN:  R\n",
            "Prediction for RF:  R\n",
            "Prediction for XG:  N2\n",
            "           Actual:  R\n",
            "For: 34\n"
          ]
        },
        {
          "output_type": "stream",
          "name": "stderr",
          "text": [
            "/usr/local/lib/python3.7/dist-packages/sklearn/base.py:451: UserWarning: X does not have valid feature names, but RandomForestClassifier was fitted with feature names\n",
            "  \"X does not have valid feature names, but\"\n",
            " 35%|███▌      | 35/100 [00:05<00:09,  7.06it/s]/usr/local/lib/python3.7/dist-packages/sklearn/base.py:451: UserWarning: X does not have valid feature names, but KNeighborsClassifier was fitted with feature names\n",
            "  \"X does not have valid feature names, but\"\n",
            "/usr/local/lib/python3.7/dist-packages/sklearn/base.py:451: UserWarning: X does not have valid feature names, but RandomForestClassifier was fitted with feature names\n",
            "  \"X does not have valid feature names, but\"\n",
            " 36%|███▌      | 36/100 [00:06<00:08,  7.27it/s]"
          ]
        },
        {
          "output_type": "stream",
          "name": "stdout",
          "text": [
            "Prediction for KNN:  W\n",
            "Prediction for RF:  W\n",
            "Prediction for XG:  W\n",
            "           Actual:  W\n",
            "For: 35\n",
            "Prediction for KNN:  W\n",
            "Prediction for RF:  W\n",
            "Prediction for XG:  W\n",
            "           Actual:  W\n",
            "For: 36\n"
          ]
        },
        {
          "output_type": "stream",
          "name": "stderr",
          "text": [
            "/usr/local/lib/python3.7/dist-packages/sklearn/base.py:451: UserWarning: X does not have valid feature names, but KNeighborsClassifier was fitted with feature names\n",
            "  \"X does not have valid feature names, but\"\n",
            "/usr/local/lib/python3.7/dist-packages/sklearn/base.py:451: UserWarning: X does not have valid feature names, but RandomForestClassifier was fitted with feature names\n",
            "  \"X does not have valid feature names, but\"\n",
            " 37%|███▋      | 37/100 [00:06<00:08,  7.73it/s]/usr/local/lib/python3.7/dist-packages/sklearn/base.py:451: UserWarning: X does not have valid feature names, but KNeighborsClassifier was fitted with feature names\n",
            "  \"X does not have valid feature names, but\"\n",
            "/usr/local/lib/python3.7/dist-packages/sklearn/base.py:451: UserWarning: X does not have valid feature names, but RandomForestClassifier was fitted with feature names\n",
            "  \"X does not have valid feature names, but\"\n"
          ]
        },
        {
          "output_type": "stream",
          "name": "stdout",
          "text": [
            "Prediction for KNN:  N3\n",
            "Prediction for RF:  N3\n",
            "Prediction for XG:  N3\n",
            "           Actual:  N3\n",
            "For: 37\n",
            "Prediction for KNN:  "
          ]
        },
        {
          "output_type": "stream",
          "name": "stderr",
          "text": [
            "\r 38%|███▊      | 38/100 [00:06<00:09,  6.62it/s]/usr/local/lib/python3.7/dist-packages/sklearn/base.py:451: UserWarning: X does not have valid feature names, but KNeighborsClassifier was fitted with feature names\n",
            "  \"X does not have valid feature names, but\"\n",
            "/usr/local/lib/python3.7/dist-packages/sklearn/base.py:451: UserWarning: X does not have valid feature names, but RandomForestClassifier was fitted with feature names\n",
            "  \"X does not have valid feature names, but\"\n",
            " 39%|███▉      | 39/100 [00:06<00:09,  6.19it/s]"
          ]
        },
        {
          "output_type": "stream",
          "name": "stdout",
          "text": [
            "N1\n",
            "Prediction for RF:  N1\n",
            "Prediction for XG:  N2\n",
            "           Actual:  N1\n",
            "For: 38\n",
            "Prediction for KNN:  W\n",
            "Prediction for RF:  W\n",
            "Prediction for XG:  W\n",
            "           Actual:  R\n",
            "For: 39\n"
          ]
        },
        {
          "output_type": "stream",
          "name": "stderr",
          "text": [
            "/usr/local/lib/python3.7/dist-packages/sklearn/base.py:451: UserWarning: X does not have valid feature names, but KNeighborsClassifier was fitted with feature names\n",
            "  \"X does not have valid feature names, but\"\n",
            "/usr/local/lib/python3.7/dist-packages/sklearn/base.py:451: UserWarning: X does not have valid feature names, but RandomForestClassifier was fitted with feature names\n",
            "  \"X does not have valid feature names, but\"\n",
            " 40%|████      | 40/100 [00:06<00:09,  6.42it/s]/usr/local/lib/python3.7/dist-packages/sklearn/base.py:451: UserWarning: X does not have valid feature names, but KNeighborsClassifier was fitted with feature names\n",
            "  \"X does not have valid feature names, but\"\n",
            "/usr/local/lib/python3.7/dist-packages/sklearn/base.py:451: UserWarning: X does not have valid feature names, but RandomForestClassifier was fitted with feature names\n",
            "  \"X does not have valid feature names, but\"\n",
            " 41%|████      | 41/100 [00:06<00:09,  6.09it/s]"
          ]
        },
        {
          "output_type": "stream",
          "name": "stdout",
          "text": [
            "Prediction for KNN:  N3\n",
            "Prediction for RF:  N3\n",
            "Prediction for XG:  N3\n",
            "           Actual:  N3\n",
            "For: 40\n",
            "Prediction for KNN:  N2\n",
            "Prediction for RF:  N1\n",
            "Prediction for XG:  N1\n",
            "           Actual:  N1\n",
            "For: 41\n"
          ]
        },
        {
          "output_type": "stream",
          "name": "stderr",
          "text": [
            "/usr/local/lib/python3.7/dist-packages/sklearn/base.py:451: UserWarning: X does not have valid feature names, but KNeighborsClassifier was fitted with feature names\n",
            "  \"X does not have valid feature names, but\"\n",
            "/usr/local/lib/python3.7/dist-packages/sklearn/base.py:451: UserWarning: X does not have valid feature names, but RandomForestClassifier was fitted with feature names\n",
            "  \"X does not have valid feature names, but\"\n",
            " 42%|████▏     | 42/100 [00:07<00:09,  6.32it/s]/usr/local/lib/python3.7/dist-packages/sklearn/base.py:451: UserWarning: X does not have valid feature names, but KNeighborsClassifier was fitted with feature names\n",
            "  \"X does not have valid feature names, but\"\n",
            "/usr/local/lib/python3.7/dist-packages/sklearn/base.py:451: UserWarning: X does not have valid feature names, but RandomForestClassifier was fitted with feature names\n",
            "  \"X does not have valid feature names, but\"\n",
            " 43%|████▎     | 43/100 [00:07<00:08,  6.56it/s]"
          ]
        },
        {
          "output_type": "stream",
          "name": "stdout",
          "text": [
            "Prediction for KNN:  R\n",
            "Prediction for RF:  R\n",
            "Prediction for XG:  R\n",
            "           Actual:  R\n",
            "For: 42\n",
            "Prediction for KNN:  N2\n",
            "Prediction for RF:  N2\n",
            "Prediction for XG:  N2\n",
            "           Actual:  N2\n",
            "For: 43\n"
          ]
        },
        {
          "output_type": "stream",
          "name": "stderr",
          "text": [
            "/usr/local/lib/python3.7/dist-packages/sklearn/base.py:451: UserWarning: X does not have valid feature names, but KNeighborsClassifier was fitted with feature names\n",
            "  \"X does not have valid feature names, but\"\n",
            "/usr/local/lib/python3.7/dist-packages/sklearn/base.py:451: UserWarning: X does not have valid feature names, but RandomForestClassifier was fitted with feature names\n",
            "  \"X does not have valid feature names, but\"\n",
            " 44%|████▍     | 44/100 [00:07<00:08,  6.90it/s]/usr/local/lib/python3.7/dist-packages/sklearn/base.py:451: UserWarning: X does not have valid feature names, but KNeighborsClassifier was fitted with feature names\n",
            "  \"X does not have valid feature names, but\"\n",
            "/usr/local/lib/python3.7/dist-packages/sklearn/base.py:451: UserWarning: X does not have valid feature names, but RandomForestClassifier was fitted with feature names\n",
            "  \"X does not have valid feature names, but\"\n",
            " 45%|████▌     | 45/100 [00:07<00:07,  6.99it/s]"
          ]
        },
        {
          "output_type": "stream",
          "name": "stdout",
          "text": [
            "Prediction for KNN:  N2\n",
            "Prediction for RF:  N3\n",
            "Prediction for XG:  N3\n",
            "           Actual:  N2\n",
            "For: 44\n",
            "Prediction for KNN:  N2\n",
            "Prediction for RF:  N2\n",
            "Prediction for XG:  N2\n",
            "           Actual:  N1\n",
            "For: 45\n"
          ]
        },
        {
          "output_type": "stream",
          "name": "stderr",
          "text": [
            "/usr/local/lib/python3.7/dist-packages/sklearn/base.py:451: UserWarning: X does not have valid feature names, but KNeighborsClassifier was fitted with feature names\n",
            "  \"X does not have valid feature names, but\"\n",
            "/usr/local/lib/python3.7/dist-packages/sklearn/base.py:451: UserWarning: X does not have valid feature names, but RandomForestClassifier was fitted with feature names\n",
            "  \"X does not have valid feature names, but\"\n",
            " 46%|████▌     | 46/100 [00:07<00:07,  6.82it/s]/usr/local/lib/python3.7/dist-packages/sklearn/base.py:451: UserWarning: X does not have valid feature names, but KNeighborsClassifier was fitted with feature names\n",
            "  \"X does not have valid feature names, but\"\n",
            "/usr/local/lib/python3.7/dist-packages/sklearn/base.py:451: UserWarning: X does not have valid feature names, but RandomForestClassifier was fitted with feature names\n",
            "  \"X does not have valid feature names, but\"\n",
            "/usr/local/lib/python3.7/dist-packages/sklearn/base.py:451: UserWarning: X does not have valid feature names, but KNeighborsClassifier was fitted with feature names\n",
            "  \"X does not have valid feature names, but\"\n",
            "/usr/local/lib/python3.7/dist-packages/sklearn/base.py:451: UserWarning: X does not have valid feature names, but RandomForestClassifier was fitted with feature names\n",
            "  \"X does not have valid feature names, but\"\n",
            " 48%|████▊     | 48/100 [00:07<00:05,  8.79it/s]"
          ]
        },
        {
          "output_type": "stream",
          "name": "stdout",
          "text": [
            "Prediction for KNN:  W\n",
            "Prediction for RF:  W\n",
            "Prediction for XG:  W\n",
            "           Actual:  W\n",
            "For: 46\n",
            "Prediction for KNN:  N3\n",
            "Prediction for RF:  N3\n",
            "Prediction for XG:  N3\n",
            "           Actual:  N3\n",
            "For: 47\n",
            "Prediction for KNN:  R\n",
            "Prediction for RF:  N2\n",
            "Prediction for XG:  N2\n",
            "           Actual:  R\n",
            "For: 48\n"
          ]
        },
        {
          "output_type": "stream",
          "name": "stderr",
          "text": [
            "/usr/local/lib/python3.7/dist-packages/sklearn/base.py:451: UserWarning: X does not have valid feature names, but KNeighborsClassifier was fitted with feature names\n",
            "  \"X does not have valid feature names, but\"\n",
            "/usr/local/lib/python3.7/dist-packages/sklearn/base.py:451: UserWarning: X does not have valid feature names, but RandomForestClassifier was fitted with feature names\n",
            "  \"X does not have valid feature names, but\"\n",
            " 49%|████▉     | 49/100 [00:07<00:06,  8.39it/s]/usr/local/lib/python3.7/dist-packages/sklearn/base.py:451: UserWarning: X does not have valid feature names, but KNeighborsClassifier was fitted with feature names\n",
            "  \"X does not have valid feature names, but\"\n",
            "/usr/local/lib/python3.7/dist-packages/sklearn/base.py:451: UserWarning: X does not have valid feature names, but RandomForestClassifier was fitted with feature names\n",
            "  \"X does not have valid feature names, but\"\n",
            " 50%|█████     | 50/100 [00:08<00:06,  7.62it/s]"
          ]
        },
        {
          "output_type": "stream",
          "name": "stdout",
          "text": [
            "Prediction for KNN:  R\n",
            "Prediction for RF:  W\n",
            "Prediction for XG:  N1\n",
            "           Actual:  R\n",
            "For: 49\n",
            "Prediction for KNN:  N2\n",
            "Prediction for RF:  R\n",
            "Prediction for XG:  R\n",
            "           Actual:  R\n",
            "For: 50\n"
          ]
        },
        {
          "output_type": "stream",
          "name": "stderr",
          "text": [
            "/usr/local/lib/python3.7/dist-packages/sklearn/base.py:451: UserWarning: X does not have valid feature names, but KNeighborsClassifier was fitted with feature names\n",
            "  \"X does not have valid feature names, but\"\n",
            "/usr/local/lib/python3.7/dist-packages/sklearn/base.py:451: UserWarning: X does not have valid feature names, but RandomForestClassifier was fitted with feature names\n",
            "  \"X does not have valid feature names, but\"\n",
            " 51%|█████     | 51/100 [00:08<00:06,  7.66it/s]/usr/local/lib/python3.7/dist-packages/sklearn/base.py:451: UserWarning: X does not have valid feature names, but KNeighborsClassifier was fitted with feature names\n",
            "  \"X does not have valid feature names, but\"\n",
            "/usr/local/lib/python3.7/dist-packages/sklearn/base.py:451: UserWarning: X does not have valid feature names, but RandomForestClassifier was fitted with feature names\n",
            "  \"X does not have valid feature names, but\"\n",
            " 52%|█████▏    | 52/100 [00:08<00:06,  7.15it/s]"
          ]
        },
        {
          "output_type": "stream",
          "name": "stdout",
          "text": [
            "Prediction for KNN:  N3\n",
            "Prediction for RF:  N3\n",
            "Prediction for XG:  N3\n",
            "           Actual:  N3\n",
            "For: 51\n",
            "Prediction for KNN:  N2\n",
            "Prediction for RF:  N2\n",
            "Prediction for XG:  N2\n",
            "           Actual:  N2\n",
            "For: 52\n"
          ]
        },
        {
          "output_type": "stream",
          "name": "stderr",
          "text": [
            "/usr/local/lib/python3.7/dist-packages/sklearn/base.py:451: UserWarning: X does not have valid feature names, but KNeighborsClassifier was fitted with feature names\n",
            "  \"X does not have valid feature names, but\"\n",
            "/usr/local/lib/python3.7/dist-packages/sklearn/base.py:451: UserWarning: X does not have valid feature names, but RandomForestClassifier was fitted with feature names\n",
            "  \"X does not have valid feature names, but\"\n",
            " 53%|█████▎    | 53/100 [00:08<00:07,  6.47it/s]/usr/local/lib/python3.7/dist-packages/sklearn/base.py:451: UserWarning: X does not have valid feature names, but KNeighborsClassifier was fitted with feature names\n",
            "  \"X does not have valid feature names, but\"\n",
            "/usr/local/lib/python3.7/dist-packages/sklearn/base.py:451: UserWarning: X does not have valid feature names, but RandomForestClassifier was fitted with feature names\n",
            "  \"X does not have valid feature names, but\"\n",
            " 54%|█████▍    | 54/100 [00:08<00:07,  6.20it/s]"
          ]
        },
        {
          "output_type": "stream",
          "name": "stdout",
          "text": [
            "Prediction for KNN:  N2\n",
            "Prediction for RF:  N2\n",
            "Prediction for XG:  N2\n",
            "           Actual:  N2\n",
            "For: 53\n",
            "Prediction for KNN:  N3\n",
            "Prediction for RF:  N3\n",
            "Prediction for XG:  N3\n",
            "           Actual:  N3\n",
            "For: 54\n"
          ]
        },
        {
          "output_type": "stream",
          "name": "stderr",
          "text": [
            "/usr/local/lib/python3.7/dist-packages/sklearn/base.py:451: UserWarning: X does not have valid feature names, but KNeighborsClassifier was fitted with feature names\n",
            "  \"X does not have valid feature names, but\"\n",
            "/usr/local/lib/python3.7/dist-packages/sklearn/base.py:451: UserWarning: X does not have valid feature names, but RandomForestClassifier was fitted with feature names\n",
            "  \"X does not have valid feature names, but\"\n",
            " 55%|█████▌    | 55/100 [00:08<00:07,  5.74it/s]/usr/local/lib/python3.7/dist-packages/sklearn/base.py:451: UserWarning: X does not have valid feature names, but KNeighborsClassifier was fitted with feature names\n",
            "  \"X does not have valid feature names, but\"\n",
            "/usr/local/lib/python3.7/dist-packages/sklearn/base.py:451: UserWarning: X does not have valid feature names, but RandomForestClassifier was fitted with feature names\n",
            "  \"X does not have valid feature names, but\"\n",
            " 56%|█████▌    | 56/100 [00:09<00:07,  6.21it/s]"
          ]
        },
        {
          "output_type": "stream",
          "name": "stdout",
          "text": [
            "Prediction for KNN:  W\n",
            "Prediction for RF:  W\n",
            "Prediction for XG:  W\n",
            "           Actual:  W\n",
            "For: 55\n",
            "Prediction for KNN:  R\n",
            "Prediction for RF:  R\n",
            "Prediction for XG:  R\n",
            "           Actual:  R\n",
            "For: 56\n"
          ]
        },
        {
          "output_type": "stream",
          "name": "stderr",
          "text": [
            "/usr/local/lib/python3.7/dist-packages/sklearn/base.py:451: UserWarning: X does not have valid feature names, but KNeighborsClassifier was fitted with feature names\n",
            "  \"X does not have valid feature names, but\"\n",
            "/usr/local/lib/python3.7/dist-packages/sklearn/base.py:451: UserWarning: X does not have valid feature names, but RandomForestClassifier was fitted with feature names\n",
            "  \"X does not have valid feature names, but\"\n",
            " 57%|█████▋    | 57/100 [00:09<00:06,  6.68it/s]/usr/local/lib/python3.7/dist-packages/sklearn/base.py:451: UserWarning: X does not have valid feature names, but KNeighborsClassifier was fitted with feature names\n",
            "  \"X does not have valid feature names, but\"\n",
            "/usr/local/lib/python3.7/dist-packages/sklearn/base.py:451: UserWarning: X does not have valid feature names, but RandomForestClassifier was fitted with feature names\n",
            "  \"X does not have valid feature names, but\"\n",
            " 58%|█████▊    | 58/100 [00:09<00:06,  6.88it/s]"
          ]
        },
        {
          "output_type": "stream",
          "name": "stdout",
          "text": [
            "Prediction for KNN:  N2\n",
            "Prediction for RF:  N2\n",
            "Prediction for XG:  N3\n",
            "           Actual:  N3\n",
            "For: 57\n",
            "Prediction for KNN:  N1\n",
            "Prediction for RF:  W\n",
            "Prediction for XG:  N1\n",
            "           Actual:  W\n",
            "For: 58\n"
          ]
        },
        {
          "output_type": "stream",
          "name": "stderr",
          "text": [
            "/usr/local/lib/python3.7/dist-packages/sklearn/base.py:451: UserWarning: X does not have valid feature names, but KNeighborsClassifier was fitted with feature names\n",
            "  \"X does not have valid feature names, but\"\n",
            "/usr/local/lib/python3.7/dist-packages/sklearn/base.py:451: UserWarning: X does not have valid feature names, but RandomForestClassifier was fitted with feature names\n",
            "  \"X does not have valid feature names, but\"\n",
            " 59%|█████▉    | 59/100 [00:09<00:06,  6.26it/s]/usr/local/lib/python3.7/dist-packages/sklearn/base.py:451: UserWarning: X does not have valid feature names, but KNeighborsClassifier was fitted with feature names\n",
            "  \"X does not have valid feature names, but\"\n",
            "/usr/local/lib/python3.7/dist-packages/sklearn/base.py:451: UserWarning: X does not have valid feature names, but RandomForestClassifier was fitted with feature names\n",
            "  \"X does not have valid feature names, but\"\n",
            " 60%|██████    | 60/100 [00:09<00:06,  6.30it/s]"
          ]
        },
        {
          "output_type": "stream",
          "name": "stdout",
          "text": [
            "Prediction for KNN:  W\n",
            "Prediction for RF:  W\n",
            "Prediction for XG:  W\n",
            "           Actual:  N1\n",
            "For: 59\n",
            "Prediction for KNN:  N1\n",
            "Prediction for RF:  N1\n",
            "Prediction for XG:  N1\n",
            "           Actual:  N1\n",
            "For: 60\n"
          ]
        },
        {
          "output_type": "stream",
          "name": "stderr",
          "text": [
            "/usr/local/lib/python3.7/dist-packages/sklearn/base.py:451: UserWarning: X does not have valid feature names, but KNeighborsClassifier was fitted with feature names\n",
            "  \"X does not have valid feature names, but\"\n",
            "/usr/local/lib/python3.7/dist-packages/sklearn/base.py:451: UserWarning: X does not have valid feature names, but RandomForestClassifier was fitted with feature names\n",
            "  \"X does not have valid feature names, but\"\n",
            " 61%|██████    | 61/100 [00:09<00:06,  6.34it/s]/usr/local/lib/python3.7/dist-packages/sklearn/base.py:451: UserWarning: X does not have valid feature names, but KNeighborsClassifier was fitted with feature names\n",
            "  \"X does not have valid feature names, but\"\n",
            "/usr/local/lib/python3.7/dist-packages/sklearn/base.py:451: UserWarning: X does not have valid feature names, but RandomForestClassifier was fitted with feature names\n",
            "  \"X does not have valid feature names, but\"\n",
            " 62%|██████▏   | 62/100 [00:10<00:05,  6.43it/s]"
          ]
        },
        {
          "output_type": "stream",
          "name": "stdout",
          "text": [
            "Prediction for KNN:  W\n",
            "Prediction for RF:  W\n",
            "Prediction for XG:  W\n",
            "           Actual:  W\n",
            "For: 61\n",
            "Prediction for KNN:  W\n",
            "Prediction for RF:  W\n",
            "Prediction for XG:  W\n",
            "           Actual:  W\n",
            "For: 62\n"
          ]
        },
        {
          "output_type": "stream",
          "name": "stderr",
          "text": [
            "/usr/local/lib/python3.7/dist-packages/sklearn/base.py:451: UserWarning: X does not have valid feature names, but KNeighborsClassifier was fitted with feature names\n",
            "  \"X does not have valid feature names, but\"\n",
            "/usr/local/lib/python3.7/dist-packages/sklearn/base.py:451: UserWarning: X does not have valid feature names, but RandomForestClassifier was fitted with feature names\n",
            "  \"X does not have valid feature names, but\"\n",
            " 63%|██████▎   | 63/100 [00:10<00:06,  5.79it/s]/usr/local/lib/python3.7/dist-packages/sklearn/base.py:451: UserWarning: X does not have valid feature names, but KNeighborsClassifier was fitted with feature names\n",
            "  \"X does not have valid feature names, but\"\n"
          ]
        },
        {
          "output_type": "stream",
          "name": "stdout",
          "text": [
            "Prediction for KNN:  N3\n",
            "Prediction for RF:  N2\n",
            "Prediction for XG:  N2\n",
            "           Actual:  N2\n",
            "For: 63\n",
            "Prediction for KNN:  N2\n",
            "Prediction for RF:  N2\n",
            "Prediction for XG: "
          ]
        },
        {
          "output_type": "stream",
          "name": "stderr",
          "text": [
            "/usr/local/lib/python3.7/dist-packages/sklearn/base.py:451: UserWarning: X does not have valid feature names, but RandomForestClassifier was fitted with feature names\n",
            "  \"X does not have valid feature names, but\"\n",
            "\r 64%|██████▍   | 64/100 [00:10<00:06,  5.62it/s]/usr/local/lib/python3.7/dist-packages/sklearn/base.py:451: UserWarning: X does not have valid feature names, but KNeighborsClassifier was fitted with feature names\n",
            "  \"X does not have valid feature names, but\"\n",
            "/usr/local/lib/python3.7/dist-packages/sklearn/base.py:451: UserWarning: X does not have valid feature names, but RandomForestClassifier was fitted with feature names\n",
            "  \"X does not have valid feature names, but\"\n",
            " 65%|██████▌   | 65/100 [00:10<00:05,  6.07it/s]"
          ]
        },
        {
          "output_type": "stream",
          "name": "stdout",
          "text": [
            " N2\n",
            "           Actual:  N2\n",
            "For: 64\n",
            "Prediction for KNN:  N3\n",
            "Prediction for RF:  N3\n",
            "Prediction for XG:  N3\n",
            "           Actual:  N3\n",
            "For: 65\n"
          ]
        },
        {
          "output_type": "stream",
          "name": "stderr",
          "text": [
            "/usr/local/lib/python3.7/dist-packages/sklearn/base.py:451: UserWarning: X does not have valid feature names, but KNeighborsClassifier was fitted with feature names\n",
            "  \"X does not have valid feature names, but\"\n",
            "/usr/local/lib/python3.7/dist-packages/sklearn/base.py:451: UserWarning: X does not have valid feature names, but RandomForestClassifier was fitted with feature names\n",
            "  \"X does not have valid feature names, but\"\n",
            " 66%|██████▌   | 66/100 [00:10<00:05,  6.41it/s]/usr/local/lib/python3.7/dist-packages/sklearn/base.py:451: UserWarning: X does not have valid feature names, but KNeighborsClassifier was fitted with feature names\n",
            "  \"X does not have valid feature names, but\"\n",
            "/usr/local/lib/python3.7/dist-packages/sklearn/base.py:451: UserWarning: X does not have valid feature names, but RandomForestClassifier was fitted with feature names\n",
            "  \"X does not have valid feature names, but\"\n"
          ]
        },
        {
          "output_type": "stream",
          "name": "stdout",
          "text": [
            "Prediction for KNN:  W\n",
            "Prediction for RF:  W\n",
            "Prediction for XG:  W\n",
            "           Actual:  W\n",
            "For: 66\n",
            "Prediction for KNN:  "
          ]
        },
        {
          "output_type": "stream",
          "name": "stderr",
          "text": [
            " 67%|██████▋   | 67/100 [00:10<00:05,  5.74it/s]/usr/local/lib/python3.7/dist-packages/sklearn/base.py:451: UserWarning: X does not have valid feature names, but KNeighborsClassifier was fitted with feature names\n",
            "  \"X does not have valid feature names, but\"\n",
            "/usr/local/lib/python3.7/dist-packages/sklearn/base.py:451: UserWarning: X does not have valid feature names, but RandomForestClassifier was fitted with feature names\n",
            "  \"X does not have valid feature names, but\"\n",
            " 68%|██████▊   | 68/100 [00:11<00:05,  6.24it/s]"
          ]
        },
        {
          "output_type": "stream",
          "name": "stdout",
          "text": [
            "N3\n",
            "Prediction for RF:  N3\n",
            "Prediction for XG:  N3\n",
            "           Actual:  N3\n",
            "For: 67\n",
            "Prediction for KNN:  N3\n",
            "Prediction for RF:  N2\n",
            "Prediction for XG:  N2\n",
            "           Actual:  N2\n",
            "For: 68\n"
          ]
        },
        {
          "output_type": "stream",
          "name": "stderr",
          "text": [
            "/usr/local/lib/python3.7/dist-packages/sklearn/base.py:451: UserWarning: X does not have valid feature names, but KNeighborsClassifier was fitted with feature names\n",
            "  \"X does not have valid feature names, but\"\n",
            "/usr/local/lib/python3.7/dist-packages/sklearn/base.py:451: UserWarning: X does not have valid feature names, but RandomForestClassifier was fitted with feature names\n",
            "  \"X does not have valid feature names, but\"\n",
            " 69%|██████▉   | 69/100 [00:11<00:05,  5.94it/s]/usr/local/lib/python3.7/dist-packages/sklearn/base.py:451: UserWarning: X does not have valid feature names, but KNeighborsClassifier was fitted with feature names\n",
            "  \"X does not have valid feature names, but\"\n",
            "/usr/local/lib/python3.7/dist-packages/sklearn/base.py:451: UserWarning: X does not have valid feature names, but RandomForestClassifier was fitted with feature names\n",
            "  \"X does not have valid feature names, but\"\n"
          ]
        },
        {
          "output_type": "stream",
          "name": "stdout",
          "text": [
            "Prediction for KNN:  R\n",
            "Prediction for RF:  N1\n",
            "Prediction for XG:  N1\n",
            "           Actual:  N1\n",
            "For: 69\n"
          ]
        },
        {
          "output_type": "stream",
          "name": "stderr",
          "text": [
            "\r 70%|███████   | 70/100 [00:11<00:05,  5.61it/s]/usr/local/lib/python3.7/dist-packages/sklearn/base.py:451: UserWarning: X does not have valid feature names, but KNeighborsClassifier was fitted with feature names\n",
            "  \"X does not have valid feature names, but\"\n"
          ]
        },
        {
          "output_type": "stream",
          "name": "stdout",
          "text": [
            "Prediction for KNN:  N2\n",
            "Prediction for RF:  N2\n",
            "Prediction for XG:  N2\n",
            "           Actual:  N2\n",
            "For: 70\n"
          ]
        },
        {
          "output_type": "stream",
          "name": "stderr",
          "text": [
            "/usr/local/lib/python3.7/dist-packages/sklearn/base.py:451: UserWarning: X does not have valid feature names, but RandomForestClassifier was fitted with feature names\n",
            "  \"X does not have valid feature names, but\"\n",
            " 71%|███████   | 71/100 [00:11<00:05,  5.01it/s]/usr/local/lib/python3.7/dist-packages/sklearn/base.py:451: UserWarning: X does not have valid feature names, but KNeighborsClassifier was fitted with feature names\n",
            "  \"X does not have valid feature names, but\"\n"
          ]
        },
        {
          "output_type": "stream",
          "name": "stdout",
          "text": [
            "Prediction for KNN:  R\n",
            "Prediction for RF:  R\n",
            "Prediction for XG:  R\n",
            "           Actual:  R\n",
            "For: 71\n"
          ]
        },
        {
          "output_type": "stream",
          "name": "stderr",
          "text": [
            "/usr/local/lib/python3.7/dist-packages/sklearn/base.py:451: UserWarning: X does not have valid feature names, but RandomForestClassifier was fitted with feature names\n",
            "  \"X does not have valid feature names, but\"\n",
            " 72%|███████▏  | 72/100 [00:11<00:05,  4.82it/s]/usr/local/lib/python3.7/dist-packages/sklearn/base.py:451: UserWarning: X does not have valid feature names, but KNeighborsClassifier was fitted with feature names\n",
            "  \"X does not have valid feature names, but\"\n",
            "/usr/local/lib/python3.7/dist-packages/sklearn/base.py:451: UserWarning: X does not have valid feature names, but RandomForestClassifier was fitted with feature names\n",
            "  \"X does not have valid feature names, but\"\n",
            " 73%|███████▎  | 73/100 [00:12<00:05,  5.17it/s]"
          ]
        },
        {
          "output_type": "stream",
          "name": "stdout",
          "text": [
            "Prediction for KNN:  N2\n",
            "Prediction for RF:  N2\n",
            "Prediction for XG:  N2\n",
            "           Actual:  N2\n",
            "For: 72\n",
            "Prediction for KNN:  R\n",
            "Prediction for RF:  N2\n",
            "Prediction for XG:  R\n",
            "           Actual:  R\n",
            "For: 73\n"
          ]
        },
        {
          "output_type": "stream",
          "name": "stderr",
          "text": [
            "/usr/local/lib/python3.7/dist-packages/sklearn/base.py:451: UserWarning: X does not have valid feature names, but KNeighborsClassifier was fitted with feature names\n",
            "  \"X does not have valid feature names, but\"\n",
            "/usr/local/lib/python3.7/dist-packages/sklearn/base.py:451: UserWarning: X does not have valid feature names, but RandomForestClassifier was fitted with feature names\n",
            "  \"X does not have valid feature names, but\"\n",
            "/usr/local/lib/python3.7/dist-packages/sklearn/base.py:451: UserWarning: X does not have valid feature names, but KNeighborsClassifier was fitted with feature names\n",
            "  \"X does not have valid feature names, but\"\n",
            "/usr/local/lib/python3.7/dist-packages/sklearn/base.py:451: UserWarning: X does not have valid feature names, but RandomForestClassifier was fitted with feature names\n",
            "  \"X does not have valid feature names, but\"\n",
            " 75%|███████▌  | 75/100 [00:12<00:03,  6.60it/s]"
          ]
        },
        {
          "output_type": "stream",
          "name": "stdout",
          "text": [
            "Prediction for KNN:  N2\n",
            "Prediction for RF:  N2\n",
            "Prediction for XG:  N2\n",
            "           Actual:  N2\n",
            "For: 74\n",
            "Prediction for KNN:  N2\n",
            "Prediction for RF:  N2\n",
            "Prediction for XG:  N2\n",
            "           Actual:  N2\n",
            "For: 75\n",
            "Prediction for KNN: "
          ]
        },
        {
          "output_type": "stream",
          "name": "stderr",
          "text": [
            "/usr/local/lib/python3.7/dist-packages/sklearn/base.py:451: UserWarning: X does not have valid feature names, but KNeighborsClassifier was fitted with feature names\n",
            "  \"X does not have valid feature names, but\"\n",
            "/usr/local/lib/python3.7/dist-packages/sklearn/base.py:451: UserWarning: X does not have valid feature names, but RandomForestClassifier was fitted with feature names\n",
            "  \"X does not have valid feature names, but\"\n",
            "/usr/local/lib/python3.7/dist-packages/sklearn/base.py:451: UserWarning: X does not have valid feature names, but KNeighborsClassifier was fitted with feature names\n",
            "  \"X does not have valid feature names, but\"\n",
            "/usr/local/lib/python3.7/dist-packages/sklearn/base.py:451: UserWarning: X does not have valid feature names, but RandomForestClassifier was fitted with feature names\n",
            "  \"X does not have valid feature names, but\"\n",
            " 77%|███████▋  | 77/100 [00:12<00:02,  7.81it/s]/usr/local/lib/python3.7/dist-packages/sklearn/base.py:451: UserWarning: X does not have valid feature names, but KNeighborsClassifier was fitted with feature names\n",
            "  \"X does not have valid feature names, but\"\n"
          ]
        },
        {
          "output_type": "stream",
          "name": "stdout",
          "text": [
            " R\n",
            "Prediction for RF:  R\n",
            "Prediction for XG:  R\n",
            "           Actual:  R\n",
            "For: 76\n",
            "Prediction for KNN:  N2\n",
            "Prediction for RF:  N2\n",
            "Prediction for XG:  N2\n",
            "           Actual:  N2\n",
            "For: 77\n"
          ]
        },
        {
          "output_type": "stream",
          "name": "stderr",
          "text": [
            "/usr/local/lib/python3.7/dist-packages/sklearn/base.py:451: UserWarning: X does not have valid feature names, but RandomForestClassifier was fitted with feature names\n",
            "  \"X does not have valid feature names, but\"\n",
            " 78%|███████▊  | 78/100 [00:12<00:03,  6.89it/s]/usr/local/lib/python3.7/dist-packages/sklearn/base.py:451: UserWarning: X does not have valid feature names, but KNeighborsClassifier was fitted with feature names\n",
            "  \"X does not have valid feature names, but\"\n",
            "/usr/local/lib/python3.7/dist-packages/sklearn/base.py:451: UserWarning: X does not have valid feature names, but RandomForestClassifier was fitted with feature names\n",
            "  \"X does not have valid feature names, but\"\n",
            " 79%|███████▉  | 79/100 [00:12<00:03,  6.78it/s]"
          ]
        },
        {
          "output_type": "stream",
          "name": "stdout",
          "text": [
            "Prediction for KNN:  N2\n",
            "Prediction for RF:  N2\n",
            "Prediction for XG:  N2\n",
            "           Actual:  R\n",
            "For: 78\n",
            "Prediction for KNN:  R\n",
            "Prediction for RF:  N2\n",
            "Prediction for XG:  N2\n",
            "           Actual:  N2\n",
            "For: 79\n"
          ]
        },
        {
          "output_type": "stream",
          "name": "stderr",
          "text": [
            "/usr/local/lib/python3.7/dist-packages/sklearn/base.py:451: UserWarning: X does not have valid feature names, but KNeighborsClassifier was fitted with feature names\n",
            "  \"X does not have valid feature names, but\"\n",
            "/usr/local/lib/python3.7/dist-packages/sklearn/base.py:451: UserWarning: X does not have valid feature names, but RandomForestClassifier was fitted with feature names\n",
            "  \"X does not have valid feature names, but\"\n",
            " 80%|████████  | 80/100 [00:12<00:02,  6.99it/s]/usr/local/lib/python3.7/dist-packages/sklearn/base.py:451: UserWarning: X does not have valid feature names, but KNeighborsClassifier was fitted with feature names\n",
            "  \"X does not have valid feature names, but\"\n",
            "/usr/local/lib/python3.7/dist-packages/sklearn/base.py:451: UserWarning: X does not have valid feature names, but RandomForestClassifier was fitted with feature names\n",
            "  \"X does not have valid feature names, but\"\n",
            "/usr/local/lib/python3.7/dist-packages/sklearn/base.py:451: UserWarning: X does not have valid feature names, but KNeighborsClassifier was fitted with feature names\n",
            "  \"X does not have valid feature names, but\"\n",
            "/usr/local/lib/python3.7/dist-packages/sklearn/base.py:451: UserWarning: X does not have valid feature names, but RandomForestClassifier was fitted with feature names\n",
            "  \"X does not have valid feature names, but\"\n"
          ]
        },
        {
          "output_type": "stream",
          "name": "stdout",
          "text": [
            "Prediction for KNN:  N1\n",
            "Prediction for RF:  W\n",
            "Prediction for XG:  W\n",
            "           Actual:  N1\n",
            "For: 80\n",
            "Prediction for KNN:  N3\n",
            "Prediction for RF:  N3\n",
            "Prediction for XG:  N3\n",
            "           Actual:  N3\n",
            "For: 81\n"
          ]
        },
        {
          "output_type": "stream",
          "name": "stderr",
          "text": [
            "\r 82%|████████▏ | 82/100 [00:13<00:02,  8.01it/s]/usr/local/lib/python3.7/dist-packages/sklearn/base.py:451: UserWarning: X does not have valid feature names, but KNeighborsClassifier was fitted with feature names\n",
            "  \"X does not have valid feature names, but\"\n",
            "/usr/local/lib/python3.7/dist-packages/sklearn/base.py:451: UserWarning: X does not have valid feature names, but RandomForestClassifier was fitted with feature names\n",
            "  \"X does not have valid feature names, but\"\n",
            " 83%|████████▎ | 83/100 [00:13<00:02,  7.90it/s]/usr/local/lib/python3.7/dist-packages/sklearn/base.py:451: UserWarning: X does not have valid feature names, but KNeighborsClassifier was fitted with feature names\n",
            "  \"X does not have valid feature names, but\"\n",
            "/usr/local/lib/python3.7/dist-packages/sklearn/base.py:451: UserWarning: X does not have valid feature names, but RandomForestClassifier was fitted with feature names\n",
            "  \"X does not have valid feature names, but\"\n"
          ]
        },
        {
          "output_type": "stream",
          "name": "stdout",
          "text": [
            "Prediction for KNN:  N3\n",
            "Prediction for RF:  N3\n",
            "Prediction for XG:  N3\n",
            "           Actual:  N3\n",
            "For: 82\n",
            "Prediction for KNN:  W\n",
            "Prediction for RF:  W\n",
            "Prediction for XG:  W\n",
            "           Actual:  W\n",
            "For: 83\n"
          ]
        },
        {
          "output_type": "stream",
          "name": "stderr",
          "text": [
            "\r 84%|████████▍ | 84/100 [00:13<00:02,  7.77it/s]/usr/local/lib/python3.7/dist-packages/sklearn/base.py:451: UserWarning: X does not have valid feature names, but KNeighborsClassifier was fitted with feature names\n",
            "  \"X does not have valid feature names, but\"\n",
            "/usr/local/lib/python3.7/dist-packages/sklearn/base.py:451: UserWarning: X does not have valid feature names, but RandomForestClassifier was fitted with feature names\n",
            "  \"X does not have valid feature names, but\"\n",
            " 85%|████████▌ | 85/100 [00:13<00:02,  7.22it/s]"
          ]
        },
        {
          "output_type": "stream",
          "name": "stdout",
          "text": [
            "Prediction for KNN:  N2\n",
            "Prediction for RF:  N2\n",
            "Prediction for XG:  N2\n",
            "           Actual:  N3\n",
            "For: 84\n",
            "Prediction for KNN:  N2\n",
            "Prediction for RF:  W\n",
            "Prediction for XG:  W\n",
            "           Actual:  W\n",
            "For: 85\n"
          ]
        },
        {
          "output_type": "stream",
          "name": "stderr",
          "text": [
            "/usr/local/lib/python3.7/dist-packages/sklearn/base.py:451: UserWarning: X does not have valid feature names, but KNeighborsClassifier was fitted with feature names\n",
            "  \"X does not have valid feature names, but\"\n",
            "/usr/local/lib/python3.7/dist-packages/sklearn/base.py:451: UserWarning: X does not have valid feature names, but RandomForestClassifier was fitted with feature names\n",
            "  \"X does not have valid feature names, but\"\n",
            " 86%|████████▌ | 86/100 [00:13<00:01,  7.60it/s]/usr/local/lib/python3.7/dist-packages/sklearn/base.py:451: UserWarning: X does not have valid feature names, but KNeighborsClassifier was fitted with feature names\n",
            "  \"X does not have valid feature names, but\"\n",
            "/usr/local/lib/python3.7/dist-packages/sklearn/base.py:451: UserWarning: X does not have valid feature names, but RandomForestClassifier was fitted with feature names\n",
            "  \"X does not have valid feature names, but\"\n",
            " 87%|████████▋ | 87/100 [00:13<00:01,  7.90it/s]/usr/local/lib/python3.7/dist-packages/sklearn/base.py:451: UserWarning: X does not have valid feature names, but KNeighborsClassifier was fitted with feature names\n",
            "  \"X does not have valid feature names, but\"\n"
          ]
        },
        {
          "output_type": "stream",
          "name": "stdout",
          "text": [
            "Prediction for KNN:  N3\n",
            "Prediction for RF:  N3\n",
            "Prediction for XG:  N3\n",
            "           Actual:  N3\n",
            "For: 86\n",
            "Prediction for KNN:  N2\n",
            "Prediction for RF:  N2\n",
            "Prediction for XG:  N2\n",
            "           Actual:  N2\n",
            "For: 87\n"
          ]
        },
        {
          "output_type": "stream",
          "name": "stderr",
          "text": [
            "/usr/local/lib/python3.7/dist-packages/sklearn/base.py:451: UserWarning: X does not have valid feature names, but RandomForestClassifier was fitted with feature names\n",
            "  \"X does not have valid feature names, but\"\n",
            " 88%|████████▊ | 88/100 [00:13<00:01,  8.37it/s]/usr/local/lib/python3.7/dist-packages/sklearn/base.py:451: UserWarning: X does not have valid feature names, but KNeighborsClassifier was fitted with feature names\n",
            "  \"X does not have valid feature names, but\"\n",
            "/usr/local/lib/python3.7/dist-packages/sklearn/base.py:451: UserWarning: X does not have valid feature names, but RandomForestClassifier was fitted with feature names\n",
            "  \"X does not have valid feature names, but\"\n",
            " 89%|████████▉ | 89/100 [00:14<00:01,  7.46it/s]"
          ]
        },
        {
          "output_type": "stream",
          "name": "stdout",
          "text": [
            "Prediction for KNN:  N2\n",
            "Prediction for RF:  N2\n",
            "Prediction for XG:  N2\n",
            "           Actual:  N2\n",
            "For: 88\n",
            "Prediction for KNN:  N1\n",
            "Prediction for RF:  R\n",
            "Prediction for XG:  N1\n",
            "           Actual:  N1\n",
            "For: 89\n"
          ]
        },
        {
          "output_type": "stream",
          "name": "stderr",
          "text": [
            "/usr/local/lib/python3.7/dist-packages/sklearn/base.py:451: UserWarning: X does not have valid feature names, but KNeighborsClassifier was fitted with feature names\n",
            "  \"X does not have valid feature names, but\"\n",
            "/usr/local/lib/python3.7/dist-packages/sklearn/base.py:451: UserWarning: X does not have valid feature names, but RandomForestClassifier was fitted with feature names\n",
            "  \"X does not have valid feature names, but\"\n",
            " 90%|█████████ | 90/100 [00:14<00:01,  7.43it/s]/usr/local/lib/python3.7/dist-packages/sklearn/base.py:451: UserWarning: X does not have valid feature names, but KNeighborsClassifier was fitted with feature names\n",
            "  \"X does not have valid feature names, but\"\n",
            "/usr/local/lib/python3.7/dist-packages/sklearn/base.py:451: UserWarning: X does not have valid feature names, but RandomForestClassifier was fitted with feature names\n",
            "  \"X does not have valid feature names, but\"\n",
            " 91%|█████████ | 91/100 [00:14<00:01,  7.59it/s]"
          ]
        },
        {
          "output_type": "stream",
          "name": "stdout",
          "text": [
            "Prediction for KNN:  N3\n",
            "Prediction for RF:  N2\n",
            "Prediction for XG:  N2\n",
            "           Actual:  N2\n",
            "For: 90\n",
            "Prediction for KNN:  N2\n",
            "Prediction for RF:  N2\n",
            "Prediction for XG:  N2\n",
            "           Actual:  N2\n",
            "For: 91\n"
          ]
        },
        {
          "output_type": "stream",
          "name": "stderr",
          "text": [
            "/usr/local/lib/python3.7/dist-packages/sklearn/base.py:451: UserWarning: X does not have valid feature names, but KNeighborsClassifier was fitted with feature names\n",
            "  \"X does not have valid feature names, but\"\n",
            "/usr/local/lib/python3.7/dist-packages/sklearn/base.py:451: UserWarning: X does not have valid feature names, but RandomForestClassifier was fitted with feature names\n",
            "  \"X does not have valid feature names, but\"\n",
            " 92%|█████████▏| 92/100 [00:14<00:01,  7.69it/s]/usr/local/lib/python3.7/dist-packages/sklearn/base.py:451: UserWarning: X does not have valid feature names, but KNeighborsClassifier was fitted with feature names\n",
            "  \"X does not have valid feature names, but\"\n",
            "/usr/local/lib/python3.7/dist-packages/sklearn/base.py:451: UserWarning: X does not have valid feature names, but RandomForestClassifier was fitted with feature names\n",
            "  \"X does not have valid feature names, but\"\n",
            " 93%|█████████▎| 93/100 [00:14<00:00,  7.24it/s]"
          ]
        },
        {
          "output_type": "stream",
          "name": "stdout",
          "text": [
            "Prediction for KNN:  N2\n",
            "Prediction for RF:  N2\n",
            "Prediction for XG:  N2\n",
            "           Actual:  N2\n",
            "For: 92\n",
            "Prediction for KNN:  N1\n",
            "Prediction for RF:  N2\n",
            "Prediction for XG:  N2\n",
            "           Actual:  N2\n",
            "For: 93\n"
          ]
        },
        {
          "output_type": "stream",
          "name": "stderr",
          "text": [
            "/usr/local/lib/python3.7/dist-packages/sklearn/base.py:451: UserWarning: X does not have valid feature names, but KNeighborsClassifier was fitted with feature names\n",
            "  \"X does not have valid feature names, but\"\n",
            "/usr/local/lib/python3.7/dist-packages/sklearn/base.py:451: UserWarning: X does not have valid feature names, but RandomForestClassifier was fitted with feature names\n",
            "  \"X does not have valid feature names, but\"\n",
            " 94%|█████████▍| 94/100 [00:14<00:00,  7.57it/s]/usr/local/lib/python3.7/dist-packages/sklearn/base.py:451: UserWarning: X does not have valid feature names, but KNeighborsClassifier was fitted with feature names\n",
            "  \"X does not have valid feature names, but\"\n",
            "/usr/local/lib/python3.7/dist-packages/sklearn/base.py:451: UserWarning: X does not have valid feature names, but RandomForestClassifier was fitted with feature names\n",
            "  \"X does not have valid feature names, but\"\n",
            "/usr/local/lib/python3.7/dist-packages/sklearn/base.py:451: UserWarning: X does not have valid feature names, but KNeighborsClassifier was fitted with feature names\n",
            "  \"X does not have valid feature names, but\"\n",
            "/usr/local/lib/python3.7/dist-packages/sklearn/base.py:451: UserWarning: X does not have valid feature names, but RandomForestClassifier was fitted with feature names\n",
            "  \"X does not have valid feature names, but\"\n",
            " 96%|█████████▌| 96/100 [00:14<00:00,  9.63it/s]/usr/local/lib/python3.7/dist-packages/sklearn/base.py:451: UserWarning: X does not have valid feature names, but KNeighborsClassifier was fitted with feature names\n",
            "  \"X does not have valid feature names, but\"\n"
          ]
        },
        {
          "output_type": "stream",
          "name": "stdout",
          "text": [
            "Prediction for KNN:  W\n",
            "Prediction for RF:  W\n",
            "Prediction for XG:  W\n",
            "           Actual:  W\n",
            "For: 94\n",
            "Prediction for KNN:  N3\n",
            "Prediction for RF:  N3\n",
            "Prediction for XG:  N3\n",
            "           Actual:  N3\n",
            "For: 95\n",
            "Prediction for KNN:  N2\n",
            "Prediction for RF:  W\n",
            "Prediction for XG:  W\n",
            "           Actual:  N2\n",
            "For: 96\n"
          ]
        },
        {
          "output_type": "stream",
          "name": "stderr",
          "text": [
            "/usr/local/lib/python3.7/dist-packages/sklearn/base.py:451: UserWarning: X does not have valid feature names, but RandomForestClassifier was fitted with feature names\n",
            "  \"X does not have valid feature names, but\"\n",
            " 97%|█████████▋| 97/100 [00:14<00:00,  9.26it/s]/usr/local/lib/python3.7/dist-packages/sklearn/base.py:451: UserWarning: X does not have valid feature names, but KNeighborsClassifier was fitted with feature names\n",
            "  \"X does not have valid feature names, but\"\n",
            "/usr/local/lib/python3.7/dist-packages/sklearn/base.py:451: UserWarning: X does not have valid feature names, but RandomForestClassifier was fitted with feature names\n",
            "  \"X does not have valid feature names, but\"\n",
            " 98%|█████████▊| 98/100 [00:15<00:00,  8.20it/s]"
          ]
        },
        {
          "output_type": "stream",
          "name": "stdout",
          "text": [
            "Prediction for KNN:  R\n",
            "Prediction for RF:  N2\n",
            "Prediction for XG:  N2\n",
            "           Actual:  N1\n",
            "For: 97\n",
            "Prediction for KNN:  R\n",
            "Prediction for RF:  R\n",
            "Prediction for XG:  R\n",
            "           Actual:  R\n",
            "For: 98\n"
          ]
        },
        {
          "output_type": "stream",
          "name": "stderr",
          "text": [
            "/usr/local/lib/python3.7/dist-packages/sklearn/base.py:451: UserWarning: X does not have valid feature names, but KNeighborsClassifier was fitted with feature names\n",
            "  \"X does not have valid feature names, but\"\n",
            "/usr/local/lib/python3.7/dist-packages/sklearn/base.py:451: UserWarning: X does not have valid feature names, but RandomForestClassifier was fitted with feature names\n",
            "  \"X does not have valid feature names, but\"\n",
            " 99%|█████████▉| 99/100 [00:15<00:00,  7.48it/s]/usr/local/lib/python3.7/dist-packages/sklearn/base.py:451: UserWarning: X does not have valid feature names, but KNeighborsClassifier was fitted with feature names\n",
            "  \"X does not have valid feature names, but\"\n",
            "/usr/local/lib/python3.7/dist-packages/sklearn/base.py:451: UserWarning: X does not have valid feature names, but RandomForestClassifier was fitted with feature names\n",
            "  \"X does not have valid feature names, but\"\n",
            "100%|██████████| 100/100 [00:15<00:00,  6.47it/s]"
          ]
        },
        {
          "output_type": "stream",
          "name": "stdout",
          "text": [
            "Prediction for KNN:  N2\n",
            "Prediction for RF:  N2\n",
            "Prediction for XG:  N2\n",
            "           Actual:  N2\n",
            "For: 99\n",
            "Prediction for KNN:  N2\n",
            "Prediction for RF:  N2\n",
            "Prediction for XG:  N1\n",
            "           Actual:  N1\n"
          ]
        },
        {
          "output_type": "stream",
          "name": "stderr",
          "text": [
            "\n"
          ]
        }
      ]
    },
    {
      "cell_type": "code",
      "source": [
        "for i in dict:\n",
        "  print(i,\":\",dict[i])\n",
        "  print(\"Length: \",len(dict[i]))\n",
        "  print(\"Percent: \",len(dict[i])/100)"
      ],
      "metadata": {
        "colab": {
          "base_uri": "https://localhost:8080/"
        },
        "id": "uYi5iFOhwQFH",
        "outputId": "7c41cf28-f523-4112-e311-522228872cd2"
      },
      "execution_count": 12,
      "outputs": [
        {
          "output_type": "stream",
          "name": "stdout",
          "text": [
            "all : [1, 2, 3, 9, 10, 11, 14, 15, 17, 20, 21, 24, 26, 27, 29, 30, 31, 34, 35, 36, 39, 41, 42, 45, 46, 50, 51, 52, 53, 54, 55, 59, 60, 61, 63, 64, 65, 66, 69, 70, 71, 73, 74, 75, 76, 80, 81, 82, 85, 86, 87, 90, 91, 93, 94, 97, 98]\n",
            "Length:  57\n",
            "Percent:  0.57\n",
            "none : [4, 7, 12, 22, 32, 38, 44, 58, 77, 83, 96]\n",
            "Length:  11\n",
            "Percent:  0.11\n",
            "onlyRF : [57]\n",
            "Length:  1\n",
            "Percent:  0.01\n",
            "onlyXG : [13, 25, 56, 99]\n",
            "Length:  4\n",
            "Percent:  0.04\n",
            "onlyKNN : [0, 5, 28, 43, 47, 48, 79, 95]\n",
            "Length:  8\n",
            "Percent:  0.08\n",
            "RFKNN : [8, 33, 37]\n",
            "Length:  3\n",
            "Percent:  0.03\n",
            "RFXG : [6, 16, 18, 19, 23, 40, 49, 62, 67, 68, 78, 84, 89, 92]\n",
            "Length:  14\n",
            "Percent:  0.14\n",
            "KNNXG : [72, 88]\n",
            "Length:  2\n",
            "Percent:  0.02\n"
          ]
        }
      ]
    },
    {
      "cell_type": "code",
      "source": [
        "dict"
      ],
      "metadata": {
        "id": "0Np-TxkBwRXd"
      },
      "execution_count": null,
      "outputs": []
    },
    {
      "cell_type": "code",
      "source": [
        ""
      ],
      "metadata": {
        "id": "YGzKe3u1wVCv"
      },
      "execution_count": null,
      "outputs": []
    }
  ]
}