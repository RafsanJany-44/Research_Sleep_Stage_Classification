{
  "nbformat": 4,
  "nbformat_minor": 0,
  "metadata": {
    "colab": {
      "name": "XG_Boost_MEGA_ALL.ipynb",
      "provenance": [],
      "include_colab_link": true
    },
    "kernelspec": {
      "name": "python3",
      "display_name": "Python 3"
    },
    "language_info": {
      "name": "python"
    }
  },
  "cells": [
    {
      "cell_type": "markdown",
      "metadata": {
        "id": "view-in-github",
        "colab_type": "text"
      },
      "source": [
        "<a href=\"https://colab.research.google.com/github/RafsanJany-44/Research_Sleep_Stage_Classification/blob/main/XG_Boost.ipynb\" target=\"_parent\"><img src=\"https://colab.research.google.com/assets/colab-badge.svg\" alt=\"Open In Colab\"/></a>"
      ]
    },
    {
      "cell_type": "code",
      "source": [
        "!pip install xgboost"
      ],
      "metadata": {
        "colab": {
          "base_uri": "https://localhost:8080/"
        },
        "id": "cQ40cu5Ejkor",
        "outputId": "a35c28c0-3f32-4e15-a920-966835ff9e8d"
      },
      "execution_count": 18,
      "outputs": [
        {
          "output_type": "stream",
          "name": "stdout",
          "text": [
            "Looking in indexes: https://pypi.org/simple, https://us-python.pkg.dev/colab-wheels/public/simple/\n",
            "Requirement already satisfied: xgboost in /usr/local/lib/python3.7/dist-packages (0.90)\n",
            "Requirement already satisfied: numpy in /usr/local/lib/python3.7/dist-packages (from xgboost) (1.21.6)\n",
            "Requirement already satisfied: scipy in /usr/local/lib/python3.7/dist-packages (from xgboost) (1.4.1)\n"
          ]
        }
      ]
    },
    {
      "cell_type": "code",
      "execution_count": 19,
      "metadata": {
        "id": "TIcHYYJdDTMe"
      },
      "outputs": [],
      "source": [
        "import pandas as pd\n",
        "import xgboost as xgb\n",
        "from sklearn.datasets import load_boston\n",
        "from sklearn.model_selection import train_test_split\n",
        "from sklearn.metrics import mean_squared_error"
      ]
    },
    {
      "cell_type": "code",
      "source": [
        "dataset = pd.read_csv('https://raw.githubusercontent.com/RafsanJany-44/Thesis_Project/main/All_DATA/without_sn_and_Epoch/EEG_HMC.csv')\n",
        "\n",
        "print(dataset.head())\n",
        "#from sklearn.preprocessing import LabelEncoder\n",
        "#encoder=LabelEncoder()\n",
        "#dataset[\"Sleep Stage\"]=encoder.fit_transform(dataset[\"Sleep Stage\"])\n",
        "\n"
      ],
      "metadata": {
        "id": "Z-AkQONnHOCi",
        "colab": {
          "base_uri": "https://localhost:8080/"
        },
        "outputId": "7e52c920-4e78-433c-ff67-e588a287e85a"
      },
      "execution_count": 20,
      "outputs": [
        {
          "output_type": "stream",
          "name": "stdout",
          "text": [
            "  Sleep Stage  MeanP_Alpha_F4  MedianF_Alpha_F4  MeanF_Alpha_F4  \\\n",
            "0           W         0.00051           8.74146        18.48195   \n",
            "1           W         0.00040          10.24000        17.48293   \n",
            "2           W         0.00036           9.74049        17.98244   \n",
            "3           W         0.00035          10.11512        17.60780   \n",
            "4           W         0.00033           9.74049        17.60780   \n",
            "\n",
            "   Spectral Edge_Alpha_F4  PeakF_Alpha_F4  MeanP_Beta_F4  MedianF_Beta_F4  \\\n",
            "0                17.48293         8.24195        0.00071         19.73073   \n",
            "1                16.85854        10.61463        0.00051         17.23317   \n",
            "2                17.48293         8.74146        0.00047         17.60780   \n",
            "3                17.10829         9.61561        0.00047         17.35805   \n",
            "4                17.23317         8.11707        0.00043         17.23317   \n",
            "\n",
            "   MeanF_Beta_F4  Spectral Edge_Beta_F4  ...  MeanP_Delta_O2  \\\n",
            "0       29.84585               33.84195  ...         0.00724   \n",
            "1       26.34927               29.34634  ...         0.00723   \n",
            "2       25.47512               28.22244  ...         0.00230   \n",
            "3       26.47415               28.72195  ...         0.00091   \n",
            "4       25.84976               28.09756  ...         0.00175   \n",
            "\n",
            "   MedianF_Delta_O2  MeanF_Delta_O2  Spectral Edge_Delta_O2  PeakF_Delta_O2  \\\n",
            "0           0.74927         3.87122                 1.99805         0.87415   \n",
            "1           0.49951         3.74634                 1.24878         0.49951   \n",
            "2           0.62439         5.24488                 2.12293         0.62439   \n",
            "3           0.87415         6.61854                 3.12195         0.62439   \n",
            "4           0.49951         5.74439                 2.24780         0.49951   \n",
            "\n",
            "   MeanP_Gamma_O2  MedianF_Gamma_O2  MeanF_Gamma_O2  Spectral Edge_Gamma_O2  \\\n",
            "0        0.000210          35.21561        42.20878                49.95122   \n",
            "1        0.000095          34.34146        43.33268                49.95122   \n",
            "2        0.000074          34.59122        45.95512                49.95122   \n",
            "3        0.000082          32.46829        43.95707                49.95122   \n",
            "4        0.000077          33.59220        44.83122                49.95122   \n",
            "\n",
            "   PeakF_Gamma_O2  \n",
            "0        49.95122  \n",
            "1        49.95122  \n",
            "2        49.95122  \n",
            "3        49.95122  \n",
            "4        49.95122  \n",
            "\n",
            "[5 rows x 76 columns]\n"
          ]
        }
      ]
    },
    {
      "cell_type": "code",
      "source": [
        "X= dataset.iloc[:, 1:]\n",
        "y = dataset.iloc[:, 0]"
      ],
      "metadata": {
        "id": "ZiUZEkqqHPzz"
      },
      "execution_count": 21,
      "outputs": []
    },
    {
      "cell_type": "code",
      "source": [
        "X_train, X_test, y_train, y_test = train_test_split(X, y, test_size = 0.2, random_state = 0)"
      ],
      "metadata": {
        "id": "fioo5WAgHRzV"
      },
      "execution_count": 22,
      "outputs": []
    },
    {
      "cell_type": "code",
      "source": [
        "xgb_classifier = xgb.XGBClassifier()"
      ],
      "metadata": {
        "id": "Ks79riunj349"
      },
      "execution_count": 23,
      "outputs": []
    },
    {
      "cell_type": "code",
      "source": [
        "xgb_classifier.fit(X_train,y_train)"
      ],
      "metadata": {
        "colab": {
          "base_uri": "https://localhost:8080/"
        },
        "id": "D1PDdLxDj7eE",
        "outputId": "b2225fe4-4b37-4b91-8059-c1327ff339e8"
      },
      "execution_count": 24,
      "outputs": [
        {
          "output_type": "execute_result",
          "data": {
            "text/plain": [
              "XGBClassifier(objective='multi:softprob')"
            ]
          },
          "metadata": {},
          "execution_count": 24
        }
      ]
    },
    {
      "cell_type": "code",
      "source": [
        "predictions = xgb_classifier.predict(X_test)"
      ],
      "metadata": {
        "id": "c0jefRFEj_Jn"
      },
      "execution_count": 25,
      "outputs": []
    },
    {
      "cell_type": "code",
      "source": [
        "predictions"
      ],
      "metadata": {
        "colab": {
          "base_uri": "https://localhost:8080/"
        },
        "id": "nr-lbG4qkFdk",
        "outputId": "acf229dc-2467-4f20-bc2e-de96a37ce0ed"
      },
      "execution_count": 26,
      "outputs": [
        {
          "output_type": "execute_result",
          "data": {
            "text/plain": [
              "array(['N2', 'R', 'N2', ..., 'N3', 'W', 'N2'], dtype=object)"
            ]
          },
          "metadata": {},
          "execution_count": 26
        }
      ]
    },
    {
      "cell_type": "code",
      "source": [
        "from sklearn.metrics import classification_report, confusion_matrix, accuracy_score\n",
        "print(confusion_matrix(y_test, predictions))\n",
        "print(classification_report(y_test,predictions))\n",
        "print(\"Accurecy: \",accuracy_score(y_test, predictions))"
      ],
      "metadata": {
        "id": "v1pz7ukFHmd9",
        "colab": {
          "base_uri": "https://localhost:8080/"
        },
        "outputId": "b0079269-ab79-45db-8db3-8e63f15aff78"
      },
      "execution_count": 27,
      "outputs": [
        {
          "output_type": "stream",
          "name": "stdout",
          "text": [
            "[[ 487  699   29  460  693]\n",
            " [ 152 6302  745  419  273]\n",
            " [   5 1061 3150    3   35]\n",
            " [ 148  774   59 2286  107]\n",
            " [ 187  225   23   73 3296]]\n",
            "              precision    recall  f1-score   support\n",
            "\n",
            "          N1       0.50      0.21      0.29      2368\n",
            "          N2       0.70      0.80      0.74      7891\n",
            "          N3       0.79      0.74      0.76      4254\n",
            "           R       0.71      0.68      0.69      3374\n",
            "           W       0.75      0.87      0.80      3804\n",
            "\n",
            "    accuracy                           0.72     21691\n",
            "   macro avg       0.69      0.66      0.66     21691\n",
            "weighted avg       0.70      0.72      0.70     21691\n",
            "\n",
            "Accurecy:  0.7155502282052464\n"
          ]
        }
      ]
    },
    {
      "cell_type": "code",
      "source": [
        "cm = confusion_matrix(y_test, predictions)\n",
        "import seaborn as sn\n",
        "import matplotlib.pyplot as plt\n",
        "plt.figure(figsize = (15,10))\n",
        "sn.heatmap(cm, annot=True, fmt='d') # here, cm is called to be visualized\n",
        "plt.xlabel('Predicted',fontsize=14.0, fontweight='bold')\n",
        "plt.ylabel('Truth',fontsize=12.0, fontweight='bold')"
      ],
      "metadata": {
        "id": "JDq24RBzHWej",
        "outputId": "a627b225-68d5-49a7-baa4-e500b57c44d0",
        "colab": {
          "base_uri": "https://localhost:8080/",
          "height": 627
        }
      },
      "execution_count": 28,
      "outputs": [
        {
          "output_type": "execute_result",
          "data": {
            "text/plain": [
              "Text(114.0, 0.5, 'Truth')"
            ]
          },
          "metadata": {},
          "execution_count": 28
        },
        {
          "output_type": "display_data",
          "data": {
            "text/plain": [
              "<Figure size 1080x720 with 2 Axes>"
            ],
            "image/png": "[encoded data removed]"
          },
          "metadata": {
            "needs_background": "light"
          }
        }
      ]
    }
  ]
}