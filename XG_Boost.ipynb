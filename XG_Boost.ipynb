{
  "nbformat": 4,
  "nbformat_minor": 0,
  "metadata": {
    "colab": {
      "name": "XG_Boost_MEGA_ALL.ipynb",
      "provenance": [],
      "include_colab_link": true
    },
    "kernelspec": {
      "name": "python3",
      "display_name": "Python 3"
    },
    "language_info": {
      "name": "python"
    }
  },
  "cells": [
    {
      "cell_type": "markdown",
      "metadata": {
        "id": "view-in-github",
        "colab_type": "text"
      },
      "source": [
        "<a href=\"https://colab.research.google.com/github/RafsanJany-44/Research_Sleep_Stage_Classification/blob/main/XG_Boost.ipynb\" target=\"_parent\"><img src=\"https://colab.research.google.com/assets/colab-badge.svg\" alt=\"Open In Colab\"/></a>"
      ]
    },
    {
      "cell_type": "code",
      "source": [
        "!pip install xgboost"
      ],
      "metadata": {
        "colab": {
          "base_uri": "https://localhost:8080/"
        },
        "id": "cQ40cu5Ejkor",
        "outputId": "7102bc98-2ad7-461d-a106-43020275bbeb"
      },
      "execution_count": 15,
      "outputs": [
        {
          "output_type": "stream",
          "name": "stdout",
          "text": [
            "Looking in indexes: https://pypi.org/simple, https://us-python.pkg.dev/colab-wheels/public/simple/\n",
            "Requirement already satisfied: xgboost in /usr/local/lib/python3.7/dist-packages (0.90)\n",
            "Requirement already satisfied: scipy in /usr/local/lib/python3.7/dist-packages (from xgboost) (1.4.1)\n",
            "Requirement already satisfied: numpy in /usr/local/lib/python3.7/dist-packages (from xgboost) (1.21.6)\n"
          ]
        }
      ]
    },
    {
      "cell_type": "code",
      "execution_count": 16,
      "metadata": {
        "id": "TIcHYYJdDTMe"
      },
      "outputs": [],
      "source": [
        "import pandas as pd\n",
        "import xgboost as xgb\n",
        "from sklearn.model_selection import train_test_split\n",
        "from sklearn.metrics import mean_squared_error\n",
        "import numpy as np"
      ]
    },
    {
      "cell_type": "code",
      "source": [
        "dataset = pd.read_csv('https://raw.githubusercontent.com/RafsanJany-44/Thesis_Project/main/All_DATA/without_sn_and_Epoch/EEG_HMC.csv')\n",
        "\n",
        "print(dataset.head())\n",
        "#from sklearn.preprocessing import LabelEncoder\n",
        "#encoder=LabelEncoder()\n",
        "#dataset[\"Sleep Stage\"]=encoder.fit_transform(dataset[\"Sleep Stage\"])\n",
        "\n"
      ],
      "metadata": {
        "id": "Z-AkQONnHOCi",
        "colab": {
          "base_uri": "https://localhost:8080/"
        },
        "outputId": "04dd6787-76f7-4daa-afbb-64b38fbaa788"
      },
      "execution_count": 17,
      "outputs": [
        {
          "output_type": "stream",
          "name": "stdout",
          "text": [
            "  Sleep Stage  MeanP_Alpha_F4  MedianF_Alpha_F4  MeanF_Alpha_F4  \\\n",
            "0           W         0.00051           8.74146        18.48195   \n",
            "1           W         0.00040          10.24000        17.48293   \n",
            "2           W         0.00036           9.74049        17.98244   \n",
            "3           W         0.00035          10.11512        17.60780   \n",
            "4           W         0.00033           9.74049        17.60780   \n",
            "\n",
            "   Spectral Edge_Alpha_F4  PeakF_Alpha_F4  MeanP_Beta_F4  MedianF_Beta_F4  \\\n",
            "0                17.48293         8.24195        0.00071         19.73073   \n",
            "1                16.85854        10.61463        0.00051         17.23317   \n",
            "2                17.48293         8.74146        0.00047         17.60780   \n",
            "3                17.10829         9.61561        0.00047         17.35805   \n",
            "4                17.23317         8.11707        0.00043         17.23317   \n",
            "\n",
            "   MeanF_Beta_F4  Spectral Edge_Beta_F4  ...  MeanP_Delta_O2  \\\n",
            "0       29.84585               33.84195  ...         0.00724   \n",
            "1       26.34927               29.34634  ...         0.00723   \n",
            "2       25.47512               28.22244  ...         0.00230   \n",
            "3       26.47415               28.72195  ...         0.00091   \n",
            "4       25.84976               28.09756  ...         0.00175   \n",
            "\n",
            "   MedianF_Delta_O2  MeanF_Delta_O2  Spectral Edge_Delta_O2  PeakF_Delta_O2  \\\n",
            "0           0.74927         3.87122                 1.99805         0.87415   \n",
            "1           0.49951         3.74634                 1.24878         0.49951   \n",
            "2           0.62439         5.24488                 2.12293         0.62439   \n",
            "3           0.87415         6.61854                 3.12195         0.62439   \n",
            "4           0.49951         5.74439                 2.24780         0.49951   \n",
            "\n",
            "   MeanP_Gamma_O2  MedianF_Gamma_O2  MeanF_Gamma_O2  Spectral Edge_Gamma_O2  \\\n",
            "0        0.000210          35.21561        42.20878                49.95122   \n",
            "1        0.000095          34.34146        43.33268                49.95122   \n",
            "2        0.000074          34.59122        45.95512                49.95122   \n",
            "3        0.000082          32.46829        43.95707                49.95122   \n",
            "4        0.000077          33.59220        44.83122                49.95122   \n",
            "\n",
            "   PeakF_Gamma_O2  \n",
            "0        49.95122  \n",
            "1        49.95122  \n",
            "2        49.95122  \n",
            "3        49.95122  \n",
            "4        49.95122  \n",
            "\n",
            "[5 rows x 76 columns]\n"
          ]
        }
      ]
    },
    {
      "cell_type": "code",
      "source": [
        "X= dataset.iloc[:, 1:]\n",
        "y = dataset.iloc[:, 0]"
      ],
      "metadata": {
        "id": "ZiUZEkqqHPzz"
      },
      "execution_count": 18,
      "outputs": []
    },
    {
      "cell_type": "code",
      "source": [
        "X_train, X_test, y_train, y_test = train_test_split(X, y, test_size = 0.2, random_state = 0)"
      ],
      "metadata": {
        "id": "fioo5WAgHRzV"
      },
      "execution_count": 19,
      "outputs": []
    },
    {
      "cell_type": "code",
      "source": [
        "from sklearn.preprocessing import StandardScaler\n",
        "sc = StandardScaler()\n",
        "X_train =sc.fit_transform(X_train)\n",
        "\n",
        "X_test =sc.fit_transform(X_test)"
      ],
      "metadata": {
        "id": "TunbD49oD7xM"
      },
      "execution_count": 20,
      "outputs": []
    },
    {
      "cell_type": "code",
      "source": [
        "import xgboost as xgb\n",
        "from sklearn.metrics import accuracy_score\n",
        "N=25\n",
        "k_range = range (8,N+1)\n",
        "scores={}\n",
        "scores_list = []\n",
        "for k in k_range:\n",
        "  xgb_classifier = xgb.XGBClassifier(max_depth=k)\n",
        "  xgb_classifier.fit(X_train, y_train)\n",
        "  y_pred=xgb_classifier.predict(X_test)\n",
        "  scores[k] = accuracy_score(y_test,y_pred)\n",
        "  scores_list.append(accuracy_score(y_test,y_pred))\n",
        "  print(str(k)+\"/\"+str(N)+\" round completed......................... Accurecy: \"+str(accuracy_score(y_test,y_pred)))"
      ],
      "metadata": {
        "colab": {
          "base_uri": "https://localhost:8080/"
        },
        "id": "Z3H9qpKRD5Nu",
        "outputId": "b2a2b75b-67b8-4a26-ba0b-8a5c4d8fd07e"
      },
      "execution_count": 21,
      "outputs": [
        {
          "output_type": "stream",
          "name": "stdout",
          "text": [
            "8/25 round completed......................... Accurecy: 0.7459775943939883\n",
            "9/25 round completed......................... Accurecy: 0.7563505601401503\n",
            "10/25 round completed......................... Accurecy: 0.753400027661242\n",
            "11/25 round completed......................... Accurecy: 0.7593932967590244\n",
            "12/25 round completed......................... Accurecy: 0.7599004195288368\n",
            "13/25 round completed......................... Accurecy: 0.7575953160296898\n",
            "14/25 round completed......................... Accurecy: 0.7615600940482228\n",
            "15/25 round completed......................... Accurecy: 0.7649716472269605\n",
            "16/25 round completed......................... Accurecy: 0.762159420958001\n",
            "17/25 round completed......................... Accurecy: 0.7594393988290075\n",
            "18/25 round completed......................... Accurecy: 0.7632197685676086\n",
            "19/25 round completed......................... Accurecy: 0.7615600940482228\n",
            "20/25 round completed......................... Accurecy: 0.758978378129178\n",
            "21/25 round completed......................... Accurecy: 0.7612373795583421\n",
            "22/25 round completed......................... Accurecy: 0.7612373795583421\n",
            "23/25 round completed......................... Accurecy: 0.7615139919782398\n",
            "24/25 round completed......................... Accurecy: 0.7580102346595362\n",
            "25/25 round completed......................... Accurecy: 0.7608685629984786\n"
          ]
        }
      ]
    },
    {
      "cell_type": "code",
      "source": [
        "%matplotlib inline\n",
        "import matplotlib.pyplot as plt\n",
        "#plot the relationship between K and the testing accuracy\n",
        "plt.figure(figsize = (25,10))\n",
        "plt.plot(k_range,scores_list)\n",
        "plt.xlabel('Value of max depth')\n",
        "plt.ylabel ('Testing Accuracy')"
      ],
      "metadata": {
        "colab": {
          "base_uri": "https://localhost:8080/",
          "height": 569
        },
        "id": "2-nFB1TxGK5y",
        "outputId": "d9c9e03f-6dc2-46eb-8672-5daf2dda6341"
      },
      "execution_count": 29,
      "outputs": [
        {
          "output_type": "execute_result",
          "data": {
            "text/plain": [
              "Text(0, 0.5, 'Testing Accuracy')"
            ]
          },
          "metadata": {},
          "execution_count": 29
        },
        {
          "output_type": "display_data",
          "data": {
            "text/plain": [
              "<Figure size 1800x720 with 1 Axes>"
            ],
            "image/png": "[encoded data removed]"
          },
          "metadata": {
            "needs_background": "light"
          }
        }
      ]
    },
    {
      "cell_type": "code",
      "source": [
        "print(\"The best max depth:\")\n",
        "best=list(scores.keys())[scores_list.index(max(scores_list))]\n",
        "print(best)"
      ],
      "metadata": {
        "colab": {
          "base_uri": "https://localhost:8080/"
        },
        "id": "Lv_p7RIjGW3B",
        "outputId": "411b9d93-cc85-44e0-99a4-64495d14841f"
      },
      "execution_count": 30,
      "outputs": [
        {
          "output_type": "stream",
          "name": "stdout",
          "text": [
            "The best max depth:\n",
            "15\n"
          ]
        }
      ]
    },
    {
      "cell_type": "code",
      "source": [
        "xgb_classifier = xgb.XGBClassifier(max_depth=best)\n",
        "xgb_classifier.fit(X_train,y_train)\n",
        "predictions = xgb_classifier.predict(X_test)"
      ],
      "metadata": {
        "id": "Ks79riunj349"
      },
      "execution_count": 33,
      "outputs": []
    },
    {
      "cell_type": "code",
      "source": [
        "from sklearn.metrics import classification_report, confusion_matrix, accuracy_score\n",
        "print(confusion_matrix(y_test, predictions))\n",
        "print(classification_report(y_test,predictions))\n",
        "print(\"Accurecy: \",accuracy_score(y_test, predictions))"
      ],
      "metadata": {
        "id": "v1pz7ukFHmd9",
        "colab": {
          "base_uri": "https://localhost:8080/"
        },
        "outputId": "332a8a27-70d8-4cc6-fe59-122f8a5d5a25"
      },
      "execution_count": 34,
      "outputs": [
        {
          "output_type": "stream",
          "name": "stdout",
          "text": [
            "[[ 809  772    9  203  575]\n",
            " [ 234 6842  517  105  193]\n",
            " [   6  770 3446    4   28]\n",
            " [ 246  926   23 2072  107]\n",
            " [ 204  143    9   24 3424]]\n",
            "              precision    recall  f1-score   support\n",
            "\n",
            "          N1       0.54      0.34      0.42      2368\n",
            "          N2       0.72      0.87      0.79      7891\n",
            "          N3       0.86      0.81      0.83      4254\n",
            "           R       0.86      0.61      0.72      3374\n",
            "           W       0.79      0.90      0.84      3804\n",
            "\n",
            "    accuracy                           0.76     21691\n",
            "   macro avg       0.76      0.71      0.72     21691\n",
            "weighted avg       0.76      0.76      0.76     21691\n",
            "\n",
            "Accurecy:  0.7649716472269605\n"
          ]
        }
      ]
    },
    {
      "cell_type": "code",
      "source": [
        "cm = confusion_matrix(y_test, predictions)\n",
        "import seaborn as sn\n",
        "import matplotlib.pyplot as plt\n",
        "plt.figure(figsize = (15,10))\n",
        "sn.heatmap(cm, annot=True, fmt='d') # here, cm is called to be visualized\n",
        "plt.xlabel('Predicted',fontsize=14.0, fontweight='bold')\n",
        "plt.ylabel('Truth',fontsize=12.0, fontweight='bold')"
      ],
      "metadata": {
        "id": "JDq24RBzHWej",
        "outputId": "ae321a81-acb8-43e1-f651-c645668802d0",
        "colab": {
          "base_uri": "https://localhost:8080/",
          "height": 628
        }
      },
      "execution_count": 35,
      "outputs": [
        {
          "output_type": "execute_result",
          "data": {
            "text/plain": [
              "Text(114.0, 0.5, 'Truth')"
            ]
          },
          "metadata": {},
          "execution_count": 35
        },
        {
          "output_type": "display_data",
          "data": {
            "text/plain": [
              "<Figure size 1080x720 with 2 Axes>"
            ],
            "image/png": "[encoded data removed]"
          },
          "metadata": {
            "needs_background": "light"
          }
        }
      ]
    },
    {
      "cell_type": "code",
      "source": [
        "def confusion_details(y_test,y_pred):\n",
        "    labels = list(set(y_test))\n",
        "    labels.sort()\n",
        "\n",
        "    print(\"Total labels: %s -> %s\" % (len(labels), labels))\n",
        "\n",
        "    df = pd.DataFrame(\n",
        "        data=confusion_matrix(y_test, y_pred, labels=labels),\n",
        "        columns=labels,\n",
        "        index=labels\n",
        "    )\n",
        "\n",
        "    print(df)\n",
        "\n",
        "    print()\n",
        "    print(\"----------------------------------------------------------------------------------------\")\n",
        "    print(\"----------------------------------------------------------------------------------------\")\n",
        "    print()\n",
        "    #\n",
        "    # Local (metrics per class)\n",
        "    #\n",
        "    tps = {}\n",
        "    fps = {}\n",
        "    fns = {}\n",
        "    tns = {}\n",
        "\n",
        "    precision_local = {}\n",
        "    recall_local = {}\n",
        "    f1_local = {}\n",
        "    accuracy_local = {}\n",
        "    specificity_local={}\n",
        "\n",
        "    for label in labels:\n",
        "        tps[label] = df.loc[label, label]\n",
        "        fps[label] = df[label].sum() - tps[label]\n",
        "        fns[label] = df.loc[label].sum() - tps[label]\n",
        "        tns[label]=len(y_test) - (tps[label] + fps[label] + fns[label])\n",
        "        \n",
        "        tp, fp, fn, tn = tps[label], fps[label], fns[label], tns[label]\n",
        "        \n",
        "        precision_local[label] = tp / (tp + fp) if (tp + fp) > 0. else 0.\n",
        "        specificity_local[label] = tn / (tn + fp) if (tn + fp) > 0. else 0.\n",
        "        recall_local[label] = tp / (tp + fn) if (tp + fp) > 0. else 0.\n",
        "        p, r = precision_local[label], recall_local[label]\n",
        "        \n",
        "        f1_local[label] = 2. * p * r / (p + r) if (p + r) > 0. else 0.\n",
        "        accuracy_local[label] = tp / (tp + fp + fn) if (tp + fp + fn) > 0. else 0.\n",
        "\n",
        "\n",
        "\n",
        "    print(\"#-- Local measures --#\")\n",
        "    print(\"True Positives(TP):\", tps)\n",
        "    print(\"False Positives(FP):\", fps)\n",
        "    print(\"True Negatives(TN):\", tns)\n",
        "    print(\"False Negatives(FN):\", fns)\n",
        "    print(\"----------------------------\")\n",
        "\n",
        "    print(\"Precision:\", precision_local)\n",
        "    print(\"Recall/Sensitivity:\", recall_local)\n",
        "    print(\"Specificity:\",specificity_local)\n",
        "    print(\"F1-Score:\", f1_local)\n",
        "    print(\"Accuracy:\", accuracy_local)\n",
        "\n",
        "\n",
        "    print()\n",
        "    print(\"----------------------------------------------------------------------------------------\")\n",
        "    print(\"----------------------------------------------------------------------------------------\")\n",
        "    print()\n",
        "    #\n",
        "    # Global\n",
        "    #\n",
        "    micro_averages = {}\n",
        "    macro_averages = {}\n",
        "\n",
        "    correct_predictions = sum(tps.values())\n",
        "    true_negative=sum(tns.values())\n",
        "\n",
        "    den = sum(list(tps.values()) + list(fps.values()))\n",
        "    micro_averages[\"Precision\"] = 1. * correct_predictions / den if den > 0. else 0.\n",
        "\n",
        "    den = sum(list(tps.values()) + list(fns.values()))\n",
        "    micro_averages[\"Recall\"] = 1. * correct_predictions / den if den > 0. else 0.\n",
        "\n",
        "    den = sum(list(tns.values()) + list(fps.values()))\n",
        "    micro_averages[\"Specificity\"] = 1. * true_negative / den if den > 0. else 0.\n",
        "\n",
        "\n",
        "    micro_avg_p, micro_avg_r = micro_averages[\"Precision\"], micro_averages[\"Recall\"]\n",
        "    micro_averages[\"F1-score\"] = 2. * micro_avg_p * micro_avg_r / (micro_avg_p + micro_avg_r) if (micro_avg_p + micro_avg_r) > 0. else 0.\n",
        "\n",
        "    macro_averages[\"Precision\"] = np.mean(list(precision_local.values()))\n",
        "    macro_averages[\"Recall\"] = np.mean(list(recall_local.values()))\n",
        "    macro_averages[\"Specificity\"]=np.mean(list(specificity_local.values()))\n",
        "\n",
        "\n",
        "    macro_avg_p, macro_avg_r = macro_averages[\"Precision\"], macro_averages[\"Recall\"]\n",
        "    macro_averages[\"F1-Score\"] = 2. * macro_avg_p * macro_avg_r / (macro_avg_p + macro_avg_r) if (macro_avg_p + macro_avg_r) > 0. else 0.\n",
        "\n",
        "    total_predictions = df.values.sum()\n",
        "    accuracy_global = correct_predictions / total_predictions if total_predictions > 0. else 0.\n",
        "\n",
        "    print(\"#-- Global measures --#\")\n",
        "    print(\"Micro-Averages:\", micro_averages)\n",
        "    print(\"Macro-Averages:\", macro_averages)\n",
        "    print(\"Correct predictions:\", correct_predictions)\n",
        "    print(\"Total predictions:\", total_predictions)\n",
        "    print(\"Accuracy:\", accuracy_global)\n",
        "\n",
        "\n",
        "    print()\n",
        "    print(\"----------------------------------------------------------------------------------------\")\n",
        "    print(\"----------------------------------------------------------------------------------------\")\n",
        "    print()\n",
        "\n",
        "\n",
        "\n",
        "    accuracy_local_new = {}\n",
        "    for label in labels:\n",
        "        tp, fp, fn, tn = tps[label], fps[label], fns[label], tns[label]\n",
        "        accuracy_local_new[label] = (tp + tn) / (tp + fp + fn + tn) if (tp + fp + fn + tn) > 0. else 0.\n",
        "\n",
        "    total_true = sum(list(tps.values()) + list(tns.values()))\n",
        "    total_predictions = sum(list(tps.values()) + list(tns.values()) + list(fps.values()) + list(fns.values()))\n",
        "    accuracy_global_new = 1. * total_true / total_predictions if total_predictions > 0. else 0.\n",
        "\n",
        "    print(\"Accuracy (per class), with TNs:\", accuracy_local_new)\n",
        "    print(\"Accuracy (per class), without TNs:\", accuracy_local)\n",
        "    print(\"Accuracy (global), with TNs:\", accuracy_global_new)\n",
        "    print(\"Accuracy (global), without TNs:\", accuracy_global)"
      ],
      "metadata": {
        "id": "2lHVzLpsq7iF"
      },
      "execution_count": 36,
      "outputs": []
    },
    {
      "cell_type": "code",
      "source": [
        "confusion_details(y_test,predictions)"
      ],
      "metadata": {
        "id": "6n4unbqCrevk",
        "outputId": "1e40cc84-f01c-4df8-ccda-aaa350d2b230",
        "colab": {
          "base_uri": "https://localhost:8080/"
        }
      },
      "execution_count": 28,
      "outputs": [
        {
          "output_type": "stream",
          "name": "stdout",
          "text": [
            "Total labels: 5 -> ['N1', 'N2', 'N3', 'R', 'W']\n",
            "     N1    N2    N3     R     W\n",
            "N1  375   837    29   251   876\n",
            "N2  106  6361   841   157   426\n",
            "N3    6   975  3180     1    92\n",
            "R   167  1380    73  1536   218\n",
            "W   119   184    21    38  3442\n",
            "\n",
            "----------------------------------------------------------------------------------------\n",
            "----------------------------------------------------------------------------------------\n",
            "\n",
            "#-- Local measures --#\n",
            "True Positives(TP): {'N1': 375, 'N2': 6361, 'N3': 3180, 'R': 1536, 'W': 3442}\n",
            "False Positives(FP): {'N1': 398, 'N2': 3376, 'N3': 964, 'R': 447, 'W': 1612}\n",
            "True Negatives(TN): {'N1': 18925, 'N2': 10424, 'N3': 16473, 'R': 17870, 'W': 16275}\n",
            "False Negatives(FN): {'N1': 1993, 'N2': 1530, 'N3': 1074, 'R': 1838, 'W': 362}\n",
            "----------------------------\n",
            "Precision: {'N1': 0.4851228978007762, 'N2': 0.6532812981411112, 'N3': 0.7673745173745173, 'R': 0.7745839636913767, 'W': 0.6810447170557974}\n",
            "Recall/Sensitivity: {'N1': 0.15836148648648649, 'N2': 0.8061082245596249, 'N3': 0.7475317348377997, 'R': 0.45524599881446354, 'W': 0.9048370136698213}\n",
            "Specificity: {'N1': 0.9794027842467525, 'N2': 0.7553623188405797, 'N3': 0.9447152606526352, 'R': 0.9755964404651417, 'W': 0.9098786828422877}\n",
            "F1-Score: {'N1': 0.23877745940783188, 'N2': 0.7216927615157703, 'N3': 0.7573231721838533, 'R': 0.5734552921411238, 'W': 0.777150598329194}\n",
            "Accuracy: {'N1': 0.13557483731019523, 'N2': 0.5645690955888879, 'N3': 0.6094288999616712, 'R': 0.40198900811305943, 'W': 0.6355243722304283}\n",
            "\n",
            "----------------------------------------------------------------------------------------\n",
            "----------------------------------------------------------------------------------------\n",
            "\n",
            "#-- Global measures --#\n",
            "Micro-Averages: {'Precision': 0.6866442303259417, 'Recall': 0.6866442303259417, 'Specificity': 0.9216610575814854, 'F1-score': 0.6866442303259417}\n",
            "Macro-Averages: {'Precision': 0.6722814788127158, 'Recall': 0.6144168916736392, 'Specificity': 0.9129910974094795, 'F1-Score': 0.6420480603946591}\n",
            "Correct predictions: 14894\n",
            "Total predictions: 21691\n",
            "Accuracy: 0.6866442303259417\n",
            "\n",
            "----------------------------------------------------------------------------------------\n",
            "----------------------------------------------------------------------------------------\n",
            "\n",
            "Accuracy (per class), with TNs: {'N1': 0.8897699506707851, 'N2': 0.7738232446636854, 'N3': 0.9060439813747637, 'R': 0.894656770088977, 'W': 0.908994513853672}\n",
            "Accuracy (per class), without TNs: {'N1': 0.13557483731019523, 'N2': 0.5645690955888879, 'N3': 0.6094288999616712, 'R': 0.40198900811305943, 'W': 0.6355243722304283}\n",
            "Accuracy (global), with TNs: 0.8746576921303767\n",
            "Accuracy (global), without TNs: 0.6866442303259417\n"
          ]
        }
      ]
    }
  ]
}